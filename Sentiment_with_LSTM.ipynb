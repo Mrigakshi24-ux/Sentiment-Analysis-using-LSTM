{
  "nbformat": 4,
  "nbformat_minor": 0,
  "metadata": {
    "colab": {
      "name": "Sentiment_with_LSTM.ipynb",
      "provenance": [],
      "collapsed_sections": [],
      "mount_file_id": "1pxR40rX-WkZl8686jtjDQslygHSxnA-m",
      "authorship_tag": "ABX9TyOKrWZmraT6gE+X70F+7OZW",
      "include_colab_link": true
    },
    "kernelspec": {
      "display_name": "Python 3",
      "name": "python3"
    },
    "accelerator": "GPU"
  },
  "cells": [
    {
      "cell_type": "markdown",
      "metadata": {
        "id": "view-in-github",
        "colab_type": "text"
      },
      "source": [
        "<a href=\"https://colab.research.google.com/github/Mrigakshi24-ux/Sentiment-Analysis-using-LSTM/blob/main/Sentiment_with_LSTM.ipynb\" target=\"_parent\"><img src=\"https://colab.research.google.com/assets/colab-badge.svg\" alt=\"Open In Colab\"/></a>"
      ]
    },
    {
      "cell_type": "markdown",
      "metadata": {
        "id": "y9yxnIx8Dtrg"
      },
      "source": [
        "Importing the libraries"
      ]
    },
    {
      "cell_type": "code",
      "metadata": {
        "colab": {
          "base_uri": "https://localhost:8080/"
        },
        "id": "fR8t83LKRx_A",
        "outputId": "17a9ac34-d896-4ee2-9815-c24bc59249c8"
      },
      "source": [
        "from string import punctuation as pt                  \n",
        "import nltk\n",
        "nltk.download('stopwords')\n",
        "from nltk.corpus import stopwords \n",
        "from collections import Counter \n",
        "import pandas as pd\n",
        "import numpy as np\n",
        "from keras import Sequential\n",
        "from keras.layers import LSTM, Dense, Flatten, Dropout\n",
        "from keras.layers.embeddings import Embedding\n",
        "from sklearn.metrics import mean_squared_error\n",
        "from sklearn.model_selection import train_test_split"
      ],
      "execution_count": 50,
      "outputs": [
        {
          "output_type": "stream",
          "text": [
            "[nltk_data] Downloading package stopwords to /root/nltk_data...\n",
            "[nltk_data]   Package stopwords is already up-to-date!\n"
          ],
          "name": "stdout"
        }
      ]
    },
    {
      "cell_type": "markdown",
      "metadata": {
        "id": "0jVengQJSDWf"
      },
      "source": [
        "Steps:\n",
        "1.  Read data.\n",
        "2.  Cleaning.\n",
        "3.  Make a vocabulary (Dictionary of words wrt to index)\n",
        "4.  Splitting into tokens.\n",
        "5.  Convert into vectors.\n",
        "6.  Encode labels.\n",
        "7.  Removing strings with length zero.\n",
        "8.  Padding and restricting the string length to a given number.\n",
        "9. Splitting into training, and testing set.\n",
        "10. Building up the LSTM model\n",
        "11. Training and evaluating the model\n",
        "12. Predicting the accuracy of the model.\n",
        "13. Testing the model on random data"
      ]
    },
    {
      "cell_type": "markdown",
      "metadata": {
        "id": "TpYp2L9hD3C8"
      },
      "source": [
        "### **Reading the data**"
      ]
    },
    {
      "cell_type": "code",
      "metadata": {
        "id": "GeDHQ1DRPkFJ"
      },
      "source": [
        "with open ('/content/drive/MyDrive/Datasets/reviews.txt', 'r') as f:\n",
        "  reviews = f.read()\n",
        "with open ('/content/drive/MyDrive/Datasets/labels.txt', 'r') as f:\n",
        "  labels = f.read()"
      ],
      "execution_count": 51,
      "outputs": []
    },
    {
      "cell_type": "code",
      "metadata": {
        "colab": {
          "base_uri": "https://localhost:8080/",
          "height": 70
        },
        "id": "wEwuiawoQYYG",
        "outputId": "fb4474f7-585f-4bb3-ce9c-067d6e09049d"
      },
      "source": [
        "reviews[:300]"
      ],
      "execution_count": 52,
      "outputs": [
        {
          "output_type": "execute_result",
          "data": {
            "application/vnd.google.colaboratory.intrinsic+json": {
              "type": "string"
            },
            "text/plain": [
              "'bromwell high is a cartoon comedy . it ran at the same time as some other programs about school life  such as  teachers  . my   years in the teaching profession lead me to believe that bromwell high  s satire is much closer to reality than is  teachers  . the scramble to survive financially  the ins'"
            ]
          },
          "metadata": {
            "tags": []
          },
          "execution_count": 52
        }
      ]
    },
    {
      "cell_type": "code",
      "metadata": {
        "colab": {
          "base_uri": "https://localhost:8080/",
          "height": 35
        },
        "id": "FJOh1CodR0r7",
        "outputId": "57a5e2aa-09b7-4aa5-adc1-febc8086c338"
      },
      "source": [
        "labels[:10]"
      ],
      "execution_count": 53,
      "outputs": [
        {
          "output_type": "execute_result",
          "data": {
            "application/vnd.google.colaboratory.intrinsic+json": {
              "type": "string"
            },
            "text/plain": [
              "'positive\\nn'"
            ]
          },
          "metadata": {
            "tags": []
          },
          "execution_count": 53
        }
      ]
    },
    {
      "cell_type": "code",
      "metadata": {
        "colab": {
          "base_uri": "https://localhost:8080/"
        },
        "id": "aRoYG5kQufp3",
        "outputId": "7ff9058d-6fdf-4681-97a2-26f400ee1496"
      },
      "source": [
        "# total length of the reviews\n",
        "reviews = reviews.split('\\n')\n",
        "len(reviews)"
      ],
      "execution_count": 54,
      "outputs": [
        {
          "output_type": "execute_result",
          "data": {
            "text/plain": [
              "25001"
            ]
          },
          "metadata": {
            "tags": []
          },
          "execution_count": 54
        }
      ]
    },
    {
      "cell_type": "code",
      "metadata": {
        "colab": {
          "base_uri": "https://localhost:8080/"
        },
        "id": "vb-ZEfP02ZGJ",
        "outputId": "c66b1800-cb22-41dc-c4e0-4b5681193bb0"
      },
      "source": [
        "reviews[:10]"
      ],
      "execution_count": 55,
      "outputs": [
        {
          "output_type": "execute_result",
          "data": {
            "text/plain": [
              "['bromwell high is a cartoon comedy . it ran at the same time as some other programs about school life  such as  teachers  . my   years in the teaching profession lead me to believe that bromwell high  s satire is much closer to reality than is  teachers  . the scramble to survive financially  the insightful students who can see right through their pathetic teachers  pomp  the pettiness of the whole situation  all remind me of the schools i knew and their students . when i saw the episode in which a student repeatedly tried to burn down the school  i immediately recalled . . . . . . . . . at . . . . . . . . . . high . a classic line inspector i  m here to sack one of your teachers . student welcome to bromwell high . i expect that many adults of my age think that bromwell high is far fetched . what a pity that it isn  t   ',\n",
              " 'story of a man who has unnatural feelings for a pig . starts out with a opening scene that is a terrific example of absurd comedy . a formal orchestra audience is turned into an insane  violent mob by the crazy chantings of it  s singers . unfortunately it stays absurd the whole time with no general narrative eventually making it just too off putting . even those from the era should be turned off . the cryptic dialogue would make shakespeare seem easy to a third grader . on a technical level it  s better than you might think with some good cinematography by future great vilmos zsigmond . future stars sally kirkland and frederic forrest can be seen briefly .  ',\n",
              " 'homelessness  or houselessness as george carlin stated  has been an issue for years but never a plan to help those on the street that were once considered human who did everything from going to school  work  or vote for the matter . most people think of the homeless as just a lost cause while worrying about things such as racism  the war on iraq  pressuring kids to succeed  technology  the elections  inflation  or worrying if they  ll be next to end up on the streets .  br    br   but what if you were given a bet to live on the streets for a month without the luxuries you once had from a home  the entertainment sets  a bathroom  pictures on the wall  a computer  and everything you once treasure to see what it  s like to be homeless  that is goddard bolt  s lesson .  br    br   mel brooks  who directs  who stars as bolt plays a rich man who has everything in the world until deciding to make a bet with a sissy rival  jeffery tambor  to see if he can live in the streets for thirty days without the luxuries if bolt succeeds  he can do what he wants with a future project of making more buildings . the bet  s on where bolt is thrown on the street with a bracelet on his leg to monitor his every move where he can  t step off the sidewalk . he  s given the nickname pepto by a vagrant after it  s written on his forehead where bolt meets other characters including a woman by the name of molly  lesley ann warren  an ex  dancer who got divorce before losing her home  and her pals sailor  howard morris  and fumes  teddy wilson  who are already used to the streets . they  re survivors . bolt isn  t . he  s not used to reaching mutual agreements like he once did when being rich where it  s fight or flight  kill or be killed .  br    br   while the love connection between molly and bolt wasn  t necessary to plot  i found  life stinks  to be one of mel brooks  observant films where prior to being a comedy  it shows a tender side compared to his slapstick work such as blazing saddles  young frankenstein  or spaceballs for the matter  to show what it  s like having something valuable before losing it the next day or on the other hand making a stupid bet like all rich people do when they don  t know what to do with their money . maybe they should give it to the homeless instead of using it like monopoly money .  br    br   or maybe this film will inspire you to help others .  ',\n",
              " 'airport    starts as a brand new luxury    plane is loaded up with valuable paintings  such belonging to rich businessman philip stevens  james stewart  who is flying them  a bunch of vip  s to his estate in preparation of it being opened to the public as a museum  also on board is stevens daughter julie  kathleen quinlan   her son . the luxury jetliner takes off as planned but mid  air the plane is hi  jacked by the co  pilot chambers  robert foxworth   his two accomplice  s banker  monte markham   wilson  michael pataki  who knock the passengers  crew out with sleeping gas  they plan to steal the valuable cargo  land on a disused plane strip on an isolated island but while making his descent chambers almost hits an oil rig in the ocean  loses control of the plane sending it crashing into the sea where it sinks to the bottom right bang in the middle of the bermuda triangle . with air in short supply  water leaking in  having flown over    miles off course the problems mount for the survivor  s as they await help with time fast running out . . .  br    br   also known under the slightly different tile airport     this second sequel to the smash  hit disaster thriller airport       was directed by jerry jameson  while once again like it  s predecessors i can  t say airport    is any sort of forgotten classic it is entertaining although not necessarily for the right reasons . out of the three airport films i have seen so far i actually liked this one the best  just . it has my favourite plot of the three with a nice mid  air hi  jacking  then the crashing  didn  t he see the oil rig    sinking of the     maybe the makers were trying to cross the original airport with another popular disaster flick of the period the poseidon adventure         submerged is where it stays until the end with a stark dilemma facing those trapped inside  either suffocate when the air runs out or drown as the    floods or if any of the doors are opened  it  s a decent idea that could have made for a great little disaster flick but bad unsympathetic character  s  dull dialogue  lethargic set  pieces  a real lack of danger or suspense or tension means this is a missed opportunity . while the rather sluggish plot keeps one entertained for    odd minutes not that much happens after the plane sinks  there  s not as much urgency as i thought there should have been . even when the navy become involved things don  t pick up that much with a few shots of huge ships  helicopters flying about but there  s just something lacking here . george kennedy as the jinxed airline worker joe patroni is back but only gets a couple of scenes  barely even says anything preferring to just look worried in the background .  br    br   the home video  theatrical version of airport    run    minutes while the us tv versions add an extra hour of footage including a new opening credits sequence  many more scenes with george kennedy as patroni  flashbacks to flesh out character  s  longer rescue scenes  the discovery or another couple of dead bodies including the navigator . while i would like to see this extra footage i am not sure i could sit through a near three hour cut of airport    . as expected the film has dated badly with horrible fashions  interior design choices  i will say no more other than the toy plane model effects aren  t great either . along with the other two airport sequels this takes pride of place in the razzie award  s hall of shame although i can think of lots of worse films than this so i reckon that  s a little harsh . the action scenes are a little dull unfortunately  the pace is slow  not much excitement or tension is generated which is a shame as i reckon this could have been a pretty good film if made properly .  br    br   the production values are alright if nothing spectacular . the acting isn  t great  two time oscar winner jack lemmon has said since it was a mistake to star in this  one time oscar winner james stewart looks old  frail  also one time oscar winner lee grant looks drunk while sir christopher lee is given little to do  there are plenty of other familiar faces to look out for too .  br    br   airport    is the most disaster orientated of the three airport films so far  i liked the ideas behind it even if they were a bit silly  the production  bland direction doesn  t help though  a film about a sunken plane just shouldn  t be this boring or lethargic . followed by the concorde . . . airport          .  ',\n",
              " 'brilliant over  acting by lesley ann warren . best dramatic hobo lady i have ever seen  and love scenes in clothes warehouse are second to none . the corn on face is a classic  as good as anything in blazing saddles . the take on lawyers is also superb . after being accused of being a turncoat  selling out his boss  and being dishonest the lawyer of pepto bolt shrugs indifferently  i  m a lawyer  he says . three funny words . jeffrey tambor  a favorite from the later larry sanders show  is fantastic here too as a mad millionaire who wants to crush the ghetto . his character is more malevolent than usual . the hospital scene  and the scene where the homeless invade a demolition site  are all  time classics . look for the legs scene and the two big diggers fighting  one bleeds  . this movie gets better each time i see it  which is quite often  .  ',\n",
              " 'this film lacked something i couldn  t put my finger on at first charisma on the part of the leading actress . this inevitably translated to lack of chemistry when she shared the screen with her leading man . even the romantic scenes came across as being merely the actors at play . it could very well have been the director who miscalculated what he needed from the actors . i just don  t know .  br    br   but could it have been the screenplay  just exactly who was the chef in love with  he seemed more enamored of his culinary skills and restaurant  and ultimately of himself and his youthful exploits  than of anybody or anything else . he never convinced me he was in love with the princess .  br    br   i was disappointed in this movie . but  don  t forget it was nominated for an oscar  so judge for yourself .  ',\n",
              " 'this is easily the most underrated film inn the brooks cannon . sure  its flawed . it does not give a realistic view of homelessness  unlike  say  how citizen kane gave a realistic view of lounge singers  or titanic gave a realistic view of italians you idiots  . many of the jokes fall flat . but still  this film is very lovable in a way many comedies are not  and to pull that off in a story about some of the most traditionally reviled members of society is truly impressive . its not the fisher king  but its not crap  either . my only complaint is that brooks should have cast someone else in the lead  i love mel as a director and writer  not so much as a lead  .  ',\n",
              " 'sorry everyone    i know this is supposed to be an  art  film   but wow  they should have handed out guns at the screening so people could blow their brains out and not watch . although the scene design and photographic direction was excellent  this story is too painful to watch . the absence of a sound track was brutal . the loooonnnnng shots were too long . how long can you watch two people just sitting there and talking  especially when the dialogue is two people complaining . i really had a hard time just getting through this film . the performances were excellent  but how much of that dark  sombre  uninspired  stuff can you take  the only thing i liked was maureen stapleton and her red dress and dancing scene . otherwise this was a ripoff of bergman . and i  m no fan f his either . i think anyone who says they enjoyed     hours of this is   well  lying .  ',\n",
              " 'this is not the typical mel brooks film . it was much less slapstick than most of his movies and actually had a plot that was followable . leslie ann warren made the movie  she is such a fantastic  under  rated actress . there were some moments that could have been fleshed out a bit more  and some scenes that could probably have been cut to make the room to do so  but all in all  this is worth the price to rent and see it . the acting was good overall  brooks himself did a good job without his characteristic speaking to directly to the audience . again  warren was the best actor in the movie  but  fume  and  sailor  both played their parts well .  ',\n",
              " 'when i was little my parents took me along to the theater to see interiors . it was one of many movies i watched with my parents  but this was the only one we walked out of . since then i had never seen interiors until just recently  and i could have lived out the rest of my life without it . what a pretentious  ponderous  and painfully boring piece of    s wine and cheese tripe . woody allen is one of my favorite directors but interiors is by far the worst piece of crap of his career . in the unmistakable style of ingmar berman  allen gives us a dark  angular  muted  insight in to the lives of a family wrought by the psychological damage caused by divorce  estrangement  career  love  non  love  halitosis  whatever . the film  intentionally  has no comic relief  no music  and is drenched in shadowy pathos . this film style can be best defined as expressionist in nature  using an improvisational method of dialogue to illicit a  more pronounced depth of meaning and truth  . but woody allen is no ingmar bergman . the film is painfully slow and dull . but beyond that  i simply had no connection with or sympathy for any of the characters . instead i felt only contempt for this parade of shuffling  whining  nicotine stained  martyrs in a perpetual quest for identity . amid a backdrop of cosmopolitan affluence and baked brie intelligentsia the story looms like a fart in the room . everyone speaks in affected platitudes and elevated language between cigarettes . everyone is  lost  and  struggling   desperate to find direction or understanding or whatever and it just goes on and on to the point where you just want to slap all of them . it  s never about resolution  it  s only about interminable introspective babble . it is nothing more than a psychological drama taken to an extreme beyond the audience  s ability to connect . woody allen chose to make characters so immersed in themselves we feel left out . and for that reason i found this movie painfully self indulgent and spiritually draining . i see what he was going for but his insistence on promoting his message through prozac prose and distorted film techniques jettisons it past the point of relevance . i highly recommend this one if you  re feeling a little too happy and need something to remind you of death . otherwise  let  s just pretend this film never happened .  ']"
            ]
          },
          "metadata": {
            "tags": []
          },
          "execution_count": 55
        }
      ]
    },
    {
      "cell_type": "markdown",
      "metadata": {
        "id": "OM3nHJixSZrb"
      },
      "source": [
        " ### **Cleaning**\n",
        "    "
      ]
    },
    {
      "cell_type": "markdown",
      "metadata": {
        "id": "xr7vQ7nuLKPY"
      },
      "source": [
        "1. Removing the punctuation\n",
        "2. Converting to lower case\n",
        "3. Removing the stopwords"
      ]
    },
    {
      "cell_type": "code",
      "metadata": {
        "id": "K89Idi5KuvMN"
      },
      "source": [
        "# function to preprocess the dataset\n",
        "def clean(l):\n",
        "  new_reviews = []\n",
        "  stop = stopwords.words('english')\n",
        "  for i in l:\n",
        "    i = i.lower()                                                    # converting to lower case\n",
        "    i = ' '.join([c for c in i.split() if c not in stop])            # removing stopwords\n",
        "    i = ' '.join([c for c in i.split() if c not in pt])              # removing punctuation\n",
        "    new_reviews.append(i)\n",
        "  return new_reviews"
      ],
      "execution_count": 56,
      "outputs": []
    },
    {
      "cell_type": "code",
      "metadata": {
        "id": "ObU5GNuc1OW-"
      },
      "source": [
        "reviews_1 = clean(reviews)"
      ],
      "execution_count": 57,
      "outputs": []
    },
    {
      "cell_type": "code",
      "metadata": {
        "colab": {
          "base_uri": "https://localhost:8080/"
        },
        "id": "RrvXDgle1kVA",
        "outputId": "ac795d5b-b6bb-4038-9718-37dfcc200c36"
      },
      "source": [
        "reviews_1[:10]"
      ],
      "execution_count": 58,
      "outputs": [
        {
          "output_type": "execute_result",
          "data": {
            "text/plain": [
              "['bromwell high cartoon comedy ran time programs school life teachers years teaching profession lead believe bromwell high satire much closer reality teachers scramble survive financially insightful students see right pathetic teachers pomp pettiness whole situation remind schools knew students saw episode student repeatedly tried burn school immediately recalled high classic line inspector sack one teachers student welcome bromwell high expect many adults age think bromwell high far fetched pity',\n",
              " 'story man unnatural feelings pig starts opening scene terrific example absurd comedy formal orchestra audience turned insane violent mob crazy chantings singers unfortunately stays absurd whole time general narrative eventually making putting even era turned cryptic dialogue would make shakespeare seem easy third grader technical level better might think good cinematography future great vilmos zsigmond future stars sally kirkland frederic forrest seen briefly',\n",
              " 'homelessness houselessness george carlin stated issue years never plan help street considered human everything going school work vote matter people think homeless lost cause worrying things racism war iraq pressuring kids succeed technology elections inflation worrying next end streets br br given bet live streets month without luxuries home entertainment sets bathroom pictures wall computer everything treasure see like homeless goddard bolt lesson br br mel brooks directs stars bolt plays rich man everything world deciding make bet sissy rival jeffery tambor see live streets thirty days without luxuries bolt succeeds wants future project making buildings bet bolt thrown street bracelet leg monitor every move step sidewalk given nickname pepto vagrant written forehead bolt meets characters including woman name molly lesley ann warren ex dancer got divorce losing home pals sailor howard morris fumes teddy wilson already used streets survivors bolt used reaching mutual agreements like rich fight flight kill killed br br love connection molly bolt necessary plot found life stinks one mel brooks observant films prior comedy shows tender side compared slapstick work blazing saddles young frankenstein spaceballs matter show like something valuable losing next day hand making stupid bet like rich people know money maybe give homeless instead using like monopoly money br br maybe film inspire help others',\n",
              " 'airport starts brand new luxury plane loaded valuable paintings belonging rich businessman philip stevens james stewart flying bunch vip estate preparation opened public museum also board stevens daughter julie kathleen quinlan son luxury jetliner takes planned mid air plane hi jacked co pilot chambers robert foxworth two accomplice banker monte markham wilson michael pataki knock passengers crew sleeping gas plan steal valuable cargo land disused plane strip isolated island making descent chambers almost hits oil rig ocean loses control plane sending crashing sea sinks bottom right bang middle bermuda triangle air short supply water leaking flown miles course problems mount survivor await help time fast running br br also known slightly different tile airport second sequel smash hit disaster thriller airport directed jerry jameson like predecessors say airport sort forgotten classic entertaining although necessarily right reasons three airport films seen far actually liked one best favourite plot three nice mid air hi jacking crashing see oil rig sinking maybe makers trying cross original airport another popular disaster flick period poseidon adventure submerged stays end stark dilemma facing trapped inside either suffocate air runs drown floods doors opened decent idea could made great little disaster flick bad unsympathetic character dull dialogue lethargic set pieces real lack danger suspense tension means missed opportunity rather sluggish plot keeps one entertained odd minutes much happens plane sinks much urgency thought even navy become involved things pick much shots huge ships helicopters flying something lacking george kennedy jinxed airline worker joe patroni back gets couple scenes barely even says anything preferring look worried background br br home video theatrical version airport run minutes us tv versions add extra hour footage including new opening credits sequence many scenes george kennedy patroni flashbacks flesh character longer rescue scenes discovery another couple dead bodies including navigator would like see extra footage sure could sit near three hour cut airport expected film dated badly horrible fashions interior design choices say toy plane model effects great either along two airport sequels takes pride place razzie award hall shame although think lots worse films reckon little harsh action scenes little dull unfortunately pace slow much excitement tension generated shame reckon could pretty good film made properly br br production values alright nothing spectacular acting great two time oscar winner jack lemmon said since mistake star one time oscar winner james stewart looks old frail also one time oscar winner lee grant looks drunk sir christopher lee given little plenty familiar faces look br br airport disaster orientated three airport films far liked ideas behind even bit silly production bland direction help though film sunken plane boring lethargic followed concorde airport',\n",
              " 'brilliant acting lesley ann warren best dramatic hobo lady ever seen love scenes clothes warehouse second none corn face classic good anything blazing saddles take lawyers also superb accused turncoat selling boss dishonest lawyer pepto bolt shrugs indifferently lawyer says three funny words jeffrey tambor favorite later larry sanders show fantastic mad millionaire wants crush ghetto character malevolent usual hospital scene scene homeless invade demolition site time classics look legs scene two big diggers fighting one bleeds movie gets better time see quite often',\n",
              " 'film lacked something put finger first charisma part leading actress inevitably translated lack chemistry shared screen leading man even romantic scenes came across merely actors play could well director miscalculated needed actors know br br could screenplay exactly chef love seemed enamored culinary skills restaurant ultimately youthful exploits anybody anything else never convinced love princess br br disappointed movie forget nominated oscar judge',\n",
              " 'easily underrated film inn brooks cannon sure flawed give realistic view homelessness unlike say citizen kane gave realistic view lounge singers titanic gave realistic view italians idiots many jokes fall flat still film lovable way many comedies pull story traditionally reviled members society truly impressive fisher king crap either complaint brooks cast someone else lead love mel director writer much lead',\n",
              " 'sorry everyone know supposed art film wow handed guns screening people could blow brains watch although scene design photographic direction excellent story painful watch absence sound track brutal loooonnnnng shots long long watch two people sitting talking especially dialogue two people complaining really hard time getting film performances excellent much dark sombre uninspired stuff take thing liked maureen stapleton red dress dancing scene otherwise ripoff bergman fan f either think anyone says enjoyed hours well lying',\n",
              " 'typical mel brooks film much less slapstick movies actually plot followable leslie ann warren made movie fantastic rated actress moments could fleshed bit scenes could probably cut make room worth price rent see acting good overall brooks good job without characteristic speaking directly audience warren best actor movie fume sailor played parts well',\n",
              " 'little parents took along theater see interiors one many movies watched parents one walked since never seen interiors recently could lived rest life without pretentious ponderous painfully boring piece wine cheese tripe woody allen one favorite directors interiors far worst piece crap career unmistakable style ingmar berman allen gives us dark angular muted insight lives family wrought psychological damage caused divorce estrangement career love non love halitosis whatever film intentionally comic relief music drenched shadowy pathos film style best defined expressionist nature using improvisational method dialogue illicit pronounced depth meaning truth woody allen ingmar bergman film painfully slow dull beyond simply connection sympathy characters instead felt contempt parade shuffling whining nicotine stained martyrs perpetual quest identity amid backdrop cosmopolitan affluence baked brie intelligentsia story looms like fart room everyone speaks affected platitudes elevated language cigarettes everyone lost struggling desperate find direction understanding whatever goes point want slap never resolution interminable introspective babble nothing psychological drama taken extreme beyond audience ability connect woody allen chose make characters immersed feel left reason found movie painfully self indulgent spiritually draining see going insistence promoting message prozac prose distorted film techniques jettisons past point relevance highly recommend one feeling little happy need something remind death otherwise let pretend film never happened']"
            ]
          },
          "metadata": {
            "tags": []
          },
          "execution_count": 58
        }
      ]
    },
    {
      "cell_type": "markdown",
      "metadata": {
        "id": "yx8pmWnUFEWd"
      },
      "source": [
        "### **Vocabulary**"
      ]
    },
    {
      "cell_type": "code",
      "metadata": {
        "id": "f7Er9O4uVXTl"
      },
      "source": [
        "#Count frequency of words\n",
        "x = ' '.join(reviews_1)\n",
        "count = Counter(x.split())"
      ],
      "execution_count": 59,
      "outputs": []
    },
    {
      "cell_type": "code",
      "metadata": {
        "colab": {
          "base_uri": "https://localhost:8080/"
        },
        "id": "EcbIRapeW_k-",
        "outputId": "f3e8b65b-5986-4ead-e4fc-6d21d696af72"
      },
      "source": [
        "# it is originaly a dictinary, for checking the output it is converted to the list for the time\n",
        "list(count.items())[:10]"
      ],
      "execution_count": 60,
      "outputs": [
        {
          "output_type": "execute_result",
          "data": {
            "text/plain": [
              "[('bromwell', 8),\n",
              " ('high', 2161),\n",
              " ('cartoon', 545),\n",
              " ('comedy', 3246),\n",
              " ('ran', 238),\n",
              " ('time', 12724),\n",
              " ('programs', 66),\n",
              " ('school', 1659),\n",
              " ('life', 6628),\n",
              " ('teachers', 77)]"
            ]
          },
          "metadata": {
            "tags": []
          },
          "execution_count": 60
        }
      ]
    },
    {
      "cell_type": "code",
      "metadata": {
        "colab": {
          "base_uri": "https://localhost:8080/"
        },
        "id": "0te_zJEqR18f",
        "outputId": "47da775c-c271-400d-9d54-21f815d54530"
      },
      "source": [
        "vocab = list(count)\n",
        "vocabulary = {}\n",
        "j=1                                          # we start from 1 because for padding we need 0\n",
        "for i in vocab:\n",
        "  vocabulary[i] = j\n",
        "  j=j+1\n",
        "list(vocabulary.items())[:10]"
      ],
      "execution_count": 61,
      "outputs": [
        {
          "output_type": "execute_result",
          "data": {
            "text/plain": [
              "[('bromwell', 1),\n",
              " ('high', 2),\n",
              " ('cartoon', 3),\n",
              " ('comedy', 4),\n",
              " ('ran', 5),\n",
              " ('time', 6),\n",
              " ('programs', 7),\n",
              " ('school', 8),\n",
              " ('life', 9),\n",
              " ('teachers', 10)]"
            ]
          },
          "metadata": {
            "tags": []
          },
          "execution_count": 61
        }
      ]
    },
    {
      "cell_type": "code",
      "metadata": {
        "colab": {
          "base_uri": "https://localhost:8080/"
        },
        "id": "dnp340ZGL50o",
        "outputId": "8b28adac-aea1-4a62-e3b7-9cf0b973e100"
      },
      "source": [
        "len(vocabulary)"
      ],
      "execution_count": 62,
      "outputs": [
        {
          "output_type": "execute_result",
          "data": {
            "text/plain": [
              "73919"
            ]
          },
          "metadata": {
            "tags": []
          },
          "execution_count": 62
        }
      ]
    },
    {
      "cell_type": "code",
      "metadata": {
        "colab": {
          "base_uri": "https://localhost:8080/"
        },
        "id": "FcOc53RpMO69",
        "outputId": "a885622f-f1f9-4837-b450-62ca3a91b39c"
      },
      "source": [
        "reviews_1[:3]"
      ],
      "execution_count": 63,
      "outputs": [
        {
          "output_type": "execute_result",
          "data": {
            "text/plain": [
              "['bromwell high cartoon comedy ran time programs school life teachers years teaching profession lead believe bromwell high satire much closer reality teachers scramble survive financially insightful students see right pathetic teachers pomp pettiness whole situation remind schools knew students saw episode student repeatedly tried burn school immediately recalled high classic line inspector sack one teachers student welcome bromwell high expect many adults age think bromwell high far fetched pity',\n",
              " 'story man unnatural feelings pig starts opening scene terrific example absurd comedy formal orchestra audience turned insane violent mob crazy chantings singers unfortunately stays absurd whole time general narrative eventually making putting even era turned cryptic dialogue would make shakespeare seem easy third grader technical level better might think good cinematography future great vilmos zsigmond future stars sally kirkland frederic forrest seen briefly',\n",
              " 'homelessness houselessness george carlin stated issue years never plan help street considered human everything going school work vote matter people think homeless lost cause worrying things racism war iraq pressuring kids succeed technology elections inflation worrying next end streets br br given bet live streets month without luxuries home entertainment sets bathroom pictures wall computer everything treasure see like homeless goddard bolt lesson br br mel brooks directs stars bolt plays rich man everything world deciding make bet sissy rival jeffery tambor see live streets thirty days without luxuries bolt succeeds wants future project making buildings bet bolt thrown street bracelet leg monitor every move step sidewalk given nickname pepto vagrant written forehead bolt meets characters including woman name molly lesley ann warren ex dancer got divorce losing home pals sailor howard morris fumes teddy wilson already used streets survivors bolt used reaching mutual agreements like rich fight flight kill killed br br love connection molly bolt necessary plot found life stinks one mel brooks observant films prior comedy shows tender side compared slapstick work blazing saddles young frankenstein spaceballs matter show like something valuable losing next day hand making stupid bet like rich people know money maybe give homeless instead using like monopoly money br br maybe film inspire help others']"
            ]
          },
          "metadata": {
            "tags": []
          },
          "execution_count": 63
        }
      ]
    },
    {
      "cell_type": "markdown",
      "metadata": {
        "id": "9gy8iGQhFhIV"
      },
      "source": [
        "###**Splitting into tokens**"
      ]
    },
    {
      "cell_type": "code",
      "metadata": {
        "id": "_RFxFvuWjgVQ",
        "colab": {
          "base_uri": "https://localhost:8080/"
        },
        "outputId": "c3936c64-5e22-4b4f-f870-c610cfdfb7a4"
      },
      "source": [
        "# Splitting sentence into tokens\n",
        "reviews_2 = []\n",
        "for i in reviews_1:\n",
        "  reviews_2.append(i.split())\n",
        "print(reviews_2[:2])"
      ],
      "execution_count": 64,
      "outputs": [
        {
          "output_type": "stream",
          "text": [
            "[['bromwell', 'high', 'cartoon', 'comedy', 'ran', 'time', 'programs', 'school', 'life', 'teachers', 'years', 'teaching', 'profession', 'lead', 'believe', 'bromwell', 'high', 'satire', 'much', 'closer', 'reality', 'teachers', 'scramble', 'survive', 'financially', 'insightful', 'students', 'see', 'right', 'pathetic', 'teachers', 'pomp', 'pettiness', 'whole', 'situation', 'remind', 'schools', 'knew', 'students', 'saw', 'episode', 'student', 'repeatedly', 'tried', 'burn', 'school', 'immediately', 'recalled', 'high', 'classic', 'line', 'inspector', 'sack', 'one', 'teachers', 'student', 'welcome', 'bromwell', 'high', 'expect', 'many', 'adults', 'age', 'think', 'bromwell', 'high', 'far', 'fetched', 'pity'], ['story', 'man', 'unnatural', 'feelings', 'pig', 'starts', 'opening', 'scene', 'terrific', 'example', 'absurd', 'comedy', 'formal', 'orchestra', 'audience', 'turned', 'insane', 'violent', 'mob', 'crazy', 'chantings', 'singers', 'unfortunately', 'stays', 'absurd', 'whole', 'time', 'general', 'narrative', 'eventually', 'making', 'putting', 'even', 'era', 'turned', 'cryptic', 'dialogue', 'would', 'make', 'shakespeare', 'seem', 'easy', 'third', 'grader', 'technical', 'level', 'better', 'might', 'think', 'good', 'cinematography', 'future', 'great', 'vilmos', 'zsigmond', 'future', 'stars', 'sally', 'kirkland', 'frederic', 'forrest', 'seen', 'briefly']]\n"
          ],
          "name": "stdout"
        }
      ]
    },
    {
      "cell_type": "markdown",
      "metadata": {
        "id": "SnHAAh8rFpAi"
      },
      "source": [
        "### **Convert words to vectors**"
      ]
    },
    {
      "cell_type": "code",
      "metadata": {
        "id": "gu6j_qiYB6F9",
        "colab": {
          "base_uri": "https://localhost:8080/"
        },
        "outputId": "26d539f4-83c8-406f-fa32-a29bb6f01c2a"
      },
      "source": [
        "# convert into vectors\n",
        "review_3 = []\n",
        "for i in reviews_2:\n",
        "  x = []\n",
        "  for j in i:\n",
        "    x.append(vocabulary[j])\n",
        "  review_3.append(x)\n",
        "print(review_3[:3])"
      ],
      "execution_count": 65,
      "outputs": [
        {
          "output_type": "stream",
          "text": [
            "[[1, 2, 3, 4, 5, 6, 7, 8, 9, 10, 11, 12, 13, 14, 15, 1, 2, 16, 17, 18, 19, 10, 20, 21, 22, 23, 24, 25, 26, 27, 10, 28, 29, 30, 31, 32, 33, 34, 24, 35, 36, 37, 38, 39, 40, 8, 41, 42, 2, 43, 44, 45, 46, 47, 10, 37, 48, 1, 2, 49, 50, 51, 52, 53, 1, 2, 54, 55, 56], [57, 58, 59, 60, 61, 62, 63, 64, 65, 66, 67, 4, 68, 69, 70, 71, 72, 73, 74, 75, 76, 77, 78, 79, 67, 30, 6, 80, 81, 82, 83, 84, 85, 86, 71, 87, 88, 89, 90, 91, 92, 93, 94, 95, 96, 97, 98, 99, 53, 100, 101, 102, 103, 104, 105, 102, 106, 107, 108, 109, 110, 111, 112], [113, 114, 115, 116, 117, 118, 11, 119, 120, 121, 122, 123, 124, 125, 126, 8, 127, 128, 129, 130, 53, 131, 132, 133, 134, 135, 136, 137, 138, 139, 140, 141, 142, 143, 144, 134, 145, 146, 147, 148, 148, 149, 150, 151, 147, 152, 153, 154, 155, 156, 157, 158, 159, 160, 161, 125, 162, 25, 163, 131, 164, 165, 166, 148, 148, 167, 168, 169, 106, 165, 170, 171, 58, 125, 172, 173, 90, 150, 174, 175, 176, 177, 25, 151, 147, 178, 179, 153, 154, 165, 180, 181, 102, 182, 83, 183, 150, 165, 184, 122, 185, 186, 187, 188, 189, 190, 191, 149, 192, 193, 194, 195, 196, 165, 197, 198, 199, 200, 201, 202, 203, 204, 205, 206, 207, 208, 209, 210, 155, 211, 212, 213, 214, 215, 216, 217, 218, 219, 147, 220, 165, 219, 221, 222, 223, 163, 171, 224, 225, 226, 227, 148, 148, 228, 229, 202, 165, 230, 231, 232, 9, 233, 47, 167, 168, 234, 235, 236, 4, 237, 238, 239, 240, 241, 127, 242, 243, 244, 245, 246, 129, 247, 163, 248, 249, 210, 145, 250, 251, 83, 252, 150, 163, 171, 130, 253, 254, 255, 256, 131, 257, 258, 163, 259, 254, 148, 148, 255, 260, 261, 121, 262]]\n"
          ],
          "name": "stdout"
        }
      ]
    },
    {
      "cell_type": "markdown",
      "metadata": {
        "id": "n0OSt4L9Fz5F"
      },
      "source": [
        "### **Encode the labels**"
      ]
    },
    {
      "cell_type": "code",
      "metadata": {
        "colab": {
          "base_uri": "https://localhost:8080/"
        },
        "id": "hw_t1lYoKyMw",
        "outputId": "04b4857d-dc72-4109-b60c-2918318c4e3c"
      },
      "source": [
        "# Encode Labels\n",
        "labels_1 = labels.split('\\n')\n",
        "labels_2 = ['1' if i == 'positive' else '0' for i in labels_1]      # 1-positive, 0-negative\n",
        "labels_2[:3]"
      ],
      "execution_count": 66,
      "outputs": [
        {
          "output_type": "execute_result",
          "data": {
            "text/plain": [
              "['1', '0', '1']"
            ]
          },
          "metadata": {
            "tags": []
          },
          "execution_count": 66
        }
      ]
    },
    {
      "cell_type": "markdown",
      "metadata": {
        "id": "5tojG_FZGgnM"
      },
      "source": [
        "### **Removing strings with length zero**"
      ]
    },
    {
      "cell_type": "code",
      "metadata": {
        "colab": {
          "base_uri": "https://localhost:8080/"
        },
        "id": "ImxhdogSYZrb",
        "outputId": "1076cd59-f0e7-40f7-d55d-7888164c7342"
      },
      "source": [
        "sum = []\n",
        "for i in review_3:\n",
        "  sum.append(len(i))\n",
        "print(max(sum))\n",
        "print(min(sum))         # this hows that we have string with max length (no of words) of 1442 and string with lenght of 0"
      ],
      "execution_count": 67,
      "outputs": [
        {
          "output_type": "stream",
          "text": [
            "1442\n",
            "0\n"
          ],
          "name": "stdout"
        }
      ]
    },
    {
      "cell_type": "code",
      "metadata": {
        "id": "Q9M--Rs0nz59"
      },
      "source": [
        "for i in range(len(review_3)):\n",
        "  if len(review_3[i])==0:\n",
        "    review_3.pop(i)\n",
        "    labels_2.pop(i)                             # removing the zero length review and corresponding label"
      ],
      "execution_count": 68,
      "outputs": []
    },
    {
      "cell_type": "code",
      "metadata": {
        "colab": {
          "base_uri": "https://localhost:8080/"
        },
        "id": "bp4mtKS0oelw",
        "outputId": "856cb3e8-bd4a-4cb8-8d77-03417558b24f"
      },
      "source": [
        "sum = []\n",
        "for i in review_3:\n",
        "  sum.append(len(i))\n",
        "print(min(sum))                  # so string with length 0 are removed."
      ],
      "execution_count": 69,
      "outputs": [
        {
          "output_type": "stream",
          "text": [
            "4\n"
          ],
          "name": "stdout"
        }
      ]
    },
    {
      "cell_type": "code",
      "metadata": {
        "colab": {
          "base_uri": "https://localhost:8080/"
        },
        "id": "1ORT_icTpcP8",
        "outputId": "80284ce8-8ca4-4105-ef35-9ee357d23fce"
      },
      "source": [
        "print(len(review_3), len(labels_2))"
      ],
      "execution_count": 70,
      "outputs": [
        {
          "output_type": "stream",
          "text": [
            "25000 25000\n"
          ],
          "name": "stdout"
        }
      ]
    },
    {
      "cell_type": "markdown",
      "metadata": {
        "id": "16YV2zF8GlFr"
      },
      "source": [
        "### **Restricting sentences to a length of 300 and padding them**"
      ]
    },
    {
      "cell_type": "code",
      "metadata": {
        "id": "yoHm6AsBNmHd"
      },
      "source": [
        "# Removing outlier, padding\n",
        "# padding for sentences shorter and longer\n",
        "\n",
        "seq_length = 300\n",
        "\n",
        "for i in review_3:\n",
        "  if len(i)>seq_length:\n",
        "    review_3[review_3.index(i)] = i[:seq_length]\n",
        "  else:\n",
        "    z = seq_length - len(i)\n",
        "    review_3[review_3.index(i)] = [0]*z+ i"
      ],
      "execution_count": 71,
      "outputs": []
    },
    {
      "cell_type": "code",
      "metadata": {
        "colab": {
          "base_uri": "https://localhost:8080/"
        },
        "id": "MrW0I-gYrUDp",
        "outputId": "7ca788ca-5785-4504-ad8c-b93ff1c5d9b2"
      },
      "source": [
        "sum = []\n",
        "for i in review_3:\n",
        "  sum.append(len(i))\n",
        "print(max(sum))\n",
        "print(min(sum))   # this means all the sentences are of the same length i.e. 300 now."
      ],
      "execution_count": 72,
      "outputs": [
        {
          "output_type": "stream",
          "text": [
            "300\n",
            "300\n"
          ],
          "name": "stdout"
        }
      ]
    },
    {
      "cell_type": "code",
      "metadata": {
        "id": "Bt0psz8q80TW"
      },
      "source": [
        "X = pd.DataFrame(review_3).astype('int32')\n",
        "y = pd.DataFrame(labels_2).astype('int32')"
      ],
      "execution_count": 73,
      "outputs": []
    },
    {
      "cell_type": "markdown",
      "metadata": {
        "id": "Ysg0DI8AGxYK"
      },
      "source": [
        "### **Splitting the data into training and testing dataset**"
      ]
    },
    {
      "cell_type": "code",
      "metadata": {
        "id": "qQwOaY28CKbe"
      },
      "source": [
        "xtrain, xtest, ytrain, ytest = train_test_split(X , y, test_size = 0.25, random_state = 35)"
      ],
      "execution_count": 74,
      "outputs": []
    },
    {
      "cell_type": "code",
      "metadata": {
        "colab": {
          "base_uri": "https://localhost:8080/"
        },
        "id": "hPqVficXRE-h",
        "outputId": "bae60404-5a43-4e3d-87cc-89ebd7693996"
      },
      "source": [
        "xtrain.shape"
      ],
      "execution_count": 75,
      "outputs": [
        {
          "output_type": "execute_result",
          "data": {
            "text/plain": [
              "(18750, 300)"
            ]
          },
          "metadata": {
            "tags": []
          },
          "execution_count": 75
        }
      ]
    },
    {
      "cell_type": "code",
      "metadata": {
        "colab": {
          "base_uri": "https://localhost:8080/",
          "height": 251
        },
        "id": "Uy3uQDoUUFEz",
        "outputId": "70da8197-7d9d-404e-f790-4c9efe85deaa"
      },
      "source": [
        "xtrain.head()"
      ],
      "execution_count": 76,
      "outputs": [
        {
          "output_type": "execute_result",
          "data": {
            "text/html": [
              "<div>\n",
              "<style scoped>\n",
              "    .dataframe tbody tr th:only-of-type {\n",
              "        vertical-align: middle;\n",
              "    }\n",
              "\n",
              "    .dataframe tbody tr th {\n",
              "        vertical-align: top;\n",
              "    }\n",
              "\n",
              "    .dataframe thead th {\n",
              "        text-align: right;\n",
              "    }\n",
              "</style>\n",
              "<table border=\"1\" class=\"dataframe\">\n",
              "  <thead>\n",
              "    <tr style=\"text-align: right;\">\n",
              "      <th></th>\n",
              "      <th>0</th>\n",
              "      <th>1</th>\n",
              "      <th>2</th>\n",
              "      <th>3</th>\n",
              "      <th>4</th>\n",
              "      <th>5</th>\n",
              "      <th>6</th>\n",
              "      <th>7</th>\n",
              "      <th>8</th>\n",
              "      <th>9</th>\n",
              "      <th>10</th>\n",
              "      <th>11</th>\n",
              "      <th>12</th>\n",
              "      <th>13</th>\n",
              "      <th>14</th>\n",
              "      <th>15</th>\n",
              "      <th>16</th>\n",
              "      <th>17</th>\n",
              "      <th>18</th>\n",
              "      <th>19</th>\n",
              "      <th>20</th>\n",
              "      <th>21</th>\n",
              "      <th>22</th>\n",
              "      <th>23</th>\n",
              "      <th>24</th>\n",
              "      <th>25</th>\n",
              "      <th>26</th>\n",
              "      <th>27</th>\n",
              "      <th>28</th>\n",
              "      <th>29</th>\n",
              "      <th>30</th>\n",
              "      <th>31</th>\n",
              "      <th>32</th>\n",
              "      <th>33</th>\n",
              "      <th>34</th>\n",
              "      <th>35</th>\n",
              "      <th>36</th>\n",
              "      <th>37</th>\n",
              "      <th>38</th>\n",
              "      <th>39</th>\n",
              "      <th>...</th>\n",
              "      <th>260</th>\n",
              "      <th>261</th>\n",
              "      <th>262</th>\n",
              "      <th>263</th>\n",
              "      <th>264</th>\n",
              "      <th>265</th>\n",
              "      <th>266</th>\n",
              "      <th>267</th>\n",
              "      <th>268</th>\n",
              "      <th>269</th>\n",
              "      <th>270</th>\n",
              "      <th>271</th>\n",
              "      <th>272</th>\n",
              "      <th>273</th>\n",
              "      <th>274</th>\n",
              "      <th>275</th>\n",
              "      <th>276</th>\n",
              "      <th>277</th>\n",
              "      <th>278</th>\n",
              "      <th>279</th>\n",
              "      <th>280</th>\n",
              "      <th>281</th>\n",
              "      <th>282</th>\n",
              "      <th>283</th>\n",
              "      <th>284</th>\n",
              "      <th>285</th>\n",
              "      <th>286</th>\n",
              "      <th>287</th>\n",
              "      <th>288</th>\n",
              "      <th>289</th>\n",
              "      <th>290</th>\n",
              "      <th>291</th>\n",
              "      <th>292</th>\n",
              "      <th>293</th>\n",
              "      <th>294</th>\n",
              "      <th>295</th>\n",
              "      <th>296</th>\n",
              "      <th>297</th>\n",
              "      <th>298</th>\n",
              "      <th>299</th>\n",
              "    </tr>\n",
              "  </thead>\n",
              "  <tbody>\n",
              "    <tr>\n",
              "      <th>21350</th>\n",
              "      <td>0</td>\n",
              "      <td>0</td>\n",
              "      <td>0</td>\n",
              "      <td>0</td>\n",
              "      <td>0</td>\n",
              "      <td>0</td>\n",
              "      <td>0</td>\n",
              "      <td>0</td>\n",
              "      <td>0</td>\n",
              "      <td>0</td>\n",
              "      <td>0</td>\n",
              "      <td>0</td>\n",
              "      <td>0</td>\n",
              "      <td>0</td>\n",
              "      <td>0</td>\n",
              "      <td>0</td>\n",
              "      <td>0</td>\n",
              "      <td>0</td>\n",
              "      <td>0</td>\n",
              "      <td>0</td>\n",
              "      <td>0</td>\n",
              "      <td>0</td>\n",
              "      <td>0</td>\n",
              "      <td>0</td>\n",
              "      <td>0</td>\n",
              "      <td>0</td>\n",
              "      <td>0</td>\n",
              "      <td>0</td>\n",
              "      <td>0</td>\n",
              "      <td>0</td>\n",
              "      <td>0</td>\n",
              "      <td>0</td>\n",
              "      <td>0</td>\n",
              "      <td>0</td>\n",
              "      <td>0</td>\n",
              "      <td>0</td>\n",
              "      <td>0</td>\n",
              "      <td>0</td>\n",
              "      <td>0</td>\n",
              "      <td>0</td>\n",
              "      <td>...</td>\n",
              "      <td>53</td>\n",
              "      <td>584</td>\n",
              "      <td>135</td>\n",
              "      <td>9</td>\n",
              "      <td>3060</td>\n",
              "      <td>1472</td>\n",
              "      <td>66848</td>\n",
              "      <td>127</td>\n",
              "      <td>1082</td>\n",
              "      <td>367</td>\n",
              "      <td>12397</td>\n",
              "      <td>2236</td>\n",
              "      <td>39875</td>\n",
              "      <td>666</td>\n",
              "      <td>2802</td>\n",
              "      <td>103</td>\n",
              "      <td>737</td>\n",
              "      <td>1185</td>\n",
              "      <td>2811</td>\n",
              "      <td>303</td>\n",
              "      <td>135</td>\n",
              "      <td>45630</td>\n",
              "      <td>3123</td>\n",
              "      <td>244</td>\n",
              "      <td>69139</td>\n",
              "      <td>345</td>\n",
              "      <td>26064</td>\n",
              "      <td>98</td>\n",
              "      <td>3486</td>\n",
              "      <td>2748</td>\n",
              "      <td>725</td>\n",
              "      <td>2481</td>\n",
              "      <td>47</td>\n",
              "      <td>3259</td>\n",
              "      <td>3930</td>\n",
              "      <td>43</td>\n",
              "      <td>11</td>\n",
              "      <td>575</td>\n",
              "      <td>658</td>\n",
              "      <td>3366</td>\n",
              "    </tr>\n",
              "    <tr>\n",
              "      <th>23930</th>\n",
              "      <td>0</td>\n",
              "      <td>0</td>\n",
              "      <td>0</td>\n",
              "      <td>0</td>\n",
              "      <td>0</td>\n",
              "      <td>0</td>\n",
              "      <td>0</td>\n",
              "      <td>0</td>\n",
              "      <td>0</td>\n",
              "      <td>0</td>\n",
              "      <td>0</td>\n",
              "      <td>0</td>\n",
              "      <td>0</td>\n",
              "      <td>0</td>\n",
              "      <td>0</td>\n",
              "      <td>0</td>\n",
              "      <td>0</td>\n",
              "      <td>0</td>\n",
              "      <td>0</td>\n",
              "      <td>0</td>\n",
              "      <td>0</td>\n",
              "      <td>0</td>\n",
              "      <td>0</td>\n",
              "      <td>0</td>\n",
              "      <td>0</td>\n",
              "      <td>0</td>\n",
              "      <td>0</td>\n",
              "      <td>0</td>\n",
              "      <td>0</td>\n",
              "      <td>0</td>\n",
              "      <td>0</td>\n",
              "      <td>0</td>\n",
              "      <td>0</td>\n",
              "      <td>0</td>\n",
              "      <td>0</td>\n",
              "      <td>0</td>\n",
              "      <td>0</td>\n",
              "      <td>0</td>\n",
              "      <td>0</td>\n",
              "      <td>0</td>\n",
              "      <td>...</td>\n",
              "      <td>9697</td>\n",
              "      <td>1399</td>\n",
              "      <td>1358</td>\n",
              "      <td>8493</td>\n",
              "      <td>25856</td>\n",
              "      <td>11383</td>\n",
              "      <td>188</td>\n",
              "      <td>1220</td>\n",
              "      <td>1583</td>\n",
              "      <td>673</td>\n",
              "      <td>2257</td>\n",
              "      <td>3352</td>\n",
              "      <td>3519</td>\n",
              "      <td>1728</td>\n",
              "      <td>953</td>\n",
              "      <td>9418</td>\n",
              "      <td>45662</td>\n",
              "      <td>4985</td>\n",
              "      <td>991</td>\n",
              "      <td>3582</td>\n",
              "      <td>148</td>\n",
              "      <td>148</td>\n",
              "      <td>92</td>\n",
              "      <td>4446</td>\n",
              "      <td>460</td>\n",
              "      <td>5259</td>\n",
              "      <td>18</td>\n",
              "      <td>384</td>\n",
              "      <td>57</td>\n",
              "      <td>262</td>\n",
              "      <td>1415</td>\n",
              "      <td>5654</td>\n",
              "      <td>1169</td>\n",
              "      <td>11</td>\n",
              "      <td>524</td>\n",
              "      <td>1028</td>\n",
              "      <td>10131</td>\n",
              "      <td>65</td>\n",
              "      <td>9697</td>\n",
              "      <td>43</td>\n",
              "    </tr>\n",
              "    <tr>\n",
              "      <th>20756</th>\n",
              "      <td>1677</td>\n",
              "      <td>16197</td>\n",
              "      <td>460</td>\n",
              "      <td>98</td>\n",
              "      <td>235</td>\n",
              "      <td>736</td>\n",
              "      <td>16067</td>\n",
              "      <td>835</td>\n",
              "      <td>646</td>\n",
              "      <td>523</td>\n",
              "      <td>574</td>\n",
              "      <td>610</td>\n",
              "      <td>464</td>\n",
              "      <td>3010</td>\n",
              "      <td>3011</td>\n",
              "      <td>872</td>\n",
              "      <td>6818</td>\n",
              "      <td>148</td>\n",
              "      <td>148</td>\n",
              "      <td>3096</td>\n",
              "      <td>518</td>\n",
              "      <td>610</td>\n",
              "      <td>198</td>\n",
              "      <td>2227</td>\n",
              "      <td>12477</td>\n",
              "      <td>7965</td>\n",
              "      <td>23041</td>\n",
              "      <td>30</td>\n",
              "      <td>673</td>\n",
              "      <td>461</td>\n",
              "      <td>12610</td>\n",
              "      <td>3450</td>\n",
              "      <td>542</td>\n",
              "      <td>3</td>\n",
              "      <td>198</td>\n",
              "      <td>13819</td>\n",
              "      <td>28824</td>\n",
              "      <td>460</td>\n",
              "      <td>98</td>\n",
              "      <td>615</td>\n",
              "      <td>...</td>\n",
              "      <td>4335</td>\n",
              "      <td>574</td>\n",
              "      <td>64</td>\n",
              "      <td>260</td>\n",
              "      <td>44218</td>\n",
              "      <td>6793</td>\n",
              "      <td>45307</td>\n",
              "      <td>481</td>\n",
              "      <td>2827</td>\n",
              "      <td>1677</td>\n",
              "      <td>7965</td>\n",
              "      <td>453</td>\n",
              "      <td>247</td>\n",
              "      <td>23973</td>\n",
              "      <td>802</td>\n",
              "      <td>6793</td>\n",
              "      <td>2044</td>\n",
              "      <td>28824</td>\n",
              "      <td>5204</td>\n",
              "      <td>1278</td>\n",
              "      <td>5023</td>\n",
              "      <td>2794</td>\n",
              "      <td>508</td>\n",
              "      <td>3229</td>\n",
              "      <td>450</td>\n",
              "      <td>33887</td>\n",
              "      <td>4569</td>\n",
              "      <td>148</td>\n",
              "      <td>148</td>\n",
              "      <td>17</td>\n",
              "      <td>163</td>\n",
              "      <td>260</td>\n",
              "      <td>7965</td>\n",
              "      <td>6387</td>\n",
              "      <td>4280</td>\n",
              "      <td>658</td>\n",
              "      <td>98</td>\n",
              "      <td>1251</td>\n",
              "      <td>1708</td>\n",
              "      <td>253</td>\n",
              "    </tr>\n",
              "    <tr>\n",
              "      <th>8904</th>\n",
              "      <td>0</td>\n",
              "      <td>0</td>\n",
              "      <td>0</td>\n",
              "      <td>0</td>\n",
              "      <td>0</td>\n",
              "      <td>0</td>\n",
              "      <td>0</td>\n",
              "      <td>0</td>\n",
              "      <td>0</td>\n",
              "      <td>0</td>\n",
              "      <td>0</td>\n",
              "      <td>0</td>\n",
              "      <td>0</td>\n",
              "      <td>0</td>\n",
              "      <td>0</td>\n",
              "      <td>0</td>\n",
              "      <td>0</td>\n",
              "      <td>0</td>\n",
              "      <td>0</td>\n",
              "      <td>0</td>\n",
              "      <td>0</td>\n",
              "      <td>0</td>\n",
              "      <td>0</td>\n",
              "      <td>0</td>\n",
              "      <td>0</td>\n",
              "      <td>0</td>\n",
              "      <td>0</td>\n",
              "      <td>0</td>\n",
              "      <td>0</td>\n",
              "      <td>0</td>\n",
              "      <td>0</td>\n",
              "      <td>0</td>\n",
              "      <td>0</td>\n",
              "      <td>0</td>\n",
              "      <td>0</td>\n",
              "      <td>0</td>\n",
              "      <td>0</td>\n",
              "      <td>0</td>\n",
              "      <td>0</td>\n",
              "      <td>0</td>\n",
              "      <td>...</td>\n",
              "      <td>858</td>\n",
              "      <td>260</td>\n",
              "      <td>237</td>\n",
              "      <td>130</td>\n",
              "      <td>3186</td>\n",
              "      <td>18849</td>\n",
              "      <td>100</td>\n",
              "      <td>2587</td>\n",
              "      <td>6802</td>\n",
              "      <td>6131</td>\n",
              "      <td>16320</td>\n",
              "      <td>1329</td>\n",
              "      <td>15771</td>\n",
              "      <td>64</td>\n",
              "      <td>15211</td>\n",
              "      <td>770</td>\n",
              "      <td>3388</td>\n",
              "      <td>1924</td>\n",
              "      <td>2559</td>\n",
              "      <td>939</td>\n",
              "      <td>2187</td>\n",
              "      <td>2513</td>\n",
              "      <td>130</td>\n",
              "      <td>172</td>\n",
              "      <td>3186</td>\n",
              "      <td>18849</td>\n",
              "      <td>433</td>\n",
              "      <td>869</td>\n",
              "      <td>148</td>\n",
              "      <td>148</td>\n",
              "      <td>1107</td>\n",
              "      <td>260</td>\n",
              "      <td>198</td>\n",
              "      <td>1305</td>\n",
              "      <td>2455</td>\n",
              "      <td>2631</td>\n",
              "      <td>260</td>\n",
              "      <td>100</td>\n",
              "      <td>2587</td>\n",
              "      <td>11176</td>\n",
              "    </tr>\n",
              "    <tr>\n",
              "      <th>20546</th>\n",
              "      <td>0</td>\n",
              "      <td>0</td>\n",
              "      <td>0</td>\n",
              "      <td>0</td>\n",
              "      <td>0</td>\n",
              "      <td>0</td>\n",
              "      <td>0</td>\n",
              "      <td>0</td>\n",
              "      <td>0</td>\n",
              "      <td>0</td>\n",
              "      <td>0</td>\n",
              "      <td>0</td>\n",
              "      <td>0</td>\n",
              "      <td>0</td>\n",
              "      <td>0</td>\n",
              "      <td>0</td>\n",
              "      <td>0</td>\n",
              "      <td>0</td>\n",
              "      <td>0</td>\n",
              "      <td>0</td>\n",
              "      <td>0</td>\n",
              "      <td>0</td>\n",
              "      <td>0</td>\n",
              "      <td>0</td>\n",
              "      <td>0</td>\n",
              "      <td>0</td>\n",
              "      <td>0</td>\n",
              "      <td>0</td>\n",
              "      <td>0</td>\n",
              "      <td>0</td>\n",
              "      <td>0</td>\n",
              "      <td>0</td>\n",
              "      <td>0</td>\n",
              "      <td>0</td>\n",
              "      <td>0</td>\n",
              "      <td>0</td>\n",
              "      <td>0</td>\n",
              "      <td>0</td>\n",
              "      <td>0</td>\n",
              "      <td>0</td>\n",
              "      <td>...</td>\n",
              "      <td>4712</td>\n",
              "      <td>2324</td>\n",
              "      <td>595</td>\n",
              "      <td>62</td>\n",
              "      <td>541</td>\n",
              "      <td>508</td>\n",
              "      <td>507</td>\n",
              "      <td>8208</td>\n",
              "      <td>11121</td>\n",
              "      <td>356</td>\n",
              "      <td>1729</td>\n",
              "      <td>4069</td>\n",
              "      <td>11337</td>\n",
              "      <td>686</td>\n",
              "      <td>2938</td>\n",
              "      <td>1548</td>\n",
              "      <td>27932</td>\n",
              "      <td>1754</td>\n",
              "      <td>29212</td>\n",
              "      <td>965</td>\n",
              "      <td>516</td>\n",
              "      <td>339</td>\n",
              "      <td>688</td>\n",
              "      <td>1119</td>\n",
              "      <td>4585</td>\n",
              "      <td>2509</td>\n",
              "      <td>541</td>\n",
              "      <td>1773</td>\n",
              "      <td>479</td>\n",
              "      <td>163</td>\n",
              "      <td>1215</td>\n",
              "      <td>58</td>\n",
              "      <td>2492</td>\n",
              "      <td>47</td>\n",
              "      <td>1220</td>\n",
              "      <td>376</td>\n",
              "      <td>725</td>\n",
              "      <td>904</td>\n",
              "      <td>1386</td>\n",
              "      <td>5497</td>\n",
              "    </tr>\n",
              "  </tbody>\n",
              "</table>\n",
              "<p>5 rows × 300 columns</p>\n",
              "</div>"
            ],
            "text/plain": [
              "        0      1    2    3    4    5    ...   294   295    296   297   298    299\n",
              "21350     0      0    0    0    0    0  ...  3930    43     11   575   658   3366\n",
              "23930     0      0    0    0    0    0  ...   524  1028  10131    65  9697     43\n",
              "20756  1677  16197  460   98  235  736  ...  4280   658     98  1251  1708    253\n",
              "8904      0      0    0    0    0    0  ...  2455  2631    260   100  2587  11176\n",
              "20546     0      0    0    0    0    0  ...  1220   376    725   904  1386   5497\n",
              "\n",
              "[5 rows x 300 columns]"
            ]
          },
          "metadata": {
            "tags": []
          },
          "execution_count": 76
        }
      ]
    },
    {
      "cell_type": "code",
      "metadata": {
        "colab": {
          "base_uri": "https://localhost:8080/"
        },
        "id": "VA8KWnYaRY0y",
        "outputId": "231ce74b-4179-47f2-8256-e4b275ab7b70"
      },
      "source": [
        "xtest.shape"
      ],
      "execution_count": 77,
      "outputs": [
        {
          "output_type": "execute_result",
          "data": {
            "text/plain": [
              "(6250, 300)"
            ]
          },
          "metadata": {
            "tags": []
          },
          "execution_count": 77
        }
      ]
    },
    {
      "cell_type": "markdown",
      "metadata": {
        "id": "iYrHB4R_kOpe"
      },
      "source": [
        "## **LSTM Network**"
      ]
    },
    {
      "cell_type": "code",
      "metadata": {
        "colab": {
          "base_uri": "https://localhost:8080/"
        },
        "id": "joo0zxiwsBbZ",
        "outputId": "364af70f-8d4a-4edb-81a3-e7d71b578cd5"
      },
      "source": [
        "# defining hyperparameters\n",
        "embedding_vector_length = 100\n",
        "max_review_length = 300\n",
        "model = Sequential()\n",
        "model.add(Embedding(80000, embedding_vector_length, input_length = max_review_length ))\n",
        "model.add(Dropout(0.2))\n",
        "model.add(LSTM(100))                                               # LSTM layer with 100 neurons\n",
        "model.add(Dropout(0.2))\n",
        "# model.add(Flatten())\n",
        "model.add(Dense(1, activation = 'sigmoid'))\n",
        "model.compile(loss='binary_crossentropy', optimizer='adam', metrics = ['accuracy'])\n",
        "print(model.summary())"
      ],
      "execution_count": 78,
      "outputs": [
        {
          "output_type": "stream",
          "text": [
            "Model: \"sequential\"\n",
            "_________________________________________________________________\n",
            "Layer (type)                 Output Shape              Param #   \n",
            "=================================================================\n",
            "embedding (Embedding)        (None, 300, 100)          8000000   \n",
            "_________________________________________________________________\n",
            "dropout (Dropout)            (None, 300, 100)          0         \n",
            "_________________________________________________________________\n",
            "lstm (LSTM)                  (None, 100)               80400     \n",
            "_________________________________________________________________\n",
            "dropout_1 (Dropout)          (None, 100)               0         \n",
            "_________________________________________________________________\n",
            "dense (Dense)                (None, 1)                 101       \n",
            "=================================================================\n",
            "Total params: 8,080,501\n",
            "Trainable params: 8,080,501\n",
            "Non-trainable params: 0\n",
            "_________________________________________________________________\n",
            "None\n"
          ],
          "name": "stdout"
        }
      ]
    },
    {
      "cell_type": "code",
      "metadata": {
        "id": "wtGUccHCW_Xj",
        "colab": {
          "base_uri": "https://localhost:8080/"
        },
        "outputId": "d57cbc6d-08cf-4c0c-e12a-5995fa05aaca"
      },
      "source": [
        "model.fit(xtrain, ytrain, epochs = 10, batch_size = 32, verbose = 5)"
      ],
      "execution_count": 79,
      "outputs": [
        {
          "output_type": "stream",
          "text": [
            "Epoch 1/10\n",
            "Epoch 2/10\n",
            "Epoch 3/10\n",
            "Epoch 4/10\n",
            "Epoch 5/10\n",
            "Epoch 6/10\n",
            "Epoch 7/10\n",
            "Epoch 8/10\n",
            "Epoch 9/10\n",
            "Epoch 10/10\n"
          ],
          "name": "stdout"
        },
        {
          "output_type": "execute_result",
          "data": {
            "text/plain": [
              "<tensorflow.python.keras.callbacks.History at 0x7f406bf3dc50>"
            ]
          },
          "metadata": {
            "tags": []
          },
          "execution_count": 79
        }
      ]
    },
    {
      "cell_type": "markdown",
      "metadata": {
        "id": "VEPVUiuKG68g"
      },
      "source": [
        "### **Evaluating the model**"
      ]
    },
    {
      "cell_type": "code",
      "metadata": {
        "colab": {
          "base_uri": "https://localhost:8080/"
        },
        "id": "M8omSgwHKXVi",
        "outputId": "48a71809-7668-4fb0-e0b2-e14bf5ea85d1"
      },
      "source": [
        "scores = model.evaluate(xtest,ytest, verbose = 5)\n",
        "print(\"Accuracy: %.2f%%\" % (scores[1]*100))"
      ],
      "execution_count": 80,
      "outputs": [
        {
          "output_type": "stream",
          "text": [
            "Accuracy: 84.64%\n"
          ],
          "name": "stdout"
        }
      ]
    },
    {
      "cell_type": "code",
      "metadata": {
        "colab": {
          "base_uri": "https://localhost:8080/"
        },
        "id": "8xO50VlJn7vJ",
        "outputId": "de205dbb-bc81-47bd-f1a3-d3b486220867"
      },
      "source": [
        "pred = model.predict(xtest)\n",
        "mean_squared_error(ytest, pred.flatten())"
      ],
      "execution_count": 81,
      "outputs": [
        {
          "output_type": "execute_result",
          "data": {
            "text/plain": [
              "0.13207549703679747"
            ]
          },
          "metadata": {
            "tags": []
          },
          "execution_count": 81
        }
      ]
    },
    {
      "cell_type": "code",
      "metadata": {
        "colab": {
          "base_uri": "https://localhost:8080/"
        },
        "id": "Ny-xBQ-8hYnm",
        "outputId": "18c6099a-1a21-4364-e4fd-d59a961b4e9f"
      },
      "source": [
        "pred.shape"
      ],
      "execution_count": 82,
      "outputs": [
        {
          "output_type": "execute_result",
          "data": {
            "text/plain": [
              "(6250, 1)"
            ]
          },
          "metadata": {
            "tags": []
          },
          "execution_count": 82
        }
      ]
    },
    {
      "cell_type": "code",
      "metadata": {
        "colab": {
          "base_uri": "https://localhost:8080/"
        },
        "id": "rvYQeIVLwQOt",
        "outputId": "43363592-f1ab-40cc-9da0-9fdc41a4078f"
      },
      "source": [
        "ytest.shape"
      ],
      "execution_count": 83,
      "outputs": [
        {
          "output_type": "execute_result",
          "data": {
            "text/plain": [
              "(6250, 1)"
            ]
          },
          "metadata": {
            "tags": []
          },
          "execution_count": 83
        }
      ]
    },
    {
      "cell_type": "code",
      "metadata": {
        "colab": {
          "base_uri": "https://localhost:8080/"
        },
        "id": "CEV63n9EG-Ue",
        "outputId": "2dd83f6d-aa80-44a9-f1ce-f9dc7a2c22cf"
      },
      "source": [
        "pred1 = model.predict(xtest.head(1))\n",
        "print(pred1)"
      ],
      "execution_count": 84,
      "outputs": [
        {
          "output_type": "stream",
          "text": [
            "[[0.00047497]]\n"
          ],
          "name": "stdout"
        }
      ]
    },
    {
      "cell_type": "markdown",
      "metadata": {
        "id": "Mt581Vi0HK5o"
      },
      "source": [
        "### **Testing the model on random data**"
      ]
    },
    {
      "cell_type": "code",
      "metadata": {
        "colab": {
          "base_uri": "https://localhost:8080/"
        },
        "id": "vmyDe68dsBR7",
        "outputId": "347e22fb-c140-4258-c3f0-55456622c32c"
      },
      "source": [
        "# Predicting on random\n",
        "x = []\n",
        "sent = ['I am happy']\n",
        "sent_1 = clean(sent)\n",
        "# print(sent_1)\n",
        "for i in sent_1[0].split():\n",
        "  x.append(vocabulary[i])\n",
        "x1 = pd.DataFrame(np.array(x).reshape(-1,len(x)))\n",
        "y = model.predict(x1)\n",
        "# print(y)\n",
        "if y>0.5:\n",
        "  print('Positive')\n",
        "else:\n",
        "  print('Negative')"
      ],
      "execution_count": 85,
      "outputs": [
        {
          "output_type": "stream",
          "text": [
            "WARNING:tensorflow:Model was constructed with shape (None, 300) for input KerasTensor(type_spec=TensorSpec(shape=(None, 300), dtype=tf.float32, name='embedding_input'), name='embedding_input', description=\"created by layer 'embedding_input'\"), but it was called on an input with incompatible shape (None, 1).\n",
            "Positive\n"
          ],
          "name": "stdout"
        }
      ]
    },
    {
      "cell_type": "code",
      "metadata": {
        "id": "ZVDSCTPQ0Zp3"
      },
      "source": [
        ""
      ],
      "execution_count": 85,
      "outputs": []
    }
  ]
}