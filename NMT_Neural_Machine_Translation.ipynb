{
  "nbformat": 4,
  "nbformat_minor": 0,
  "metadata": {
    "colab": {
      "name": "NMT-Neural Machine Translation.ipynb",
      "provenance": [],
      "collapsed_sections": []
    },
    "kernelspec": {
      "display_name": "Python 3",
      "name": "python3"
    },
    "accelerator": "GPU"
  },
  "cells": [
    {
      "cell_type": "markdown",
      "metadata": {
        "id": "kizGLat87M7D"
      },
      "source": [
        "#**Neural Machine Translation**\n",
        "###NMT is the use of neural network models to learn a statistical model for machine translation.\n",
        "\n",
        "\n"
      ]
    },
    {
      "cell_type": "markdown",
      "metadata": {
        "id": "bWfdyS9STv7m"
      },
      "source": [
        "The language translation model that we are going to develop will translate English sentences into their French language counterparts.To develop such a model, we need a dataset that contains English sentences and their French translations."
      ]
    },
    {
      "cell_type": "markdown",
      "metadata": {
        "id": "L1zC5u6VvUq1"
      },
      "source": [
        "The English-French Dataset is taken from:  http://www.manythings.org/anki/"
      ]
    },
    {
      "cell_type": "markdown",
      "metadata": {
        "id": "sCP8eTn2Sw7s"
      },
      "source": [
        "This model will be build using the keras library. \n"
      ]
    },
    {
      "cell_type": "markdown",
      "metadata": {
        "id": "e-Dc1NCxTaUr"
      },
      "source": [
        "LSTM model will be used to train on the dataset."
      ]
    },
    {
      "cell_type": "markdown",
      "metadata": {
        "id": "1bFBqHUwS7jE"
      },
      "source": [
        "**Steps:**\n",
        "1. Data Exploration\n",
        "2. Data cleaning and preprocessing\n",
        "3. Word to Vector / Tokenization\n",
        "4. Defining the Encoder\n",
        "5. Defining the Decoder\n",
        "6. Training the model\n",
        "7. Optimization\n",
        "8. Calculating accuracy\n"
      ]
    },
    {
      "cell_type": "code",
      "metadata": {
        "colab": {
          "base_uri": "https://localhost:8080/"
        },
        "id": "_Qrrh0s_86Pn",
        "outputId": "04ca974e-0a0c-4678-c0b1-8626002ccfd5"
      },
      "source": [
        "from google.colab import drive\n",
        "drive.mount('/content/drive')"
      ],
      "execution_count": null,
      "outputs": [
        {
          "output_type": "stream",
          "text": [
            "Drive already mounted at /content/drive; to attempt to forcibly remount, call drive.mount(\"/content/drive\", force_remount=True).\n"
          ],
          "name": "stdout"
        }
      ]
    },
    {
      "cell_type": "markdown",
      "metadata": {
        "id": "hRM8VbTdNHJx"
      },
      "source": [
        "Importing the libraries"
      ]
    },
    {
      "cell_type": "code",
      "metadata": {
        "id": "Wqx7rkmV73gB"
      },
      "source": [
        "import pandas as pd \n",
        "import nltk            \n",
        "from nltk.corpus import stopwords\n",
        "import string\n",
        "import matplotlib.pyplot as plt\n",
        "from keras.preprocessing.text import Tokenizer\n",
        "from keras.preprocessing.sequence import pad_sequences\n",
        "import numpy as np\n",
        "from keras.layers.embeddings import  Embedding\n",
        "from keras.layers import LSTM, Dense, Input\n",
        "from keras.models import Model\n",
        "from sklearn.model_selection import train_test_split"
      ],
      "execution_count": null,
      "outputs": []
    },
    {
      "cell_type": "markdown",
      "metadata": {
        "id": "jzBl-3Ph7U8x"
      },
      "source": [
        "##**Collecting the data**\n"
      ]
    },
    {
      "cell_type": "code",
      "metadata": {
        "colab": {
          "base_uri": "https://localhost:8080/",
          "height": 202
        },
        "id": "oNFxo11Ueezd",
        "outputId": "31113138-58ff-481c-e892-266671ad131a"
      },
      "source": [
        " data = pd.read_csv('/content/drive/MyDrive/Datasets/Hindi_English_Truncated_Corpus.csv', encoding='utf-8')\n",
        " data.head()"
      ],
      "execution_count": null,
      "outputs": [
        {
          "output_type": "execute_result",
          "data": {
            "text/html": [
              "<div>\n",
              "<style scoped>\n",
              "    .dataframe tbody tr th:only-of-type {\n",
              "        vertical-align: middle;\n",
              "    }\n",
              "\n",
              "    .dataframe tbody tr th {\n",
              "        vertical-align: top;\n",
              "    }\n",
              "\n",
              "    .dataframe thead th {\n",
              "        text-align: right;\n",
              "    }\n",
              "</style>\n",
              "<table border=\"1\" class=\"dataframe\">\n",
              "  <thead>\n",
              "    <tr style=\"text-align: right;\">\n",
              "      <th></th>\n",
              "      <th>source</th>\n",
              "      <th>english_sentence</th>\n",
              "      <th>hindi_sentence</th>\n",
              "    </tr>\n",
              "  </thead>\n",
              "  <tbody>\n",
              "    <tr>\n",
              "      <th>0</th>\n",
              "      <td>ted</td>\n",
              "      <td>politicians do not have permission to do what ...</td>\n",
              "      <td>राजनीतिज्ञों के पास जो कार्य करना चाहिए, वह कर...</td>\n",
              "    </tr>\n",
              "    <tr>\n",
              "      <th>1</th>\n",
              "      <td>ted</td>\n",
              "      <td>I'd like to tell you about one such child,</td>\n",
              "      <td>मई आपको ऐसे ही एक बच्चे के बारे में बताना चाहू...</td>\n",
              "    </tr>\n",
              "    <tr>\n",
              "      <th>2</th>\n",
              "      <td>indic2012</td>\n",
              "      <td>This percentage is even greater than the perce...</td>\n",
              "      <td>यह प्रतिशत भारत में हिन्दुओं प्रतिशत से अधिक है।</td>\n",
              "    </tr>\n",
              "    <tr>\n",
              "      <th>3</th>\n",
              "      <td>ted</td>\n",
              "      <td>what we really mean is that they're bad at not...</td>\n",
              "      <td>हम ये नहीं कहना चाहते कि वो ध्यान नहीं दे पाते</td>\n",
              "    </tr>\n",
              "    <tr>\n",
              "      <th>4</th>\n",
              "      <td>indic2012</td>\n",
              "      <td>.The ending portion of these Vedas is called U...</td>\n",
              "      <td>इन्हीं वेदों का अंतिम भाग उपनिषद कहलाता है।</td>\n",
              "    </tr>\n",
              "  </tbody>\n",
              "</table>\n",
              "</div>"
            ],
            "text/plain": [
              "      source  ...                                     hindi_sentence\n",
              "0        ted  ...  राजनीतिज्ञों के पास जो कार्य करना चाहिए, वह कर...\n",
              "1        ted  ...  मई आपको ऐसे ही एक बच्चे के बारे में बताना चाहू...\n",
              "2  indic2012  ...   यह प्रतिशत भारत में हिन्दुओं प्रतिशत से अधिक है।\n",
              "3        ted  ...     हम ये नहीं कहना चाहते कि वो ध्यान नहीं दे पाते\n",
              "4  indic2012  ...        इन्हीं वेदों का अंतिम भाग उपनिषद कहलाता है।\n",
              "\n",
              "[5 rows x 3 columns]"
            ]
          },
          "metadata": {
            "tags": []
          },
          "execution_count": 38
        }
      ]
    },
    {
      "cell_type": "markdown",
      "metadata": {
        "id": "BbvS6RQlKmmN"
      },
      "source": [
        "##**Data Exploration**"
      ]
    },
    {
      "cell_type": "code",
      "metadata": {
        "colab": {
          "base_uri": "https://localhost:8080/"
        },
        "id": "zldtj334RozR",
        "outputId": "21328fbb-6358-4417-fd1d-7427f19872c0"
      },
      "source": [
        "data['source'].value_counts()"
      ],
      "execution_count": null,
      "outputs": [
        {
          "output_type": "execute_result",
          "data": {
            "text/plain": [
              "tides        50000\n",
              "ted          39881\n",
              "indic2012    37726\n",
              "Name: source, dtype: int64"
            ]
          },
          "metadata": {
            "tags": []
          },
          "execution_count": 39
        }
      ]
    },
    {
      "cell_type": "code",
      "metadata": {
        "id": "UhNvkwUuTv7O"
      },
      "source": [
        "data = data[data['source']=='ted']"
      ],
      "execution_count": null,
      "outputs": []
    },
    {
      "cell_type": "markdown",
      "metadata": {
        "id": "Y65Nxps9XcP7"
      },
      "source": [
        "Checking the data"
      ]
    },
    {
      "cell_type": "code",
      "metadata": {
        "colab": {
          "base_uri": "https://localhost:8080/",
          "height": 355
        },
        "id": "U5hiLe8x9gUs",
        "outputId": "6e431313-cf0c-40f2-f4e6-4580456671bc"
      },
      "source": [
        "data.head(10)    #first 5 values"
      ],
      "execution_count": null,
      "outputs": [
        {
          "output_type": "execute_result",
          "data": {
            "text/html": [
              "<div>\n",
              "<style scoped>\n",
              "    .dataframe tbody tr th:only-of-type {\n",
              "        vertical-align: middle;\n",
              "    }\n",
              "\n",
              "    .dataframe tbody tr th {\n",
              "        vertical-align: top;\n",
              "    }\n",
              "\n",
              "    .dataframe thead th {\n",
              "        text-align: right;\n",
              "    }\n",
              "</style>\n",
              "<table border=\"1\" class=\"dataframe\">\n",
              "  <thead>\n",
              "    <tr style=\"text-align: right;\">\n",
              "      <th></th>\n",
              "      <th>source</th>\n",
              "      <th>english_sentence</th>\n",
              "      <th>hindi_sentence</th>\n",
              "    </tr>\n",
              "  </thead>\n",
              "  <tbody>\n",
              "    <tr>\n",
              "      <th>0</th>\n",
              "      <td>ted</td>\n",
              "      <td>politicians do not have permission to do what ...</td>\n",
              "      <td>राजनीतिज्ञों के पास जो कार्य करना चाहिए, वह कर...</td>\n",
              "    </tr>\n",
              "    <tr>\n",
              "      <th>1</th>\n",
              "      <td>ted</td>\n",
              "      <td>I'd like to tell you about one such child,</td>\n",
              "      <td>मई आपको ऐसे ही एक बच्चे के बारे में बताना चाहू...</td>\n",
              "    </tr>\n",
              "    <tr>\n",
              "      <th>3</th>\n",
              "      <td>ted</td>\n",
              "      <td>what we really mean is that they're bad at not...</td>\n",
              "      <td>हम ये नहीं कहना चाहते कि वो ध्यान नहीं दे पाते</td>\n",
              "    </tr>\n",
              "    <tr>\n",
              "      <th>7</th>\n",
              "      <td>ted</td>\n",
              "      <td>And who are we to say, even, that they are wrong</td>\n",
              "      <td>और हम होते कौन हैं यह कहने भी वाले कि वे गलत हैं</td>\n",
              "    </tr>\n",
              "    <tr>\n",
              "      <th>13</th>\n",
              "      <td>ted</td>\n",
              "      <td>So there is some sort of justice</td>\n",
              "      <td>तो वहाँ न्याय है</td>\n",
              "    </tr>\n",
              "    <tr>\n",
              "      <th>23</th>\n",
              "      <td>ted</td>\n",
              "      <td>This changed slowly</td>\n",
              "      <td>धीरे धीरे ये सब बदला</td>\n",
              "    </tr>\n",
              "    <tr>\n",
              "      <th>26</th>\n",
              "      <td>ted</td>\n",
              "      <td>were being produced.</td>\n",
              "      <td>उत्पन्न नहीं कि जाती थी.</td>\n",
              "    </tr>\n",
              "    <tr>\n",
              "      <th>30</th>\n",
              "      <td>ted</td>\n",
              "      <td>And you can see, this LED is going to glow.</td>\n",
              "      <td>और जैसा आप देख रहे है, ये एल.ई.डी. जल उठेगी।</td>\n",
              "    </tr>\n",
              "    <tr>\n",
              "      <th>32</th>\n",
              "      <td>ted</td>\n",
              "      <td>to turn on the lights or to bring him a glass ...</td>\n",
              "      <td>लाईट जलाने के लिए या उनके लिए पानी लाने के लिए,</td>\n",
              "    </tr>\n",
              "    <tr>\n",
              "      <th>35</th>\n",
              "      <td>ted</td>\n",
              "      <td>Can you imagine saying that?</td>\n",
              "      <td>क्या आप ये कल्पना कर सकते है</td>\n",
              "    </tr>\n",
              "  </tbody>\n",
              "</table>\n",
              "</div>"
            ],
            "text/plain": [
              "   source  ...                                     hindi_sentence\n",
              "0     ted  ...  राजनीतिज्ञों के पास जो कार्य करना चाहिए, वह कर...\n",
              "1     ted  ...  मई आपको ऐसे ही एक बच्चे के बारे में बताना चाहू...\n",
              "3     ted  ...     हम ये नहीं कहना चाहते कि वो ध्यान नहीं दे पाते\n",
              "7     ted  ...   और हम होते कौन हैं यह कहने भी वाले कि वे गलत हैं\n",
              "13    ted  ...                                   तो वहाँ न्याय है\n",
              "23    ted  ...                               धीरे धीरे ये सब बदला\n",
              "26    ted  ...                           उत्पन्न नहीं कि जाती थी.\n",
              "30    ted  ...       और जैसा आप देख रहे है, ये एल.ई.डी. जल उठेगी।\n",
              "32    ted  ...    लाईट जलाने के लिए या उनके लिए पानी लाने के लिए,\n",
              "35    ted  ...                       क्या आप ये कल्पना कर सकते है\n",
              "\n",
              "[10 rows x 3 columns]"
            ]
          },
          "metadata": {
            "tags": []
          },
          "execution_count": 41
        }
      ]
    },
    {
      "cell_type": "code",
      "metadata": {
        "colab": {
          "base_uri": "https://localhost:8080/",
          "height": 355
        },
        "id": "d4uqPj8L9h_a",
        "outputId": "d197a907-feb3-4681-82cf-545212639bf4"
      },
      "source": [
        "data.tail(10)    #last 5 values"
      ],
      "execution_count": null,
      "outputs": [
        {
          "output_type": "execute_result",
          "data": {
            "text/html": [
              "<div>\n",
              "<style scoped>\n",
              "    .dataframe tbody tr th:only-of-type {\n",
              "        vertical-align: middle;\n",
              "    }\n",
              "\n",
              "    .dataframe tbody tr th {\n",
              "        vertical-align: top;\n",
              "    }\n",
              "\n",
              "    .dataframe thead th {\n",
              "        text-align: right;\n",
              "    }\n",
              "</style>\n",
              "<table border=\"1\" class=\"dataframe\">\n",
              "  <thead>\n",
              "    <tr style=\"text-align: right;\">\n",
              "      <th></th>\n",
              "      <th>source</th>\n",
              "      <th>english_sentence</th>\n",
              "      <th>hindi_sentence</th>\n",
              "    </tr>\n",
              "  </thead>\n",
              "  <tbody>\n",
              "    <tr>\n",
              "      <th>127575</th>\n",
              "      <td>ted</td>\n",
              "      <td>it requires that all of us have the courage an...</td>\n",
              "      <td>हम सब में हिम्मत और धैर्य हो,</td>\n",
              "    </tr>\n",
              "    <tr>\n",
              "      <th>127583</th>\n",
              "      <td>ted</td>\n",
              "      <td>need not be, so-called, jugaad, need not be so...</td>\n",
              "      <td>या फ़िर सिर्फ़ जुगाड कर के किसी तरह बना दिये ग...</td>\n",
              "    </tr>\n",
              "    <tr>\n",
              "      <th>127588</th>\n",
              "      <td>ted</td>\n",
              "      <td>it keeps forwarding you to more and more advan...</td>\n",
              "      <td>आपको और ज्यादा आगे के स्तर पर ये अपने आप लेता ...</td>\n",
              "    </tr>\n",
              "    <tr>\n",
              "      <th>127589</th>\n",
              "      <td>ted</td>\n",
              "      <td>Let's figure out how long it takes a race car ...</td>\n",
              "      <td>देखते है कि रेस कार एक निश्चित समय मे कितनी दू...</td>\n",
              "    </tr>\n",
              "    <tr>\n",
              "      <th>127592</th>\n",
              "      <td>ted</td>\n",
              "      <td>Because when you are a developing country</td>\n",
              "      <td>क्योंकि जब आप एक विकासशील देश हैं</td>\n",
              "    </tr>\n",
              "    <tr>\n",
              "      <th>127595</th>\n",
              "      <td>ted</td>\n",
              "      <td>is if we want that to become our reality -</td>\n",
              "      <td>अगर हम चाहते हैं कि यह वास्तविकता बने -</td>\n",
              "    </tr>\n",
              "    <tr>\n",
              "      <th>127597</th>\n",
              "      <td>ted</td>\n",
              "      <td>Africa has not done bad.</td>\n",
              "      <td>अफ़्रीका ने कुछ गलती नहीं की है।</td>\n",
              "    </tr>\n",
              "    <tr>\n",
              "      <th>127598</th>\n",
              "      <td>ted</td>\n",
              "      <td>Thank you.</td>\n",
              "      <td>धन्यवाद |</td>\n",
              "    </tr>\n",
              "    <tr>\n",
              "      <th>127603</th>\n",
              "      <td>ted</td>\n",
              "      <td>and put it in our cheeks.</td>\n",
              "      <td>और अपने गालों में डाल लेते हैं।</td>\n",
              "    </tr>\n",
              "    <tr>\n",
              "      <th>127606</th>\n",
              "      <td>ted</td>\n",
              "      <td>They've just won four government contracts to ...</td>\n",
              "      <td>हाल ही में उन्हें सरकारी ठेका मिला है करीब सौ ...</td>\n",
              "    </tr>\n",
              "  </tbody>\n",
              "</table>\n",
              "</div>"
            ],
            "text/plain": [
              "       source  ...                                     hindi_sentence\n",
              "127575    ted  ...                      हम सब में हिम्मत और धैर्य हो,\n",
              "127583    ted  ...  या फ़िर सिर्फ़ जुगाड कर के किसी तरह बना दिये ग...\n",
              "127588    ted  ...  आपको और ज्यादा आगे के स्तर पर ये अपने आप लेता ...\n",
              "127589    ted  ...  देखते है कि रेस कार एक निश्चित समय मे कितनी दू...\n",
              "127592    ted  ...                  क्योंकि जब आप एक विकासशील देश हैं\n",
              "127595    ted  ...            अगर हम चाहते हैं कि यह वास्तविकता बने -\n",
              "127597    ted  ...                   अफ़्रीका ने कुछ गलती नहीं की है।\n",
              "127598    ted  ...                                          धन्यवाद |\n",
              "127603    ted  ...                    और अपने गालों में डाल लेते हैं।\n",
              "127606    ted  ...  हाल ही में उन्हें सरकारी ठेका मिला है करीब सौ ...\n",
              "\n",
              "[10 rows x 3 columns]"
            ]
          },
          "metadata": {
            "tags": []
          },
          "execution_count": 42
        }
      ]
    },
    {
      "cell_type": "markdown",
      "metadata": {
        "id": "vZop3A7DKWef"
      },
      "source": [
        "Shape of data"
      ]
    },
    {
      "cell_type": "code",
      "metadata": {
        "colab": {
          "base_uri": "https://localhost:8080/"
        },
        "id": "NN0cOnzqKT9X",
        "outputId": "81c4f6ff-b16f-4d31-d235-36f055942c1e"
      },
      "source": [
        "data.shape"
      ],
      "execution_count": null,
      "outputs": [
        {
          "output_type": "execute_result",
          "data": {
            "text/plain": [
              "(39881, 3)"
            ]
          },
          "metadata": {
            "tags": []
          },
          "execution_count": 43
        }
      ]
    },
    {
      "cell_type": "code",
      "metadata": {
        "colab": {
          "base_uri": "https://localhost:8080/"
        },
        "id": "utK_TuWhKa1w",
        "outputId": "833f0d81-bb0f-4e3d-ddfc-03426946894a"
      },
      "source": [
        "data.info()"
      ],
      "execution_count": null,
      "outputs": [
        {
          "output_type": "stream",
          "text": [
            "<class 'pandas.core.frame.DataFrame'>\n",
            "Int64Index: 39881 entries, 0 to 127606\n",
            "Data columns (total 3 columns):\n",
            " #   Column            Non-Null Count  Dtype \n",
            "---  ------            --------------  ----- \n",
            " 0   source            39881 non-null  object\n",
            " 1   english_sentence  39881 non-null  object\n",
            " 2   hindi_sentence    39881 non-null  object\n",
            "dtypes: object(3)\n",
            "memory usage: 1.2+ MB\n"
          ],
          "name": "stdout"
        }
      ]
    },
    {
      "cell_type": "markdown",
      "metadata": {
        "id": "-RcOGlrbJS1h"
      },
      "source": [
        "Checking if the dataset has null values."
      ]
    },
    {
      "cell_type": "code",
      "metadata": {
        "colab": {
          "base_uri": "https://localhost:8080/"
        },
        "id": "BBgZUfNm_Gmd",
        "outputId": "2dca914f-8c11-4674-831d-f27d33bab8ec"
      },
      "source": [
        "data.isnull().sum()               #sum of all null values"
      ],
      "execution_count": null,
      "outputs": [
        {
          "output_type": "execute_result",
          "data": {
            "text/plain": [
              "source              0\n",
              "english_sentence    0\n",
              "hindi_sentence      0\n",
              "dtype: int64"
            ]
          },
          "metadata": {
            "tags": []
          },
          "execution_count": 45
        }
      ]
    },
    {
      "cell_type": "code",
      "metadata": {
        "colab": {
          "base_uri": "https://localhost:8080/",
          "height": 202
        },
        "id": "mvsDz71orGCJ",
        "outputId": "4234e75a-58a3-4a23-92b0-95cd1395c500"
      },
      "source": [
        "data.columns = ['source','English', 'Hindi']\n",
        "data.head()"
      ],
      "execution_count": null,
      "outputs": [
        {
          "output_type": "execute_result",
          "data": {
            "text/html": [
              "<div>\n",
              "<style scoped>\n",
              "    .dataframe tbody tr th:only-of-type {\n",
              "        vertical-align: middle;\n",
              "    }\n",
              "\n",
              "    .dataframe tbody tr th {\n",
              "        vertical-align: top;\n",
              "    }\n",
              "\n",
              "    .dataframe thead th {\n",
              "        text-align: right;\n",
              "    }\n",
              "</style>\n",
              "<table border=\"1\" class=\"dataframe\">\n",
              "  <thead>\n",
              "    <tr style=\"text-align: right;\">\n",
              "      <th></th>\n",
              "      <th>source</th>\n",
              "      <th>English</th>\n",
              "      <th>Hindi</th>\n",
              "    </tr>\n",
              "  </thead>\n",
              "  <tbody>\n",
              "    <tr>\n",
              "      <th>0</th>\n",
              "      <td>ted</td>\n",
              "      <td>politicians do not have permission to do what ...</td>\n",
              "      <td>राजनीतिज्ञों के पास जो कार्य करना चाहिए, वह कर...</td>\n",
              "    </tr>\n",
              "    <tr>\n",
              "      <th>1</th>\n",
              "      <td>ted</td>\n",
              "      <td>I'd like to tell you about one such child,</td>\n",
              "      <td>मई आपको ऐसे ही एक बच्चे के बारे में बताना चाहू...</td>\n",
              "    </tr>\n",
              "    <tr>\n",
              "      <th>3</th>\n",
              "      <td>ted</td>\n",
              "      <td>what we really mean is that they're bad at not...</td>\n",
              "      <td>हम ये नहीं कहना चाहते कि वो ध्यान नहीं दे पाते</td>\n",
              "    </tr>\n",
              "    <tr>\n",
              "      <th>7</th>\n",
              "      <td>ted</td>\n",
              "      <td>And who are we to say, even, that they are wrong</td>\n",
              "      <td>और हम होते कौन हैं यह कहने भी वाले कि वे गलत हैं</td>\n",
              "    </tr>\n",
              "    <tr>\n",
              "      <th>13</th>\n",
              "      <td>ted</td>\n",
              "      <td>So there is some sort of justice</td>\n",
              "      <td>तो वहाँ न्याय है</td>\n",
              "    </tr>\n",
              "  </tbody>\n",
              "</table>\n",
              "</div>"
            ],
            "text/plain": [
              "   source  ...                                              Hindi\n",
              "0     ted  ...  राजनीतिज्ञों के पास जो कार्य करना चाहिए, वह कर...\n",
              "1     ted  ...  मई आपको ऐसे ही एक बच्चे के बारे में बताना चाहू...\n",
              "3     ted  ...     हम ये नहीं कहना चाहते कि वो ध्यान नहीं दे पाते\n",
              "7     ted  ...   और हम होते कौन हैं यह कहने भी वाले कि वे गलत हैं\n",
              "13    ted  ...                                   तो वहाँ न्याय है\n",
              "\n",
              "[5 rows x 3 columns]"
            ]
          },
          "metadata": {
            "tags": []
          },
          "execution_count": 46
        }
      ]
    },
    {
      "cell_type": "code",
      "metadata": {
        "id": "Uux-8XdUYYfF"
      },
      "source": [
        "data = data[~pd.isnull(data['English'])]"
      ],
      "execution_count": null,
      "outputs": []
    },
    {
      "cell_type": "markdown",
      "metadata": {
        "id": "G9rxXaglJmJi"
      },
      "source": [
        "Checking if the dataset has duplicate values"
      ]
    },
    {
      "cell_type": "code",
      "metadata": {
        "colab": {
          "base_uri": "https://localhost:8080/"
        },
        "id": "TtROOVjyJZ2t",
        "outputId": "6ae08ac5-21bd-4629-fe3b-d7c83d3a203c"
      },
      "source": [
        "data.duplicated().sum()   #Words with more than one translation"
      ],
      "execution_count": null,
      "outputs": [
        {
          "output_type": "execute_result",
          "data": {
            "text/plain": [
              "1078"
            ]
          },
          "metadata": {
            "tags": []
          },
          "execution_count": 48
        }
      ]
    },
    {
      "cell_type": "code",
      "metadata": {
        "id": "2dtMF_OHUJhR"
      },
      "source": [
        "data.drop_duplicates(inplace = True)\n",
        "data = data.reset_index()\n",
        "data.drop('index', axis = 1, inplace = True)"
      ],
      "execution_count": null,
      "outputs": []
    },
    {
      "cell_type": "markdown",
      "metadata": {
        "id": "DeTDdMLCKqhC"
      },
      "source": [
        "##**Data Preprocessing**"
      ]
    },
    {
      "cell_type": "markdown",
      "metadata": {
        "id": "0W-uJAMWhBT0"
      },
      "source": [
        "###Data cleaning:\n",
        "\n",
        "1.   Remove the punctuation.\n",
        "2.   Convert them into lower form.\n",
        "3.   Removing the digits.\n",
        "4.   Removing quotes.\n",
        "5.   Removing extra spaces.\n",
        "6.   Adding start and end tokens to target sentence.\n",
        "\n"
      ]
    },
    {
      "cell_type": "code",
      "metadata": {
        "id": "LoayV6bTLuNJ"
      },
      "source": [
        "def clean(tokens):\n",
        "  punct = string.punctuation\n",
        "  h = '२३०८१५७९४६'\n",
        " \n",
        "  for z in h:\n",
        "    if z in tokens:\n",
        "      tokens = tokens.replace(z,'')        # replacing the hindi digits with ''\n",
        "\n",
        "\n",
        "  if \"'\" in tokens:\n",
        "    tokens = tokens.replace(\"'\",'')        # replacing the quotes with ''\n",
        "\n",
        "  for z in punct:\n",
        "    if z in tokens:\n",
        "      tokens = tokens.replace(z,'')        # replacing the punctuation with ''\n",
        "\n",
        "  for z in tokens.split():\n",
        "    if z.isnumeric():                      # replacing the digits with ''\n",
        "      tokens = tokens.replace(z,'')\n",
        "\n",
        "  tokens = tokens.strip()                  # removing spaces\n",
        "                \n",
        "  tokens = tokens.lower()                  # converting the string into lower form\n",
        "  return tokens"
      ],
      "execution_count": null,
      "outputs": []
    },
    {
      "cell_type": "code",
      "metadata": {
        "colab": {
          "base_uri": "https://localhost:8080/"
        },
        "id": "WZ_CX2Y0Qbx-",
        "outputId": "a5e8af2a-e887-4740-b397-5a7543abc956"
      },
      "source": [
        "clean1=[]\n",
        "a = data['English']\n",
        "b = data['Hindi']\n",
        "for i in range(len(a)):\n",
        "  clean1.append((clean(a[i]),clean(b[i])))          #applying the function to both 'English' and 'Hindi'\n",
        "clean1"
      ],
      "execution_count": null,
      "outputs": [
        {
          "output_type": "execute_result",
          "data": {
            "text/plain": [
              "[('politicians do not have permission to do what needs to be done',\n",
              "  'राजनीतिज्ञों के पास जो कार्य करना चाहिए वह करने कि अनुमति नहीं है'),\n",
              " ('id like to tell you about one such child',\n",
              "  'मई आपको ऐसे ही एक बच्चे के बारे में बताना चाहूंगी'),\n",
              " ('what we really mean is that theyre bad at not paying attention',\n",
              "  'हम ये नहीं कहना चाहते कि वो ध्यान नहीं दे पाते'),\n",
              " ('and who are we to say even that they are wrong',\n",
              "  'और हम होते कौन हैं यह कहने भी वाले कि वे गलत हैं'),\n",
              " ('so there is some sort of justice', 'तो वहाँ न्याय है'),\n",
              " ('this changed slowly', 'धीरे धीरे ये सब बदला'),\n",
              " ('were being produced', 'उत्पन्न नहीं कि जाती थी'),\n",
              " ('and you can see this led is going to glow',\n",
              "  'और जैसा आप देख रहे है ये एलईडी जल उठेगी।'),\n",
              " ('to turn on the lights or to bring him a glass of water',\n",
              "  'लाईट जलाने के लिए या उनके लिए पानी लाने के लिए'),\n",
              " ('can you imagine saying that', 'क्या आप ये कल्पना कर सकते है'),\n",
              " ('three this is a good road in  right near where our factory is located',\n",
              "  'तीसरी ये हमारी फ़ैक्ट्री के पास की एक अपेक्षाकृत बेहतर सडक है।'),\n",
              " ('whats going on”', 'क्या हो रहा है ये”'),\n",
              " ('there are also financial reforms in rural china',\n",
              "  'ग्रामीण चीन में आर्थिक नवीनीकरण हुये हैं।'),\n",
              " ('the family planning started in vietnam and they went for smaller families',\n",
              "  'वियतनाम में परिवार योजना शुरू हो गई और उनके परिवार छोटे होने लगे।'),\n",
              " ('i mean at that time trust me', 'मेरा मतलब उस समय सही मानिए'),\n",
              " ('not only that', 'बस वही नहीं'),\n",
              " ('humans destroyed the commons that they depended on',\n",
              "  'मानवों ने उन ही साझे संसाधनों को नष्ट किया जिन पर वो आधारित थे।'),\n",
              " ('almost goes to e but otherwise the play would be over',\n",
              "  'रचना करीब करीब ई तक जाती है मगर तब तो नाटक ख़त्म हो जाएगा'),\n",
              " ('so i want to share with you a couple key insights',\n",
              "  'मैं आपके साथ कुछ मुख्य सूत्र बाँटना चाहता हूँ'),\n",
              " ('many countries in the unclear they need legitimacy',\n",
              "  'अस्पष्ट के बहुत सारे राष्ट्रों को मान्यता चाहिए'),\n",
              " ('this change has contributed', 'यह परिवर्तन योगदान दे रहा है'),\n",
              " ('is to create ownership in the community to the problem',\n",
              "  'हमने समस्या का हल निकालने का ज़िम्मा पूरे समुदाय पर डाल दिया'),\n",
              " ('greatly understate its impact', 'इसके प्रभाव को बहुत ही कम आंका गया है।'),\n",
              " ('the carrier hotel', 'कैरियर होटल'),\n",
              " ('that it learns or is preprogrammed',\n",
              "  'जो वह सीखता है या पूर्व क्रमादेशित होता है'),\n",
              " ('have different colors and different textures to our eye',\n",
              "  'हमारी आखो के लिए अलग बनावट और अलग रंग के हैं'),\n",
              " ('and i think any wise life will accept',\n",
              "  'मुझे लगता है कोई भी बुद्धिमान जीवन इस बात को मानेगा कि'),\n",
              " ('to create a dry mist', 'सूखे धुंध को बनाने के लिए'),\n",
              " ('than are put into malaria', 'मलेरिया के मुकाबले।'),\n",
              " ('when the space race was going on',\n",
              "  'जब ये अंतरिक्ष प्रतिस्पर्धा पूरे ज़ोर पर था'),\n",
              " ('i was forced to get a paper route at  years old',\n",
              "  'दस साल की उम्र में मुझे जबरदस्ती अखबार बेचना भेज दिया गया ।'),\n",
              " ('i then read him a chapter',\n",
              "  'फिर मैंने उसे roald dahl की “james and the giant peach”'),\n",
              " ('permanent billowing voluptuous forms',\n",
              "  'स्थायी तरंगित आकर्षक बड़ी इमारतो के आकार के'),\n",
              " ('every five years', 'हर पाँच साल में'),\n",
              " ('the blue and the dim', 'नीले और मंद'),\n",
              " ('so we light our buildings with daylight',\n",
              "  'तो हम अपनी इमारतों को दिन के उजाले से प्रकाशित करते हैं'),\n",
              " ('where the time the website', 'कहाँ  कब वेब्साइट।'),\n",
              " ('and that is for their children to grow up successful',\n",
              "  'और वह है कि उनके बच्चे कामयाब निकलें'),\n",
              " ('about the world than the chimpanzees',\n",
              "  'विश्व के बारे में चिंपैंजी से भी कम जानते हैं।'),\n",
              " ('that all three have also been responsible in',\n",
              "  'तीनों ही अपनी योजनाओं और प्रस्तावों को सामने रखने के मामले में'),\n",
              " ('but we also know where we are through movement',\n",
              "  'लेकिन हम अपने गति के कारण यह भी जानते है कि हम कहाँ हैं'),\n",
              " ('we were up in the mountains and feynman said to me',\n",
              "  'पहाड़ों में ऊपर थे और फेय्न्मन ने मुझसे कहा'),\n",
              " ('we criticized them', 'हमने उनकी आलोचना की'),\n",
              " ('the relics of creation and inferring what happened at the beginning',\n",
              "  'सृ्ष्टि के अवशेषों के माध्यम से यह अनुमान लगाने का प्रयास करेंगे कि आरंभ में क्या हुआ था'),\n",
              " ('with the same strategy as down here the improvement of the world',\n",
              "  'विश्व सुधार अत्यधिक प्रासंगिक होना चाहिए'),\n",
              " ('do you remember hamlet act  scene',\n",
              "  'आपको ध्यान है हैमलेट पहला ऐक्ट तीसरा सीन'),\n",
              " ('the ammonia evaporates', 'अमोनिया उड जाती है'),\n",
              " ('they take realtime data', 'वो समकालीन आंकडें लेते हैं'),\n",
              " ('like youve always got two choices',\n",
              "  'कि आपके पास हमेशा दो विकल्प होने चाहिए'),\n",
              " ('was this one water found on the moon',\n",
              "  'मेरा चुनाव होगा चंद्रमा पर पानी मिलना'),\n",
              " ('the hub of democracy around the world', 'दुनिउया का लोकशाही केंद्र'),\n",
              " ('to avoid thinking about being wrong',\n",
              "  'अपनी गलतियों के बारे में सोचने से बचने के लिए'),\n",
              " ('amazing', 'कमाल है'),\n",
              " ('and indeed continue to change those identities',\n",
              "  'और अपनी पहचान को बदलते भी रह सकते हैं'),\n",
              " ('and being a little intrigued i went to go meet this group',\n",
              "  'और क्योंकि मुझे ये अजीब लगा था मैं उनसे मिलने चली गयी'),\n",
              " ('somebodys storytelling interactive art you can talk to me',\n",
              "  'यह कहानी चल रही है आदानप्रदान की कलाआप मुझ से बात कर सकते हैं'),\n",
              " ('im not saying that it is not reaching at all',\n",
              "  'मैं नहीं कह रहा कि यह बिल्कुल नहीं पहुँच रहा।'),\n",
              " ('actually near afghanistan',\n",
              "  'जो अफगानिस्तान के निकट है की अोर संकेत करते हैं'),\n",
              " ('and depressing ones such as the fact that',\n",
              "  'और कुछ अवसादपूर्ण हैं जैसे नाइजीरिया में'),\n",
              " ('the results can be somewhat comical', 'परिणाम कुछ हास्यकारक हो सकते हैं'),\n",
              " ('a pasting id done a year earlier', 'जो मैंने करीब एक साल पहले लगाया था'),\n",
              " ('thats when he falls', 'यही कारण है कि वह गिरता है'),\n",
              " ('and i really understood what patient capital meant emotionally',\n",
              "  'और मुझे समझ आया कि धैर्यवान पूँजी की भावात्मक महत्ता क्या है'),\n",
              " ('so ami tabar took this and modularized it down to an eighth of an acre',\n",
              "  'तो अमी तबर ने इसे एक एकड के आठवें भाग जितने बडे खेत में लगाने लायक बनाया।'),\n",
              " ('this student probably his first time using it doing very complex manipulation tasks',\n",
              "  'यह छात्र शायद पहली बार इसे उपयोग कर रहा है एक जटिल हस्त कौशल का काम कर रहा है'),\n",
              " ('it used to be that paris and london and new york were the largest cities',\n",
              "  'पहले पैरिस और लन्दन और न्यू योर्क दुनिया के सबसे बड़े शहर हुआ करते थे'),\n",
              " ('then men would still be socializing in front of a wood fire',\n",
              "  'तो आदमी आज भी एक लकड़ी जला कर आग के सामने'),\n",
              " ('so its a very hard model to accept',\n",
              "  'तो स्वीकार करने के लिए ये एक बहुत ही कठिन नमूना है'),\n",
              " ('we found them browsing and teaching each other how to browse',\n",
              "  'हम उन्हें ब्राउज़िंग और एक दूसरे को ब्राउज़ करना सिखाते पाया।'),\n",
              " ('can be very dangerous', 'बहुत खतरनाक हो सकता है'),\n",
              " ('i mean ive been saying ive been prepping',\n",
              "  'मतलब मैं कहती रही हूँ कि मैं तैयारी कर रही हूँ'),\n",
              " ('why i am not getting any', 'मुझे एक भी महिला मदद करने को तैयार नहीं'),\n",
              " ('i made him “the uncle phone”', 'मैंने उन्हें “द अंकल फोन” बना दिया'),\n",
              " ('to fly like a bird', 'एक पंछी की तरह उड़ान भरना'),\n",
              " ('this is india and of course its all the more striking',\n",
              "  'यह है भारत और बेशक इससे भी ज्यादा अचंभित करने वाला है'),\n",
              " ('when my mom and my dad came to canada', 'जब मेरे मातापिता कनाडा आये'),\n",
              " ('is to help them to stand on their own feet',\n",
              "  'कि उन्हें अपने ही पैरों पर खड़े करने के लिए मदद करें।'),\n",
              " ('as a result our complications are significantly lower',\n",
              "  'इसलिये हम यूनाइटेड किन्गडम्\\u200c जैसे देशों के मुकाबले भी'),\n",
              " ('and they are not going down the right path',\n",
              "  'वे सही रास्ते पर नहीं चल रहे हैं'),\n",
              " ('they ran out of space', 'स्थान कम रह गया था।'),\n",
              " ('in cities around the world', 'कला के नमूनों को बनाने में'),\n",
              " ('and its getting stronger', 'और यह मजबूत हो रही है'),\n",
              " ('so these trajectories here are basically how we would expect people to live',\n",
              "  'तो यह पथ रेखाएं दर्शाती हैं कि हमारी अपेक्षा में लोग कैसे जियेंगे'),\n",
              " ('thank you', 'धन्यवाद।'),\n",
              " ('but if youre not a native speaker',\n",
              "  'मगर यदि आप इंगलिश के मूलवक्ता नहीं हैं'),\n",
              " ('we discount sounds that remain the same',\n",
              "  'हम उन आवाजों को छोड़ देते हैं जो सामान रहती है'),\n",
              " ('the next breakthrough is to cut that  million in half again',\n",
              "  'अगली उपलब्धि है उस एक करोड़ को आधा करना'),\n",
              " ('oneupmanship', 'होड़ चली है'),\n",
              " ('if you made literature affordable and available to them',\n",
              "  'यदि हम खरीद पाने लायक मूल्य में उन्हें साहित्य उपलब्ध कराएं'),\n",
              " ('now up until that moment', 'अब तक उस पल तक'),\n",
              " ('को सीखने के लिए खुला रख पाएँ', 'हो सकता है हम अपने दिमागों'),\n",
              " ('because all the information as i said are inside the dna',\n",
              "  'क्योकि सारी जानकारी डीएनए के अंदर है'),\n",
              " ('if nike wanted to sell a pair of shoes',\n",
              "  'अगर नाइकी एक जोडी जूते बेचना चाहता और'),\n",
              " ('youre sitting there looking at the person waiting for them to look away',\n",
              "  'वहाँ पर बैठे हुए किसी व्यक्ति की तरफ देखते हुए और उनके कहीं और देखने का इंतेज़ार कर रहे हैं'),\n",
              " ('laughter', 'ठहाके'),\n",
              " ('drug addiction you simply want more',\n",
              "  'मादक पदार्थों की लत हों तो आप बस और अधिक चाहते हैं'),\n",
              " ('if i spin this pulley the small ones going to spin much faster',\n",
              "  'अगर मैं इस चक्की को घुमाऊं तो छोटा वाला तेज़ी से घूमेगा।'),\n",
              " ('is actually when i first returned to iran',\n",
              "  'ये असल में मैनें ईरान लौट कर बनाया था'),\n",
              " ('that believe it or not i have picked up',\n",
              "  'यकीन करिए या नहीं ये मैंने सीखे हैं'),\n",
              " ('in our mind the relevant metric', 'हमारे दिमाग में काम की चीज़ है'),\n",
              " ('and i started watching kaki king a lot',\n",
              "  'और मैंने काकी किंग को देखना शुरू किया'),\n",
              " ('in the secular world we think “if an idea is important ill bump into it',\n",
              "  'धर्मनिरपेक्ष संसार मे हम मानते हैं “अगर कोई बात जरूरी है तो हम उस पर अमल करेंगे'),\n",
              " ('you can stay with me for  years go tomorrow',\n",
              "  'आप मेरे साथ  साल रह सकते है और कल जा भी सकते हैं।'),\n",
              " ('have had what you might call a spiritual experience',\n",
              "  'को हुआ होगा जिसे आप आध्यात्मिक अनुभव कहते हैं'),\n",
              " ('that we developed called impass', 'जिसे हमने बनाया है जिसका नाम impass है'),\n",
              " ('and they go over all this  im going to try to be',\n",
              "  'और ये सब हो रहा है  इस साल मैं कोशिश करूँगा'),\n",
              " ('just out of curiosity how many of you', 'उत्सुक्तावश कितने आप में से'),\n",
              " ('prostate tumor activity is shown in red  you can',\n",
              "  'प्रोस्टेट ट्यूमर गतिविधि लाल रंग से दिखाई गई है'),\n",
              " ('in  her life changed', 'में उसका जीवन बदल गया।'),\n",
              " ('so he takes their radio talks to their boss',\n",
              "  'पाइलट ने सैनिकों का रेडियो लिया उनके साहब से बात की'),\n",
              " ('we can think really that each one is sort of',\n",
              "  'यह भी सोचा जा सकता है कि इन में हर एक'),\n",
              " ('and we were walking', 'वहाँ चलते समय'),\n",
              " ('what you see over here this yellow thing this is not a death ray laughter',\n",
              "  'आप जो यहाँ देख रहे हैं यह पीली चीज़ यह मारने वाली किरणे नहीं है'),\n",
              " ('chris anderson so pranav', 'क्रिस एंडर्सन तो प्रणव'),\n",
              " ('“i think so”', '“लगता तो है”'),\n",
              " ('and they said “no problem we probably hit some birds”',\n",
              "  'और उन्होंने कहा “कोई दिक्कत नहीं है। शायद कोई चिडिया टकरा गयी है।”'),\n",
              " ('if you want a comic book to do well make the librarians the hero it always works well',\n",
              "  'अगर आप चाहते हैं कि कोई कॉमिक प्रसिद्ध हो तो लाइब्रेरी वालों को हीरो बनाइये। सही रहेगा।'),\n",
              " ('for the world in general', 'सारे विश्व को ले कर'),\n",
              " ('well wait for you to finish the tea', 'आपके चाय पीने की प्रतीक्षा करेंगे'),\n",
              " ('im not going to present all the data that i have here today',\n",
              "  'मैं डेटा दिखाने के लिए नहीं जा रहा हूँ'),\n",
              " ('a blind person driving using the airpix',\n",
              "  'एक नेत्रहीन airpix का उपयोग करके गाड़ी चला रहा है'),\n",
              " ('stands for life  the word “life”', 'ज़िन्दगी के लिए है शब्द ज़िन्दगी'),\n",
              " ('than hivaids', 'ट्यूबरकुलोसिस की मौतों'),\n",
              " ('shot at the same height and in the same type of light',\n",
              "  'एक समान ऊंचाई और प्रकाश में खींची हुई'),\n",
              " ('have begun to walk parts of the path of abraham',\n",
              "  'अब्राहमपथ के कुछ भागों पर'),\n",
              " ('is this job tough you betcha oh god you betcha',\n",
              "  'क्या ये कठिन काम है बिल्कुल हे भगवान बहुत कठिन'),\n",
              " ('for he foretold of a period', 'क्यों कि उसने एक समय के बारे में बताया था'),\n",
              " ('but we should also remember', 'पर हमें यह भी याद रखना चाहिए कि'),\n",
              " ('once that trust was built', 'एक बार जब वो विश्वास बन गया'),\n",
              " ('that lie inside us', 'जो हमारे अंदर छुपी हैं'),\n",
              " ('and of course most of you dont support the insurgency',\n",
              "  'और सच में  आप में से ज्यादा तर विद्रोह का साथ नहीं देते'),\n",
              " ('its your resource its not somebody elses',\n",
              "  'मगर ये आपके साधन थे किसी ओरके नहीं'),\n",
              " ('you may have noticed it', 'आपने इन्हें देखा होगा'),\n",
              " ('such as “i really want to run this marathon',\n",
              "  'जैसे की “मैं मेराथन में दौड़ना चाहता हूँ'),\n",
              " ('the values that you espouse', 'जिनका पालन दूसरे लोग करते हैं ।'),\n",
              " ('not just us primates', 'न सिर्फ़ मानवो पर ही'),\n",
              " ('and that animated graphics can make a difference',\n",
              "  'और यह कि जीवंत चित्रों के ज़रिये इन्हें बेहतर दिखाया जा सकता है।'),\n",
              " ('that fundamentally expanded my perception',\n",
              "  'जिसने बुनियादी तौर पर मेरी समझ को बढ़ा दिया'),\n",
              " ('and weve got to absolutely work with these kind of minds',\n",
              "  'और हमे इन दिमाग के विभिन्न प्रकार के साथ काम करना है'),\n",
              " ('and my mother finally says to me “i knew it i knew it',\n",
              "  'और मेरी माँ आखिरकार मुझसे कहती हैं “मैं जानती थी मैं जानती थी'),\n",
              " ('was demonstrated by studies of interference',\n",
              "  'जिसका वर्णन हस्तक्षेप के अध्ययन के द्वारा किया गया था'),\n",
              " ('it brought us hope', 'हमें आशा दे कर।'),\n",
              " ('pranithas mother was a woman in prostitution',\n",
              "  'प्रणिता की मां एक वेश्या थी'),\n",
              " ('his holiness the karmapa tomorrow is my talk',\n",
              "  'परमपावन करमापा  कल मेरा व्याख्यान है'),\n",
              " ('but it does require a lot of planning',\n",
              "  'लेकिन इसके लिए बहुत सारी योजनाओं की जरूरत होती है'),\n",
              " ('as many speakers have said during the past few days',\n",
              "  'जेसा कई वक्ताओं ने पिछले कुछ दिनों के दौरान कहा है'),\n",
              " ('this is called a cycle valve tube', 'इसे साइकिल का वाल्व ट्यूब कहते हैं।'),\n",
              " ('all that we know that hundreds of men',\n",
              "  'हम सिर्फ यह जानते हैं कि सैंकड़ों लोगों ने'),\n",
              " ('thats all thank you', 'बस यही। धन्यवाद्।'),\n",
              " ('the opportunities in various other sectors are enormous',\n",
              "  'तो विभिन्न अन्य क्षेत्रों में विशाल अवसर हैं।'),\n",
              " ('and took my bike helmet', 'मैंने अपना बाइक हेलमेट लिया'),\n",
              " ('we need to confront this fear', 'हमें इस डर का सामना करना होगा'),\n",
              " ('and my artwork', 'और मेरी कलाकृति के बारे में बताना चाहूँगा।'),\n",
              " ('and that again proves', 'और ये फिर से सिद्ध करता है कि'),\n",
              " ('so what were seeing here', 'तो जो हम यहाँ देख रहे हैं'),\n",
              " ('the seventh generation are still fighting for their rights',\n",
              "  'उनकी सातवीं पीढी ब भी अपने अधिकारों के लिए संघर्षरत है।'),\n",
              " ('applause', 'तालियाँ'),\n",
              " ('i dont think in language', 'मै भाषा मे नही सोचती'),\n",
              " ('with my active involvement the leading software writers in the world',\n",
              "  'मेरी सक्रिय भागीदारी के साथ दुनिया के बेहतरीन सॉफ्टवेर लेखक'),\n",
              " ('for countries who do not have access to clean drinking water',\n",
              "  'उन देशों के लिए जिनके पास पीने का साफ़ पानी नहीं है'),\n",
              " ('part of what were finding with this',\n",
              "  'जो हम सीख रहे हैं उसका एक भाग यह भी है'),\n",
              " ('as a psychologist i worry', 'एक मनोवैज्ञानी के तौर पर मैं चिंतित'),\n",
              " ('so i love that recurring revenue model i started to learn at a young age',\n",
              "  'तो मुझे ये बारबार आमदनी वाली बात ही बचपन में ही सीखने को मिल गयी ।'),\n",
              " ('usman riaz yes that was the first one and then i',\n",
              "  'उस्मान रियाज हाँ यह पहला था और फिर मैं'),\n",
              " ('to wielding a dictionary', 'डिक्शनरी पर आश्रित था'),\n",
              " ('would solve the needs of locality', 'स्थानीय समस्याओं का निदान कर रहे हों'),\n",
              " ('that people have that they worry globalization is going to exacerbate',\n",
              "  'है कि लोगों को कि वे वैश्वीकरण चिंता बढ़ा रहा है।'),\n",
              " ('she wears it every day', 'वह इसे हमेशा अपने साठ रखती है'),\n",
              " ('im working on an initiative now along with the world bank',\n",
              "  'मैं अब विश्व बैंक के साथ परिसंपत्ति वसूली पर एक पहल पर काम कर रही हूँ'),\n",
              " ('i think there is an alternative', 'एक दूसरा रास्ता है'),\n",
              " ('its arabs versus israelis labor versus management',\n",
              "  'अरब बनाम इस्राइली मज़दूर बनाम प्रबंधन'),\n",
              " ('so this woman comes in and shes taken into the operating room',\n",
              "  'तो इस महिला में आती है और वह ऑपरेटिंग कमरे में ले जाई गयी'),\n",
              " ('now religions have a much saner attitude to art',\n",
              "  'धर्मों का कला के प्रति काफ़ी साफ़ नज़रिया है'),\n",
              " ('days away from proving that the product they produced',\n",
              "  'दस दिन दूर थी ये साबित करने से कि जो उत्पाद उन्होंने बनाया है वो'),\n",
              " ('and when i sat the students down i said “whos got the best one”',\n",
              "  'और जब मैनें अपने विद्यार्थियों से पूछा “किसका सबसे अच्छा है”'),\n",
              " ('somehow suddenly things mattered',\n",
              "  'केसे करके  अचानक ये बातो पे वे गौर करने लगे'),\n",
              " ('in the teachers contract', 'शिक्षक के कॉण्ट्रैक्ट में'),\n",
              " ('really', 'सच में'),\n",
              " ('its in that context that i work', 'मैं इसी विषय में काम करती हूँ'),\n",
              " ('we reconditioned them all fixed them',\n",
              "  'हमने उन सब को फिर से संगठित किया ठीक किया।'),\n",
              " ('the perspective was here is this poor professor',\n",
              "  'परिप्रेक्ष्य था यहाँ इस गरीब प्रोफेसर है'),\n",
              " ('because there is a lot of autism genetics here',\n",
              "  'क्योकि यहाँ बहुत सा औटिस्म जेनेटिक्स है'),\n",
              " ('between bending the crucifix out of shape', 'क्रूस को मरोडने में'),\n",
              " ('and across the world every  minutes one new person',\n",
              "  'और दुनिया में हर  मिनट में एक नये व्यक्ति'),\n",
              " ('are very different and distinct and that i had learned it very well',\n",
              "  'बहुत अलग और विशिष्ट होते हैं और यह कि मैने वाक्यांश को बहुत अच्छी तरह से सीखा था'),\n",
              " ('then we can save lives', 'तो हम कई जीवन बचा सकते हैं'),\n",
              " ('but change the laws change the global treaties',\n",
              "  'लेकिन का़नून भी बदलें। वैश्विक सन्धियों को बदलें।'),\n",
              " ('or “nyan cat”', 'या “न्यान कैट”'),\n",
              " ('just think even when its cloudy outside',\n",
              "  'जरा सोचिये तब भी जब बाहर बादल हैं'),\n",
              " ('can attest that pakistanis are an incredibly hard working population',\n",
              "  'ये गवाही दे सकते हैं कि पाकिस्तानी लोग बहुत मेहनती होते हैं।'),\n",
              " ('in wartorn places like monrovia', 'मोनरोविया जैसे युद्धग्रस्त इलाकों में'),\n",
              " ('you need to take them out of search engines',\n",
              "  'आप को उन्हें सर्च इंजिन से हटाना होगा'),\n",
              " ('thinking “now there will be no cars',\n",
              "  'ये सोचते हुए की अब कोई कारें नहीं होंगी'),\n",
              " ('by copying others', 'दूसरो की नकल उतारने के कारण है।'),\n",
              " ('of our country and other parts of the world who are creative',\n",
              "  'अपने देश में और विश्व के अनेक भागों मे जहाँ भी रचनात्मक्ता है ।'),\n",
              " ('every november', 'हर नवम्बर में'),\n",
              " ('we know that scientifically',\n",
              "  'और ये तो वैज्ञानिक तौर पर भी साबित हो चुका है'),\n",
              " ('the importance is what you do', 'महत्वपूर्ण बात यह है कि आप क्या करते हैं'),\n",
              " ('was one of the first people to post a joke about the video on twitter',\n",
              "  'उन पहले लोगों में से एक है जिसने इसके बारे मे ट्वीटर पर मज़ाक किया।'),\n",
              " ('well this is what its all about', 'चतुराई और साहस के जोशीले'),\n",
              " ('my profession the music profession doesnt see it that way',\n",
              "  'मेरा व्यवसाय संगीत का व्यवसाय इसे इस तरह नहीं देखता है'),\n",
              " ('laughter', 'हँसी'),\n",
              " ('and the tenyearold on every eight notes',\n",
              "  'और दससाल का बच्चा हर आठ स्वरों पर'),\n",
              " ('to lift your leg and walk like a robot right',\n",
              "  'अपने पैर को उठाने और रोबोट की तरह चलने में  है ना'),\n",
              " ('and recognizes any gestures that hes making',\n",
              "  'और वह जो इशारे करता है उन्हें पहचानता है'),\n",
              " ('and deal with the subject in a way', 'और कैसे इस विषय से निपटें'),\n",
              " ('which is obvious its a great name', 'जो कि जाहिर है यह बहुत अच्छा नाम है'),\n",
              " ('but its a lot more interesting than counting stamens laughter',\n",
              "  'परंतु यह फूलों पराग के सिर गिनने से कहीं ज्यादा रूचिकारक है।'),\n",
              " ('anywhere in the world', 'पूरी दुनिया में कहीं भी'),\n",
              " ('innovation is hard', 'नई खोज कठिन है'),\n",
              " ('and then she looked and did this', 'फिर मेरी तरफ देखा और ऐसे इशारा किया'),\n",
              " ('and then he wanted me to hire someone to deliver half the papers',\n",
              "  'और फ़िर उन्होनें कहा कि मैं आधे अखबार बेचने के लिये किसी को नौकरी पर रखूँ'),\n",
              " ('we import  metric tons of sugar from brazil and cuba',\n",
              "  'हम ब्राज़ील और क्यूबा से  मेट्रिक टन चीनी का आयात करते हैं'),\n",
              " ('you cant catch me', 'तुम मुझे पकड़ नहीं सकते।'),\n",
              " ('they can save lives', 'वो जानें बचा सकते हैं'),\n",
              " ('substance abuse drugs everything under the sun',\n",
              "  'मादक द्रव्यों का सेवन नशीले पदार्थ सब कुछ'),\n",
              " ('i came mainly to be reunited with my family',\n",
              "  'मैं तो बस अपने परिवार के साथ रहने आयी थी'),\n",
              " ('almost to the point of disinheritance', 'ज़मीन लगभग खो दी थी'),\n",
              " ('choosing to move forward and move on', 'आगे बढ़ने का तय करके'),\n",
              " ('now the conventional wisdom was that nigerians dont read literature',\n",
              "  'लेकिन आम धारणा तो यह थी कि नाइजीरियाइ लोग साहित्य नहीं पढ़ते'),\n",
              " ('that you can love someone', 'कि आप किसी से प्यार कर सकते हैं'),\n",
              " ('at a sixfigure profit', 'वो भी  अंकीय लाभ पर'),\n",
              " ('and the quality of your life',\n",
              "  'और अपने जीवन की गुणवत्ता में मौलिक परिवर्तन ला सकते हैं'),\n",
              " ('and basit and amjad are first names', 'और बासित और अमजद पहला नाम हैं'),\n",
              " ('and they sit and they talk and they talk',\n",
              "  'और फ़िर वो बातचीत करते जाते है करते जाते हैं करते जाते हैं।'),\n",
              " ('huge engine', 'एक महान गतिशील साधन'),\n",
              " ('is that these are the physics of culture', 'कि यह संस्कृति की भौतिकी है'),\n",
              " ('of the germ theory of disease', 'रोग के रोगाणु सिद्धांत की'),\n",
              " ('of them refused did you know that',\n",
              "  'उनमें से  लोगों ने ये काम करने से मना कर दिया ये बात आपको पता थी'),\n",
              " ('and a bunch of algorithms that are programmed to go find them and act',\n",
              "  'और कुछ एल्गोरिदम जो उन्हें खोजने के लिए क्रमादेशित हैं'),\n",
              " ('we find a family here which earns about two to three dollars a day',\n",
              "  'यहाँ हमें एक परिवार मिलता है जो करीब  डॉलर प्रतिदिन कमाता है।'),\n",
              " ('about our careers about our status in the world today than ever before',\n",
              "  'पहले से बहुत ज्यादा  अपने करियर के बारे में आज कि दुनिया में अपनी स्थिति के बारे में'),\n",
              " ('and i was so thrilled to see what happened with the g8',\n",
              "  'और बहुत उत्साहित हुई जो भी जी के साथ हुआ उसे देख कर'),\n",
              " ('with our saudi member of the', 'हमारे द  के साउदी सदस्य के साथ'),\n",
              " ('they just think of good ideas',\n",
              "  'वे तो सिर्फ अच्छे विचारों के बारे में सोचते हैं'),\n",
              " ('and there it was', 'और मैं उसे देखती रही'),\n",
              " ('when it comes', 'जब कभी भी हम'),\n",
              " ('you cannot learn swimming on a foam mattress and enter into water',\n",
              "  'आप दरी पर तैराकी सीख कर पानी में नहीं उतर सकते'),\n",
              " ('laughter', 'हंसी'),\n",
              " ('so why are people willing to adjust with that mismatch',\n",
              "  'तो लोग इस बात को स्वीकार करने को तैयार क्यों हैं'),\n",
              " ('and in many ways i think of myself now as african',\n",
              "  'और अब कई अर्थों में मैं स्वयं को अफ़्रीकी ही मानती हूं'),\n",
              " ('picking water from the stream', 'नदी की धारा से पानी निकलते हुए'),\n",
              " ('so what if then', 'तो अगर ऐसा हो कि'),\n",
              " ('and if we can resist', 'और अगर हम विरोध कर सकते हैं'),\n",
              " ('hence why remi is so different from sam',\n",
              "  'इसी कारण से रेमी सॉम से इतना अलग है'),\n",
              " ('i have a corresponding milestone to robust human rejuvenation',\n",
              "  'मेरे पास मजबूत मानव कायाकल्प से मिलता जुलता मानक है'),\n",
              " ('made for two dollars', 'व बना था दो डौलर में।'),\n",
              " ('i wouldnt be doing my job', 'मैं अपना कार्य नहीं कर पाऊंगी'),\n",
              " ('india is going to have', 'भारत के पास होगा'),\n",
              " ('and he was practicing his french', 'और वह फ्रेंच अभ्यास कर रहा था'),\n",
              " ('this is a project called photosynth', 'इस परियोजना का नाम है फ़ोटोसिन्थ'),\n",
              " ('so for any problem the more you can zoom out and embrace complexity',\n",
              "  'तो किसी भी समस्या के लिये यदि आप संपूर्ण जटिलता को स्वीकार करेंगे'),\n",
              " ('and he said “if my wish gets fulfilled”',\n",
              "  'और उन्होंने कहा “यदि मेरी इच्छा पूर्ण होती है”'),\n",
              " ('i believe we have to attend', 'मैं समझता हूँ कि हमें'),\n",
              " ('all the major religions give us calendars',\n",
              "  'सभी बडे धर्मों ने हमे केलेन्डर दिये है'),\n",
              " ('now i am having a title like',\n",
              "  'मेरा काम चाँद में क़दम रखने वाले पहले इन्सान'),\n",
              " ('and then finally', 'और अंत में'),\n",
              " ('and the lebanese', 'और लेबनान के लोगों का'),\n",
              " ('a ghana airways pilot falls into the same predicament',\n",
              "  'घाना एरवेस का एक पाइलट इसी दुविधा में पड़ गया'),\n",
              " ('to certainty', 'निश्चितता बन गया है ।'),\n",
              " ('there are a bit harder issues', 'ये बहुत गहन मसले हैं ।'),\n",
              " ('trust me we will sink to them',\n",
              "  'तो विश्वास कीजिये हम उनके स्तर तक झुक जायेंगे'),\n",
              " ('they see us as adults rational adults',\n",
              "  'उनके हिसाब से हम सब वयस्क हैं बुद्धिमान वयस्क'),\n",
              " ('a lot more to be said about that', 'इस बारे में और भी काफी कहा जाएगा'),\n",
              " ('so what were saying is that scalability',\n",
              "  'तो हम ये कहना चाह रहे हैं कि विशाल बनने के चक्कर में'),\n",
              " ('they can come in to you account or a sub account or whatever',\n",
              "  'ये ईमेल आपके अकाउंट में आ सकती है या कुछ और इंतज़ाम हो सकता है ।'),\n",
              " ('sitting at a keyboard', 'टाईपिंग करते हुए।'),\n",
              " ('and she wakes up and she looks down at herself',\n",
              "  'और वह जाग खुद पर नज़र डालती है'),\n",
              " ('because doodling is so universally accessible',\n",
              "  'क्योंकि डूडल बना पाना सबके लिये इतना आसान है'),\n",
              " ('using what my students call the granny cloud',\n",
              "  'इसके द्वारा जिसे मेरे छात्र दादीमाँ का बादल granny cloud कहते हैं'),\n",
              " ('about my connection with feynman',\n",
              "  'मेरे और फेय्न्मन के रिश्तों के बारे में'),\n",
              " ('propane and benzene', 'प्रोपेन और बेंजीन'),\n",
              " ('but literally within days of arriving i was told in no uncertain terms',\n",
              "  'पर आने के कुछ ही दिनों की भीतर मुझे बताया गया वो भी सीधे मेरे मुँह पर'),\n",
              " ('because thats what brings joy to life',\n",
              "  'क्योंकि उस से ही तो जीवन में प्रसन्नता आती है।'),\n",
              " ('every day in an act closely associated with',\n",
              "  'हर दिन एक कार्य जो निकटता से जुड़ा हुआ है'),\n",
              " ('and my homeland', 'और अधिक दूर हो गया'),\n",
              " ('is very very different and the countries are moving more or less',\n",
              "  'बिल्कुल अलग है और राष्ट्र क़रीबनक़रीबन उसी दर से'),\n",
              " ('a couple backtoschool licenses in spain and turkey',\n",
              "  'स्पेन और तुर्की में कुछ लाइसेंस स्कूलों में इस्तेमाल के लिये।'),\n",
              " ('it is difficult to translate in english',\n",
              "  'इसका अंग्रेजी में अनुवाद करना मुश्किल है'),\n",
              " ('he groomed us the three of us',\n",
              "  'उन्होंने हमें तराशना शुरु किया हम तीनों बच्चों को'),\n",
              " ('than we ever would have thought', 'हमारी आशा के मुकाबले।'),\n",
              " ('the first one was miniaturization', 'पहला था लघुकरण चीज़ को छोटा बनाना।'),\n",
              " ('with multinational budgets', 'बहुदेशी बजट के साथ'),\n",
              " ('both are waterfront communities that host both industries',\n",
              "  'दोनों जगहों पर सांस्कृतिक खोजबीन होती थी'),\n",
              " ('applause', 'सरहाना व हर्षध्वनि'),\n",
              " ('so its a bit of a curve that', 'तो यह एक तरह का वक्र था'),\n",
              " ('but which you can get around', 'लेकिन जिन्हें आप समझ सकते है'),\n",
              " ('he said i was throwing my life away',\n",
              "  'उसने कहा कि मैं अपना जीवन व्यर्थ कर रहा हूँ'),\n",
              " ('who were the original hackers', 'जो की वास्तविक हैकर थे'),\n",
              " ('up to  percent', 'प्रतिशत तक'),\n",
              " ('is how you actually define poverty what does it mean',\n",
              "  'गरीबी की सही परिभाषा आखिर क्या है गरीबी का अर्थ क्या है'),\n",
              " ('and do something with it to change the world',\n",
              "  'और इस दुनिया को बेहतर बनाने के लिये कुछ करेंगे ।'),\n",
              " ('the lake people in unclear operations', 'ये समझा नहीं सके ।'),\n",
              " ('because otherwise it just looks wrong somehow',\n",
              "  'क्युंकि अन्यथा यह किसी तरह से गलत लगता है'),\n",
              " ('but rosey grier also had', 'लेकिन रोजी ग्रीयर का'),\n",
              " ('and describe the world as it unfolds', 'दुनिया का वर्णन कर रहे हैं'),\n",
              " ('of all of the grid cells in a particular part of the brain',\n",
              "  'ग्रिड कोशिकाओं की कुल क्रिया मस्तिस्क के एक खास हिस्से पर'),\n",
              " ('after only a year become measurably less clogged',\n",
              "  'केवल एक साल के बाद ही कम अवरोधित हो जाती हैं ।'),\n",
              " ('more abstract these are your engineers',\n",
              "  'अधिक अमूर्त ये अपने इंजिनियर रहे हैं'),\n",
              " ('but they think that one is the input to the other',\n",
              "  'पर वे समझते है कि सरकार का सीधा ताल्लुक राजनीति से है'),\n",
              " ('we have an election', 'हम चुनाव करते हैं।'),\n",
              " ('onesixth of the gdp in india is coming out of mumbai',\n",
              "  'भारत में सकल घरेलू उत्पाद का छठा भाग मुंबई से आ रहा है'),\n",
              " ('tipper was saying “one more burger with fries”',\n",
              "  'टिप्पर कह रही थी “ एक और बर्गर  फ्राइस के साथ ”'),\n",
              " ('urban retrofitting', 'शहरी रेट्रोफिट यानि पुराने में नया फिट करना'),\n",
              " ('its got photons and its got neutrinos', 'उसमें फोटोन और न्युट्रिनो हैं'),\n",
              " ('they might look like black dots to us',\n",
              "  'यह हमें काली बिंदी की तरह दिखती हैं'),\n",
              " ('as you may have noticed our elections in canada are a complete joke',\n",
              "  'आपने ध्यान दिया होगा कनाडा में चुनाव सिर्फ़ एक मज़ाक है।'),\n",
              " ('and one day  i dont know what happened', 'और एक दिन  ना जाने क्या हुआ कि'),\n",
              " ('we certainly saw that in', 'बेशक हमनें  में यही देखा'),\n",
              " ('and theyre used in about 120odd countries',\n",
              "  'और हमारे लेंस एक सौ बीस से ज्यादा देशों में इस्तेमाल होते हैं ।'),\n",
              " ('another that ended slavery and that gave women the right to vote',\n",
              "  'एक अन्य जिन्होंने दासता का अन्त किया। और जिन्होंने स्त्रियों को वोट करने का अधिकार दिया।'),\n",
              " ('is we need to face the truth', 'हमें सच का सामना करना होगा'),\n",
              " ('i think there are ways', 'मेरे खयाल से धर्म से कुछ अच्छा चुराने के'),\n",
              " ('laughter', 'हँसते हुए'),\n",
              " ('so notice that as more people join in',\n",
              "  'ग़ौर कीजिए जैसेजैसे और लोग जुड़ने लगते हैं'),\n",
              " ('so that a kid could go out and watch the physics course learn from that',\n",
              "  'ताकि कोई बच्चा जा सके और वह कोर्स देख सके उससे सीख सके।'),\n",
              " ('called “rosey griers needlepoint for men”',\n",
              "  '“पुरुषों के लिए रोजी ग्रीयर की नीडलपॉइंट पुस्तक” rosey griers needlepoint for men'),\n",
              " ('so they dont get lost in a busy world',\n",
              "  'इसलिये वो इस व्यस्त दुनिया मे खो नही जाते'),\n",
              " ('last year we had about two million people', 'पिछले साल यहाँ  लाख लोग आये'),\n",
              " ('in terms of gender equality', 'औरतमर्द की बराबरी के लिये।'),\n",
              " ('and try to work their way around', 'और अपने तरीके उस में ढालते हैं'),\n",
              " ('is how to close this gap', 'ये है कि इस अंतर को कैसे कम करें'),\n",
              " ('i published everywhere i wrote down and measured everything',\n",
              "  'मैं हर जगह प्रकाशित किया मैंने लिखा और सब कुछ मापा'),\n",
              " ('you see the gods', 'देखिये देवताओं को भी'),\n",
              " ('and so my blog was just one of those', 'और मेरा ब्लॉग भी उन  में से एक था'),\n",
              " ('so how might the airplane of the future look',\n",
              "  'तो भविष्य का हवाई जहाज कैसा हो सकता है'),\n",
              " ('the burden it has to bear', 'जिस बोझ को संभालना पड़ता है'),\n",
              " ('years ago it took one man', 'साल पहले एक इंसान ने'),\n",
              " ('that the best thing a child can do with a toy is to break it',\n",
              "  'कि खिलौने के साथ बच्च सबसे अच्छा काम उसे तोड कर ही करता है।'),\n",
              " ('in recent metaphors about technology',\n",
              "  'प्रौद्योगिकी के बारे में हाल ही में रूपकों में'),\n",
              " ('now we may find that there are places that are really really dense',\n",
              "  'अब यह भी हो सकता है कि हमें ऐसे स्थान मिलें जो बहुत बहुत सघन हैं'),\n",
              " ('he has never told a lie', 'उसने कभी झूठ नही बोला है'),\n",
              " ('i can tell you its a magnificent spread',\n",
              "  'मैं आप को बता सकता हूँ कि वो बहुत ही भव्य है॰'),\n",
              " ('and one of them came to me the next morning and he said',\n",
              "  'और उनमें से एक मेरे पास अगली सुबह आया और बोला'),\n",
              " ('lets him walk up to any surface', 'उसे किसी भी सतह तक जाकर'),\n",
              " ('less than seven percent of the children', 'सात प्रतिशत से भी कम बच्चे'),\n",
              " ('“oh jesus”', '“हे भगवान्”'),\n",
              " ('unfortunately the government schools dont function',\n",
              "  'दुर्भाग्य से सरकारी स्कूल कार्य नहीं करते'),\n",
              " ('my mustache growing ability', 'अनडरएस्टीमेट करने लगा'),\n",
              " ('and i got back and looked at that teacher edition',\n",
              "  'और मैने वापस जा कर उस का शिक्षकसंस्करण देखा।'),\n",
              " ('thank you', 'धन्यवाद'),\n",
              " ('and the permission comes hedged about with qualifiers',\n",
              "  'पर ये अनुमति भी बहुत सारी शर्तों और हिदायतों के साथ दी गई'),\n",
              " ('typically the second best guess or third best guess was the right answer',\n",
              "  'आमतौर पर दूसरा या तीसरा सबसे अच्छा पूर्वानुमान सही जवाब था।'),\n",
              " ('china was during the cultural revolution',\n",
              "  'चीन बेहतर था सांस्कृतिक क्रांति के दौरान।'),\n",
              " ('the importance of the number three in all cultures so i figure im covered',\n",
              "  'तीन के अंक के महत्व के बारे में सारी संस्कृतियों मे तो मुझे लगा कि मैं ठीक हूँ।'),\n",
              " ('theyre perfect', 'वे दोषहीन हैं'),\n",
              " ('last year at ted i gave an introduction to the lhc',\n",
              "  'ted में पिछले साल मैंने lhc का परिचय दिया था।'),\n",
              " ('if youre already  or even if youre',\n",
              "  'अगर आप पहले से  साल या  साल के भी हैं'),\n",
              " ('there could be nothing more wrong than',\n",
              "  'उससे ज्यादा गलत कुछ हो ही नहीं सकता है ।'),\n",
              " ('tipper and i were driving ourselves shoneys lowcost family restaurant chain',\n",
              "  'टिप्पर और मैं गाड़ी में जा रहे थे शोनीस कम आय वाले परिवारों के लिए भोजनालय श्रृंखला'),\n",
              " ('between oecd latin america east europe east asia',\n",
              "  'और यहाँ ओईसीडी और लेटिन अमेरिका पूर्वी यूरोप पूर्वी एशिया'),\n",
              " ('build greater stability', 'ज्यादा मज़बूत स्थिरता पैदा करने की ज़रूरत है'),\n",
              " ('of ganesha', 'भगवान गणेश की कहानी'),\n",
              " ('he was a troubled kid', 'वह एक परेशान बच्चा था'),\n",
              " ('and they record everything you type',\n",
              "  'और वे सब रिकॉर्ड करते हैं जो आप टाइप करते हैं'),\n",
              " ('to share their knowledge', 'अपने ज्ञान को वितरित करने के लिए'),\n",
              " ('are you holding her', 'क्या आप उसको थामे हैं'),\n",
              " ('there are a quarter of a million  at least those are the ones we know about',\n",
              "  'ढाई लाख  कम से कम इतनो के बारे में हम जानते हैं'),\n",
              " ('japanese mother japanese', 'जापानी माँ  जापानी'),\n",
              " ('it is possible', 'संभव है कि'),\n",
              " ('as this fear that we have as men', 'जो हम मर्द के तौर पर महसूस करते हैं'),\n",
              " ('but because were pretty sure', 'लेकिन हम लोग बिलकुल ये जानते है'),\n",
              " ('for example you can find it from some phone numbers',\n",
              "  'उदाहरण के लिए आप इसे कुछ फोन नंबर पर पा सकते हैं'),\n",
              " ('once we realized that we decided it was time to do our own planning',\n",
              "  'एक बार जब हमें अहसास हो गया तब हमने निश्चय किया कि अब समय आ गया है कि हम अपनी योजना ख़ुद तैयार करें।'),\n",
              " ('so i went back there', 'तो मैं वापस वहाँ गया'),\n",
              " ('thank you very much bye', 'बहुत धन्यवाद आप सभी का चलता हूँ'),\n",
              " ('we have students working there', 'वहाँ छात्र काम करते रहेंगे'),\n",
              " ('what do these people have in common', 'इन लोगों मैं कौन सी बात एक जैसी थी'),\n",
              " ('wikipedia has used thousands of volunteers to create a free encyclopedia',\n",
              "  'विकीपीडिया ने हज़ारों स्वेच्छाकर्मियों के ज़रिये एक मुफ़्त विश्वकोष बना डाला'),\n",
              " ('i said “no ive got the best eduction',\n",
              "  'मैनें कहा “नहीं मुझे सर्वश्रेष्ठ शिक्षा मिली है।'),\n",
              " ('physical improvements help inform public policy regarding traffic safety',\n",
              "  'वास्तव में होने वाले सुधारों से ट्रैफिक सुरक्षा के लिए सार्वजनिक नीति तैयार करने में सहायता'),\n",
              " ('of so many disabilities in children',\n",
              "  'बच्चों में विकलांगताओं के सही स्त्रोत को'),\n",
              " ('so based on these studies i could say oxytocin',\n",
              "  'तो इन अध्ययनों पर आधारित मैं oxytocin को कह सकती हूँ'),\n",
              " ('and we talk about', 'और हम बात करते हैं इस बारे में'),\n",
              " ('youll be surprised only two percent of women',\n",
              "  'आपको जानकर आश्चर्य होगा केवल दो प्रतिशत महिलाएं'),\n",
              " ('if you squint you can still see the face',\n",
              "  'अगर आप आँखों को मोड़े तो आप अभी भी चेहरे देख सकते हैं।'),\n",
              " ('most dynamic and young photographers',\n",
              "  'सबसे हुनरशुदा और युवा फोटोग्राफ़रों ने लिये हैं'),\n",
              " ('upon which to judge our balance', 'जिसमे हम जीवन में समन्वय का आकलन करें'),\n",
              " ('maybe no ones really crazy', 'शायद कोई सनकी है ही नहीं'),\n",
              " ('of solar radiation', 'सौर विकिरणों कि'),\n",
              " ('just playing around doing something  i dont know what',\n",
              "  'खेल में रहा था कुछ तो कर रहा था क्या पता क्या कर रहा था'),\n",
              " ('this is free wifi', 'ये फ्री वाईफाई है'),\n",
              " ('you dont know that', 'आप ये नहीं जानते'),\n",
              " ('intention is very important in sound in listening',\n",
              "  'प्रयोजन बहुत जरुरी है आवाज़ों में सुनने में'),\n",
              " ('weve covered all over india', 'हमने सारे भारत में काम किया है'),\n",
              " ('with the famous tigerstripe fractures crossing the south pole',\n",
              "  'बाघ की धारियों जैसी दरारों वाला यह प्रसिद्ध क्षेत्र दक्षिणी ध्रुव के आरपार जाता है'),\n",
              " ('even if computers fail', 'भले ही कंप्यूटर असफल हो जाए'),\n",
              " ('i am more excited than most people as a neuroscientist',\n",
              "  'मैं और लोगों से ज्यादा उत्तेजित हूँ एक नुएरो विज्ञानिक के तौर पे'),\n",
              " ('that component ends up getting counted multiple times',\n",
              "  'कि घटक कई बार गिना जाता है'),\n",
              " ('it was not even the initial shock of knowing',\n",
              "  'वो शुरुआत का झटका भी नहीं था'),\n",
              " ('which came from a squatter camp outside durban',\n",
              "  'जो डरबन के बाहर एक स्कुँत्टर शिविर से आया था'),\n",
              " ('and that mathematics is at the core', 'और गणित पर ही'),\n",
              " ('and wonderful things like bananas and chocolate',\n",
              "  'और बज़ूका बबलगम जैसी अच्छी और दुर्लभ चीजों'),\n",
              " ('and i do that quite regularly', 'और मैं यह अक्सर करती हूँ'),\n",
              " ('sometime in the 1980s', 'सन  के साल में'),\n",
              " ('“but” i hear you say', 'मगर आप कहेंगे'),\n",
              " ('about what to do next and what actions to take',\n",
              "  'इस बारे में कि अब क्या करें और क्या कदम उठाएं'),\n",
              " ('he has the most impeccable memory',\n",
              "  'उसके पास पूर्ण रूप से सही स्मरणशक्ति है'),\n",
              " ('getting a new political leader elected', 'एक नए राजनेता का चुनाव करते हैं'),\n",
              " ('and five gobots and this was his treasure',\n",
              "  'और पांच गोबोट और यही उसका खजाना था'),\n",
              " ('because you can then go to those lanes',\n",
              "  'क्योंकि ये आपको उन गलियों मे ले जाएगी'),\n",
              " ('there went that theory down the trashcan of history',\n",
              "  'यह ख्याल सीधे एतिहास के कचरे के डब्बे में गया'),\n",
              " ('only one out of  senators was willing to vote',\n",
              "  'तो  सीनेटर में से सिर्फ़ एक व्यक्ति वोट करने को तैयार था'),\n",
              " ('in fact they make their livings on this kind of stuff',\n",
              "  'बल्कि वे इन तरह की चीज़ों से अपनी जीविका चलाते हैं'),\n",
              " ('can be leveraged to our interactions with the digital world',\n",
              "  'डिजिट्ल दुनिया के साथ सम्पर्क करने के लिये।'),\n",
              " ('what are you doing with this is there a company being planned',\n",
              "  'तुम इसके साथ क्या करोगे क्या किसी कंपनी की योजना है'),\n",
              " ('have said', 'कहा होता'),\n",
              " ('a couple of years ago', 'दो वर्ष पहले'),\n",
              " ('that bottom thing which says theres no effect at all',\n",
              "  'सबसे नीचे जो दिखाता है कि वहाँ कोई प्रभाव नहीं है'),\n",
              " ('thats who we talk about when we think about “the poor”',\n",
              "  'हम उन सबको गरीब मानते हैं।'),\n",
              " ('a spirit a natural force the universe',\n",
              "  'एक भावना थी  एक प्राकृतिक बल था  ब्रहमांड था'),\n",
              " ('then we can probably develop robust mouse rejuvenation in only  years',\n",
              "  'तो शायद हम  साल में ही मजबूत जन कायाकल्प का विकास कर सकते हैं'),\n",
              " ('that have to do with with motivation and feedback',\n",
              "  'जो आप उत्साह बढाने और सलाह देने के लिये इस्तेमाल कर सकते है'),\n",
              " ('while the other half of the world is fighting back',\n",
              "  'वहीं बाकी विश्व ने इस मुद्दे पर'),\n",
              " ('then everything becomes meaningful', 'तब सब कुछ सार्थक हो जाता है'),\n",
              " ('but also make your mind work', 'पर साथ ही दिमाग से सोच कर काम हो।'),\n",
              " ('from lagos two days ago in which', 'लागोस से दो दिन पहलेवाली उड़ान में'),\n",
              " ('but i think our generation also might be the first',\n",
              "  'मगर मैं समझता हूँ कि हमारी पीढी ने ही शायद पहली बार'),\n",
              " ('and civil society leaders', 'और सामजिक नेताओं में लगायें'),\n",
              " ('and you know the reason', 'आप जानते थे इस का कारन'),\n",
              " ('but those are all the roads in the us', 'लेकिन ये यूएस की सभी सड़कें हैं'),\n",
              " ('coming down  percent', 'नीचे आ रहे हैं'),\n",
              " ('this is a call for every true mexican',\n",
              "  'सभी सच्चे मेक्सिको वासियों से यह गुहार है कि'),\n",
              " ('cameras ready  thats it', 'कैमरा तैयार है  बस हो गया।'),\n",
              " ('and the rabbi said “youve misunderstood me',\n",
              "  'और रब्बी ने कहा “तुम लोगों ने मुझे गलत समझा है”'),\n",
              " ('lots of telemedicine consultations',\n",
              "  'कई बार दूरसंचार के माध्यम से भी इलाज करते हैं'),\n",
              " ('ca so weve got a picture i think where is this',\n",
              "  'क्र एं तो हमारे पास तस्वीर है मेरे ख्याल से यह कहाँ पर है'),\n",
              " ('avoiding overstatement is also very helpful',\n",
              "  'अधिक बयान से बचना भी बहुत उपयोगी है'),\n",
              " ('no matter what you thought you were getting when you bought it',\n",
              "  'आप चाहे जो सोच कर उसे खरीद रहे थे'),\n",
              " ('unicef came forward and said “well buy most of the nets',\n",
              "  'यूनिसेफ़ ने आगे बढ कर कहा “हम ज्यादातर मच्छरदानियों को खरीद लेंगे'),\n",
              " ('and then we can calculate', 'और फिर हम गणना कर सकते हैं'),\n",
              " ('and then i think okay well maybe we can have it snow',\n",
              "  'और मै सोचती हूँ  ओके चलो शायद बर्फ़ की तरह धीरे धीरे गिरने दो'),\n",
              " ('it doesnt need it', 'इसे इसकी जरुरत नही है'),\n",
              " ('which means that each and every one of you here today',\n",
              "  'इसका मतलब है कि आज आप में से हर एक शक्श'),\n",
              " ('and she said “but aimee thats not fair”',\n",
              "  'और बोली“पर एमी यह तो सही नहीं है”'),\n",
              " ('i would like to end up by showing the internet users per',\n",
              "  'मैं प्रति  इंटरनेट उपयोगकर्ता को दिखाकर समाप्त करना चाहूँगा।'),\n",
              " ('someday little robots will go', 'एक दिन छोटे रोबोट्स हमारी धमनियों'),\n",
              " ('that if nectar', 'अगर पराग'),\n",
              " ('a dark continent', 'एक अंधकारयुक्त महाद्वीप से'),\n",
              " ('and when you use indoor spraying with ddt',\n",
              "  'और जब आप डीडीटी युक्त स्प्रे का उपयोग घर में करते हैं'),\n",
              " ('every day in their own communities',\n",
              "  'प्रतिदिन अपने अपने समुदायों में बना रहे हैं'),\n",
              " ('the feeling of love that binds us', 'हमें एकदूसरे से जोड़नेवाला प्रेम'),\n",
              " ('right now america is in an unremitting state of trauma',\n",
              "  'इस समय अमेरिका एक निरंतर आघात की अवस्था में है'),\n",
              " ('“i really understand and i really appreciate',\n",
              "  '“मैं सचमुच समझता हूँ और मैं सचमुच सराहना करता हूँ'),\n",
              " ('if you look at andromeda which is the nearest big galaxy',\n",
              "  'अगर आप एन्ड्रोमिडा को देखें जो हमारी सबसे क़रीबी बड़ी आकाशगंगा है'),\n",
              " ('from  to', 'से  के बीच में'),\n",
              " ('you know theres a lot of that out there',\n",
              "  'आपको पता है कि वहाँ इस तरह की बहुत बातें हैं ।'),\n",
              " ('and they said “blue blue we love blue lets do it blue”',\n",
              "  'और उन सब ने कहा “हाँ हाँ नीला बहुत सुन्दर होग चलो नीला ही रँग देते हैं।”'),\n",
              " ('prior to kepler', 'केपलर से पहले'),\n",
              " ('where do we get this spark of imagination',\n",
              "  'कहाँ से हमे कल्पना की शक्ति मिलती है'),\n",
              " ('well it turns out that the secret was broccoli',\n",
              "  'असल में इस रहस्य का जवाब फूलगोभी में छुपा था।'),\n",
              " ('im going to tell you about one more', 'मैं आपको अपने परिवार के एक और'),\n",
              " ('and negative qualities', 'और दुर्गुणों को भी'),\n",
              " ('another shanghai', 'दूसरा शंघाई बनाना चाहते हैं।'),\n",
              " ('so this is actually a piece of fig', 'यह एक अंजीर का टुकड़ा है'),\n",
              " ('“it will upset you”', '“तुम बिना बात परेशान हो जाओगी”'),\n",
              " ('one was war the indian army which we dont like to happen very often',\n",
              "  'एक युद्ध था  भारतीय सेना  जो हम नहीं चाहते की अक्सर हो'),\n",
              " ('now youre ready for this next concept',\n",
              "  'तो आप इस अगले पाठ के लिये तैयार हैं।'),\n",
              " ('i mean these christians theyre nuts how would they do this to their little kids”',\n",
              "  'मेरा मतलब ये इसाई  ये पागल है  ये अक़पने छोटे छोटे बच्चो के साथ ऐसा केसे कर सकत है'),\n",
              " ('and they have big cities', 'उनके पास बड़े सहर है'),\n",
              " ('before they send their sons and daughters',\n",
              "  'उसके पहेले की वो आपने बेटे बेटियों को भेजे'),\n",
              " ('because it was necessary', 'क्युकि ये जरुरी था'),\n",
              " ('and seeing a tank sitting out there', 'और देखते की तोप खडी हुई है'),\n",
              " ('for the star constellation pleiades', 'प्लीएडेस तारामंडल।'),\n",
              " ('or feel as if you just had a whole stack of highquality chocolate',\n",
              "  'या बस ये महसूस करना चाहें के आपने अभी एक अच्छे चाकलेट का पूरा पैकेट खाया'),\n",
              " ('that nigerian men were physical abusers',\n",
              "  'नाइजीरियाई पुरुष स्त्रियों का उसी प्रकार शारीरिक शोषण करते हैं'),\n",
              " ('there are fundamental major breakthroughs', 'बुनियादी बडी सफ़लताएं'),\n",
              " ('and knocks it down', 'और उसे हिला दिया।'),\n",
              " ('and this is my drawing pen', 'और ये मेरा पेन है'),\n",
              " ('i relied on some other group', 'मैंने दुसरे समूह पे भरोसा किया'),\n",
              " ('from being proud in the way theyre proud there',\n",
              "  'उन बातों पर गर्व करने से रोक सकेंगे जिन पर वो अभी करता है'),\n",
              " ('and counter to serious learning', 'और गंभीरशिक्षा का दुश्मन भी।'),\n",
              " ('youve got to give them a specific task dont just say “design new software”',\n",
              "  'उन्हे आपको एक निश्चित और तय काम ही देना होगा। आप ऐसा नही कह सकते कि “एक नया सौफ़्ट्वेयर बनाओ”'),\n",
              " ('once it becomes a closed system with us participation',\n",
              "  'अमेरिकी भागीदारी से जब यह एक बंद व्यवस्था हो जाती है'),\n",
              " ('in the catholic chronology catholic calendar', 'केथोलिक केलेन्डर मे'),\n",
              " ('we talked about the tv show we watched that evening',\n",
              "  'हमने एक टीवी कार्यक्रम के बारे में बात की जो हमने उस शाम को देखा था'),\n",
              " ('when you call your friends and say “i think i need to see somebody',\n",
              "  'जब आप अपने दोस्तों से बात करते है और कहते हैं “मुझे लगता है मुझे इलाज की ज़रूरत है”'),\n",
              " ('the value to the city in increased property values',\n",
              "  'शहर को प्रोपर्टी के दाम बढ़ने से'),\n",
              " ('i left bellevue went to business school and started this',\n",
              "  'मैने बलुवे छोडा बिज़नस स्कूल गया और ये शुरु किया।'),\n",
              " ('where people make one two three dollars a day',\n",
              "  'जहाँ लोगों की दैनिक कमाई एक से तीन डॉलरों के बीच है'),\n",
              " ('i actually had a chance to interview ira glass whos the host of the show',\n",
              "  'मैंने वास्तव में ईरा ग्लास जो शो के मेजबान है उनका साक्षात्कार किया'),\n",
              " ('ag thank you thank you very much', 'एजी धन्यवाद। बहुत धन्यवाद। तालियां'),\n",
              " ('and i think that means sinking in', 'और मैं सोचता हूँ कि इसके लिए'),\n",
              " ('and thats the grandmother of one of them', 'और यह उनमें से एक की नानी हैं'),\n",
              " ('if a risk is thrust upon you  terrorism was a good example',\n",
              "  'अगर आप पर कोई खतरा थोपा जाता हैं जैसे कि आतंकवाद एक अच्छा उदहारण हैं'),\n",
              " ('he said “well easy this is district eight',\n",
              "  'वो कहता है बहुत आसान है ये आठवाँ ज़िला है'),\n",
              " ('in one of the largest countries on the continent nigeria',\n",
              "  'नाइजीरिया में यह करने की शुरुआत कर दी है।'),\n",
              " ('at dorset orthopaedic in england', 'इंगलैंड के डोरसेट और्थोपेडिक से'),\n",
              " ('that deliver affordable health housing energy clean water',\n",
              "  'जो कि वहन करने योग्य स्वास्थ सेवा घर बिजली या साफ़ पानी मुहैया करवाता है'),\n",
              " ('as do lots of average people', 'जेसे बहोत सारे आम आदमी यो कोभी आता है'),\n",
              " ('electricity do that work', 'बिजली को वहीँ काम करते हुए'),\n",
              " ('masiosare the strange enemy is here',\n",
              "  'मसिओसरे masiosare हमारा दुश्मन यहाँ है'),\n",
              " ('a supermarket or a pushcart', 'या सुपरमार्केट हो या फिर हाथगाढ़ी'),\n",
              " ('by what they have seen and hopefully therefore',\n",
              "  'और आशा करते हैं वे मानव शास्त्र पर डाले गए प्रकाश'),\n",
              " ('his name was fide', 'उसका नाम फ़ीडे था'),\n",
              " ('i love it that we have a global language',\n",
              "  'मुझे ये बात बहुत अच्छी लगती है हमारे पास एक वैश्विक भाषा है।'),\n",
              " ('but we did have a lot of fun', 'मगर हमने सांथ में काफी मजे किये'),\n",
              " ('and the correlation of course', 'और परस्पर सम्बन्ध वाकई यह है'),\n",
              " ('four years earlier when i was one', 'चार साल पेहले जब मैं एक साल की थी'),\n",
              " ('problems that occur on the mountain', 'समस्याएं जो पहाड़ों पर होती हैं'),\n",
              " ('in which investors who are looking for entrepreneurs',\n",
              "  'जिसमे निवेशक वो उद्यमी देख सके'),\n",
              " ('but the reality is that by and large', 'मगर सच्चाई यह है कि अधिकतर'),\n",
              " ('almost six million gallons of water per season',\n",
              "  'साठ लाख गैलन पानी आपको दे रहा है।'),\n",
              " ('when the headlines rolled what happened was',\n",
              "  'जब सुर्खियों में आती हैतो क्या होता है'),\n",
              " ('because of the brilliance of the people',\n",
              "  'जिनके ज्ञान के फलस्वरूप ये आय हुई थी'),\n",
              " ('and so she kept those things in her desk',\n",
              "  'तो इसलिये वो ये सारी चीजें अपने डेस्क में रखती थीं'),\n",
              " ('i realized that everyone was carrying around wormholes in their pocket',\n",
              "  'मुझे लगा कि सभी व्यक्ति अपनी जेबों में वर्महोल लिए घूम रहे थे'),\n",
              " ('to improve schooling in india', 'भारत में शिक्षा सुधारों के लिए आया था'),\n",
              " ('with specific tradeoffs', 'जिनकी अपनी विनिमय शर्ते हैं'),\n",
              " ('but it doesnt matter too much that were putting too much emphasis on that',\n",
              "  'लेकिन इससे उतना फर्क नहीं पड़ता है कि हम उस पर बहुत अधिक जोर डाल रहे है'),\n",
              " ('ca is it unrealistic for them', 'सीए क्या उनके लिए यह आशा करना'),\n",
              " ('were seeing along with that proliferation of mobile devices',\n",
              "  'हम  मोबाईल साधनों के फैलाव के साथ'),\n",
              " ('so youve effectively negated', 'तो आप ने नकार दिए है'),\n",
              " ('and i told you earlier', 'जैसा की मैंने आपको पहले कहा था'),\n",
              " ('on your daily commute', 'समय बर्बाद करते हैं'),\n",
              " ('and ive summarized those things for me personally',\n",
              "  'फिर मैंने अपने व्यक्तित्व के अनुसार मुख्यतः तीन चीज़ें चुनीं'),\n",
              " ('of people who could not get into them', 'उन लोगों कि जो उनमे चढ नहीं पाए'),\n",
              " ('the idea coalesced around lets make this a park',\n",
              "  'विचार ये था कि इसे एक उद्यान बनाया जाए'),\n",
              " ('not allowed to interact with each other',\n",
              "  'एक दूसरे से बात नहीं कर सकते हैं।'),\n",
              " ('well i had a unique seat that day i was sitting in 1d',\n",
              "  'खैर मैं उस दिन एक ख़ास सीट पर था। डी।'),\n",
              " ('and a third and a fourth', 'और फ़िर तीसरे और फ़िर चौथे के लिये।'),\n",
              " ('once we change those two things', 'एक बार हम इन दो चीज़ों को बदल दें'),\n",
              " ('and thats nothing', 'और ये तो कुछ भी नहीं'),\n",
              " ('using inkjet technologies to print breast cancer cells',\n",
              "  'inkjet प्रौद्योगिकी का उपयोग कर स्तन कैंसर की कोशिकाओं प्रिंट'),\n",
              " ('of a map just by pinching all present', 'सिर्फ़ उन सबको दबाने से।'),\n",
              " ('dry water body children are standing on', 'सूखी होद। बच्चे इस पर खड़े हैं'),\n",
              " ('so theres something that goes on off the end there',\n",
              "  'यहाँ कुछ जो है जो हमसे परे है'),\n",
              " ('i can remember speaking', 'मैं याद कर सकता हूँ मेरी बातचीत'),\n",
              " ('have suffered undue frustration and desperation',\n",
              "  'अनावश्यक निराशा और हताशा को सहते रहे हैं'),\n",
              " ('and its made for humans', 'और यह मनुष्यों के लिए बनी है'),\n",
              " ('and this turns out to be useful', 'और यह बात बहुत काम आ सकती है'),\n",
              " ('rural kansas school district', 'ग्रामीण कान्सास के विद्यालय में'),\n",
              " ('because the majority of the british public',\n",
              "  'क्योंकि अधिकांश ब्रिटिश जनता'),\n",
              " ('i applied to the fire service and i was accepted”',\n",
              "  'मेने अग्निशमन सेवा करने के लिए निवेदन किया और मेरा निवेदन स्वीकार कर लिया गया'),\n",
              " ('theyre moving a million shares of something',\n",
              "  'वे कुछ दस लाख शेयर हिला रहे हैं'),\n",
              " ('okay im going to choose the caffeinated tea',\n",
              "  'अच्छा मैं कैफीन वाली पिऊँगा'),\n",
              " ('and finally an acronym', 'और अंत में एक संक्षित शब्द'),\n",
              " ('higher the local fit', 'जितना ही स्थानीय जुडाव होगा'),\n",
              " ('to be taken back to where they came from', 'जहाँ से वो आये थे'),\n",
              " ('and it had this baggy trouser part',\n",
              "  'और उसमें यह बॅगी पतलून वाला हिस्सा था'),\n",
              " ('aging is basically a process that happens to inanimate objects like cars',\n",
              "  'उम्र का बढ्ना एक ऐसी प्रक्रिया है जो गाडियों जैसी निर्जीव वस्तुओं के साथ होता है'),\n",
              " ('its transparent to light but in order for you to see it',\n",
              "  'ये पदार्थ प्रकाश के लिए पारदर्शी है पर आप इसे यहाँ देख सकें'),\n",
              " ('of setting up this technology here in india',\n",
              "  'कि स्थापना भारत में करने की प्रक्रिया में हूँ'),\n",
              " ('i pull in i put the car in park',\n",
              "  'मैं अन्दर आती हूँ गाड़ी को पार्क करती हूँ'),\n",
              " ('music', 'संगीत'),\n",
              " ('from boston to beirut we stand as one', 'बोस्टन से बेरूत तक हम एक हैं।'),\n",
              " ('do you realize that you ted users', 'क्या आपको एहसास है आप ted श्रोतागण'),\n",
              " ('in canada five boys drop out for every three girls',\n",
              "  'कनाडा में तीन लड़कियों के मुकाबले पांच लड़के स्कूल छोड़ देते हैं'),\n",
              " ('winning stanford  million dollars', 'और स्टानफोर्ड के लिए  लाख डालर जीते'),\n",
              " ('they feel they can train people all over the world',\n",
              "  'उन्हें लगता है कि वो दुनिया भर के लोगों को प्रशिक्षण दे सकते हैं'),\n",
              " ('with peaks and valleys that correspond',\n",
              "  'जिस क्षेत्र के शिखर और घाटियों प्रतिबिम्ब हैं'),\n",
              " ('so the next thing we did', 'अगली चीज़ हमने की'),\n",
              " ('this is commandant haji malem mohsin khan of kamenj',\n",
              "  'यह हैं कमेन्न्ज से सेनानायक हाजी मलें मोहसिन खान'),\n",
              " ('from the drudgery that people have',\n",
              "  'खराब ज़िन्दगी से जो लोग जी रहे हैं ।'),\n",
              " ('and of course that has enormous implications',\n",
              "  'निसंदेह इसके काफ़ी बडे़ परिणाम हो सकते हैं'),\n",
              " ('another human beings mind', 'इंसान की तो बात ही छोड़ दो'),\n",
              " ('and sometimes you even watch satellite', 'और कभी कभी आप टीवी भी देखते हो'),\n",
              " ('and runs the only space line ok and weve shied away from it',\n",
              "  'और अंतरिक्ष यात्रा का ज़रीया केवल उन्ही को उपलब्द्ध है पर हम उससे बचते आए हैं'),\n",
              " ('i sent all the teachers away from my group of  yearold students',\n",
              "  'मैंने सभी शिक्षकों को मेरे दससाल के बच्चों से दूर कर दिया'),\n",
              " ('thats london', 'यह लन्दन है'),\n",
              " ('for the country to have as strong a future as it should have',\n",
              "  'और एक मजबूत भविष्य बनाने में जैसा कि होना चाहिए।'),\n",
              " ('i began to think about how i could invent',\n",
              "  'तो मैं सोचने लगी कि मैं किस तरह उन बुरी बातों की'),\n",
              " ('i took as a prison governor', 'मैंने इसे लिया एक जेल के राज्यपाल की तरह'),\n",
              " ('for a bright and optimistic human future', 'भविष्य की नींव रखी।'),\n",
              " ('theres been a set of satellites and this is where you get to see',\n",
              "  'उपग्रह समूहों का उपयोग किया गया जिन्हें आप यहाँ देख सकते हैं'),\n",
              " ('weve discovered things like for example', 'उदाहरण के तौर पे हमनें'),\n",
              " ('now theres a similar situation in the classical music world',\n",
              "  'अब शास्त्रीय संगीत की दुनिया में भी कुछ ऐसी ही परिस्थिति है'),\n",
              " ('it all begins with curiosity', 'केवल जिज्ञासा से ।'),\n",
              " ('they take the poorest kids', 'वे सबसे गरीब बच्चों को लेते हैं'),\n",
              " ('until recently he was earning an official monthly salary',\n",
              "  'कुछ दिन पहले तक उनकी आधिकारिक आय'),\n",
              " ('applause', 'तालियां'),\n",
              " ('first player is offered a hundred dollars',\n",
              "  'पहले खिलाडी को सौ रुपये दिये जाते हैं'),\n",
              " ('my estimation is that probably  of you',\n",
              "  'मेरा अंदाज़ है कि आप में से करीब  लोग'),\n",
              " ('rather than having it updated  like you have to check your computer',\n",
              "  'बिना उसे अपडेट किये जैसेआपको यह करने के लिए अपना'),\n",
              " ('“im macho im strong', '“मैं मजबुत हूँ”'),\n",
              " ('art is our weapon', 'कला हमारा हथियार है।'),\n",
              " ('i suggested that babies might be doing the same thing',\n",
              "  'मैने सुझाया था कि बच्चे भी यही करते होंगे।'),\n",
              " ('i remember my first fire', 'मुझे अपना पहला अवसर याद हैं'),\n",
              " ('that we should have a similar process happening on the inside',\n",
              "  'हमारे भीतर भी ऐसी ही प्रक्रिया का प्रारंभ होना चाहिए'),\n",
              " ('by the end of this year', 'इस वर्ष के अंत तक'),\n",
              " ('in the progression of the technology of powered flight',\n",
              "  'जो संचालित उडान की प्रगति में हुआ'),\n",
              " ('let me give you a couple of examples', 'मै तुम्हे कुछ उदाहरण देता हूँ'),\n",
              " ('hundreds of portraits were made', 'कई सौ तस्वीरें बनाई गई।'),\n",
              " ('what makes ayahuasca fascinating',\n",
              "  'आपको आयाहुअस्का मांत्र उसके संघटक क्षमता'),\n",
              " ('and then put them in one line', 'और उन्हें एक पंक्ति में रख दिया।'),\n",
              " ('because what we did with these girls',\n",
              "  'क्योंकि जो हमने इन लड़कियों के साथ किया'),\n",
              " ('“like how lame is that”', 'यह कितना असन्तोषजनक है'),\n",
              " ('somebody who doesnt care about your achievements',\n",
              "  'कोई ऐसा जो आपकी उपलब्धियों के बारे में कोई परवाह नहीं करता'),\n",
              " ('to their natural conclusion', 'उसे उसके सही निष्कर्श तक कैसे ले जायें'),\n",
              " ('in the national statistical agencies',\n",
              "  'हमारे पास ये आंकड़े संयुक्त राष्टों राष्ट्रीय सांख्यिकी'),\n",
              " ('there should be even more schools doing this kind of project',\n",
              "  'और अधिक स्कूलों को भी इस तरह के प्रोजैक्ट करने चाहिए।'),\n",
              " ('but the growth of a human being', 'पर मनुष्य का विकास'),\n",
              " ('hes like “huh”', 'वोह बोला “हैं”'),\n",
              " ('she could not prostitute', 'वह वेश्यावृति नहीं कर सकती थी'),\n",
              " ('it more felt to be the case to me', 'मुझे यह लगता रहता था कि'),\n",
              " ('lets stop fighting for a moment and start talking',\n",
              "  'हमें लडना छोड कर बातचीत शुरु करनी होगी।'),\n",
              " ('the women told us one thing “get us technology',\n",
              "  'एक औरत ने हम से कहा “हमें तकनीकों की ज़रूरत है।'),\n",
              " ('and this is a really fundamental component of how cells work',\n",
              "  'और ये तो कोशिकाऒं के काम काज का बुनियादी भाग है'),\n",
              " ('it follows the design of bone', 'यह हड्डी के डिजाइन की तरह है'),\n",
              " ('that the negative can be delinked', 'नकारात्मक सोच को हटाया जा सके।'),\n",
              " ('and soldiers were pervasive in our society',\n",
              "  'और सैनिक समाज में हर तरफ फैले हुए थे'),\n",
              " ('and whats interesting about this view',\n",
              "  'क्या इस दृश्य के बारे में दिलचस्प है'),\n",
              " ('men are restless', 'आदमी उछ्छंखल होते हैं'),\n",
              " ('a fairly silly arithmetic game', 'एक साधारण सा गणित का खेल है'),\n",
              " ('the aggregate numbers are overwhelming', 'कुल संख्या काफी भारी है'),\n",
              " ('heres the key question', 'यही मुख्य सवाल है।'),\n",
              " ('we can actually use tissueengineering techniques',\n",
              "  'हम वास्तव में ऊतक इंजीनियरिंग तकनीक का उपयोग कर सकते हैं'),\n",
              " ('i must say that before i went to the us i didnt',\n",
              "  'मैं यहाँ ये कहना कहूंगी कि अमेरिका जाने के पहले मैं खुद को'),\n",
              " ('if you pick up your boarding pass it can tell you that your flight is delayed',\n",
              "  'अगर आप अपना बोर्डिंग पास उठाते हैं वह आप को बता सकता है कि आपकी उड़ान देर से है'),\n",
              " ('with authoritarian governments',\n",
              "  'सत्तावादी सरकारों के इश्क में पागल रहते हैं'),\n",
              " ('he would hold on to the receiver and expect me to dial a number for him',\n",
              "  'वो रिसीवर को पकड़ लेते और मुझसे आशा रखते कि मैं उनके लिए नंबर डायल कर दू'),\n",
              " ('because i tried to make it intimate',\n",
              "  'मैं उसे ये तोह्फा बड़े प्यार से देना चाहता था'),\n",
              " ('its universally in many quarters celebrated',\n",
              "  'विश्व भर में उसकी निंदा नहीं की जाती परंतु'),\n",
              " ('the kepler mission', 'केपलर मिशनkepler mission'),\n",
              " ('dont wait you need at least  hours a week of one to one teaching',\n",
              "  'इ।तज़ार मत करो तम्हे ठीक शिक्षण के लिए कम से कम  घंटे एक सप्ताह में जरूरत है'),\n",
              " ('their rage', 'उनका आक्रोश'),\n",
              " ('and this is the africa where people are looking for partnerships',\n",
              "  'और यह वो अफ्रीका है जहाँ लोग यह करने के लिए साझेदारी की तलाश कर रहे हैं'),\n",
              " ('with you', 'अपने साथ ही थामे रखें'),\n",
              " ('with newly sober eyes', 'नयी दृष्टि से देखें'),\n",
              " ('where these basketlike objects look organic and woven',\n",
              "  'जहां यह टोकरी जैसी वस्तुए जैविक और बुनी हुई लगती हैं'),\n",
              " ('of my perceptions aspirations and dreams',\n",
              "  'जो मेरे नज़रियों मेरी आशाओं और मेरे सपनों मे भरा है'),\n",
              " ('either for large farms', 'बडे खेतों को मिल रही थी'),\n",
              " ('than my friends amongst the kwagiulth',\n",
              "  'अलग इंसान बना दिया जो कि यह मानते थे'),\n",
              " ('with the conclusions of the article', 'लेख के निष्कर्ष के साथ।'),\n",
              " ('he said that he had been absolutely convinced that this was necessary',\n",
              "  'उन्होंने कहा कि वह पूरी तरह आश्वस्त थे कि यह जरूरी था'),\n",
              " ('making the actual thing and also maintaining them',\n",
              "  'वास्तविक चीजें बनाना और उन्हें बनाए रखना।'),\n",
              " ('it can be leveraged as a portal',\n",
              "  'हम इसे ऐसे मंच के रूप में इस्तेमाल कर सकते हैं'),\n",
              " ('called “women without men”', 'जिसका शीर्षक है “आदमियों बगैर औरतें”'),\n",
              " ('but we dont have enough data here to actually see the pattern',\n",
              "  'लेकिन हमारे पास उतने आंकड़े उपलब्द्ध नहीं है कि हम इसका वास्तविक स्वरूप देख सकें'),\n",
              " ('thank you very much thank you', 'बहुत बहुत धन्यवाद धन्यवाद'),\n",
              " ('people started contributing ideas',\n",
              "  'लोगों ने विचारों का योगदान प्रारंभ कर दिया'),\n",
              " ('you better have some good security theater',\n",
              "  'या तो आपके पास कोई अच्छा बेहतर सुरक्षा थेअटर होना चाहिए'),\n",
              " ('the third big thing i believe that has changed india',\n",
              "  'तीसरी बड़ी बात मुझे विश्वास है जिसने भारत को बदल दिया है'),\n",
              " ('♫ thats a guess ♫', '♫ यह एक अनुमान है ♫'),\n",
              " ('need more resources and need our help',\n",
              "  'उन्हें साधन और हमारी सहायता की जरुरत है'),\n",
              " ('let me explain', 'मैं समझाता हूँ'),\n",
              " ('an average african country receives foreign aid',\n",
              "  'एक औसत अफ्रिकी देश को मिला विदेशी अनुदान'),\n",
              " ('and that is that people', 'और ये वो विचार है'),\n",
              " ('what the quantum wave function', 'इतने सारे एक जैसे परमाणुओं का'),\n",
              " ('video arthur c clarke and they can definitely',\n",
              "  'विडिओ आर्थर सी क्लार्क और ये बच्चे यक़ीनन लोगों'),\n",
              " ('and how they converge', 'और कैसे मिल जाते हैं'),\n",
              " ('so that they correspond to the real space in which these shots',\n",
              "  'ताकि वे असली जगह के अनुरूप हैं जिसमें इन दृश्यों'),\n",
              " ('all the business all the commerce', 'सभी व्यापार सभी वाणिज्य'),\n",
              " ('the function of government', 'सरकारी कार्यान्वयन कार्यशैली'),\n",
              " ('theyre doing khan academy theyre doing that software',\n",
              "  'ये ख़ान अकादमी इस्तेमाल करते है और ये इस सॉफ़्टवेयर इस्तेमाल करते हैं'),\n",
              " ('rather than be this great country of intrigue',\n",
              "  'वजाय कि षड्यंत्रों का देश होने के'),\n",
              " ('which is “longevity escape velocity”', '“दीर्घायु escape velocity”'),\n",
              " ('the whole details of whats going to happen in the political scene',\n",
              "  'राजनीतिक दृष्टि से यंहा क्या होने वाला है'),\n",
              " ('where we see a group of intermediate sounds',\n",
              "  'जहां हम माध्यम स्वरों के झुंड देखते हैं'),\n",
              " ('get out of our ideological boxes',\n",
              "  'अपने विचारों की कैद से बाहर आने के लिये।'),\n",
              " ('and you know an epiphany', 'और आप जानते हैं  आत्मबोध'),\n",
              " ('and were sending that data back to the garage',\n",
              "  'और हम डेटा भेज रहे हैं वापस गेराज में'),\n",
              " ('“in the name of father abraham', 'अब्राहम के नाम पर'),\n",
              " ('how we designed a simple toolkit', 'कैसे हमने एक साधारण साधन नियत किया'),\n",
              " ('so let me give you just a very quick tutorial',\n",
              "  'में आपको जल्दी से जानकारी देता हूँ'),\n",
              " ('thats why i am giving this machine',\n",
              "  'इसी लिए मैं ये मशीन केवल ग्रामीण भारत में'),\n",
              " ('identify what are stars and throw them away look at the galaxies',\n",
              "  'उनमें से तारों को छांटकर अलग करके आकाशगंगाओं का अध्ययन किया जाता है'),\n",
              " ('because the thing is', 'क्योंकि मुद्दा ये है'),\n",
              " ('and in fact these free courses could not only be available just on the internet',\n",
              "  'और ये मुफ़्त कोर्स केवल इंटरनेट पर ही उपलब्ध न रहे'),\n",
              " ('can you speak to at least two persons about this story',\n",
              "  'क्या आप कम से कम दो लोगों को इस कहानी के बारे में बता सकते हैं'),\n",
              " ('its very thin its as thin as a sandwich wrapper',\n",
              "  'यह बेहद पतला है भोजन लपेटने वाले कागज जितना पतला।'),\n",
              " ('and the tough ones show up for a reason',\n",
              "  'और बिगडैल वाले आते ही खास वजह से हैं।'),\n",
              " ('audience embark bs yeah wow okay', 'दर्शकएम्बार्क बाबा शिव हाँ वाह अच्छा'),\n",
              " ('i think it starts household by household under the same roof',\n",
              "  'मैं सोचती हूँ यह घर से शुरू होती है एक ही छत के नीचे'),\n",
              " ('and this is the result of the farmersneeds research',\n",
              "  'और ये परिणाम है किसानों की ज़रूरत पर किये गये शोध का।'),\n",
              " ('asking for your support', 'आपका सहयोग मांगने के लिए'),\n",
              " ('the other thing that religions know is were not just brains',\n",
              "  'एक और चीज जो धर्म जानते है कि हमारे अन्दर सिर्फ़ एक मन ही नही'),\n",
              " ('because i am the best teacher', 'क्योंकि मैं सबसे अच्छी शिक्षक हूँ'),\n",
              " ('medicinal uses cosmetics', 'दवाई के रूप में सौंदर्य प्रसाधन के रूप में'),\n",
              " ('cameroon northern cameroon boom and bust cycles of hunger',\n",
              "  'कैमेरून उत्तरी कैमेरून में भूख के भरमार और अभाव के सिलसिले जारी हैं'),\n",
              " ('fn and i also had an interest in dangerous inventions',\n",
              "  'fn और मुझे खतरनाक आविष्कारों में भी रुचि थी'),\n",
              " ('of big areas of the world', 'बल्कि दुनियाभर के बड़े इलाकों के'),\n",
              " ('and ganesha said', 'और तब गणेश ने कहा'),\n",
              " ('about a  dollar seed grant initiative seed grant initiative to help develop waterfront projects',\n",
              "  'अमरीकी डालर के बीज अनुदान कार्यक्रम के लिए मुझसे संपर्क किया'),\n",
              " ('a newstyle elevator', 'एक नई शैली का एलेवेटर'),\n",
              " ('to get actionable information', 'होने की भी जरुरत नही।'),\n",
              " ('to reframe that how many generations',\n",
              "  'कि आप इस प्रशन को दोबारा बानायें। मानव इतिहास की'),\n",
              " ('we can coordinate all the motions', 'हम सभी चालो को समायोजित कर सके'),\n",
              " ('applause', 'हर्षध्वनि'),\n",
              " ('perhaps most exciting to me',\n",
              "  'शायद मुझे सबसे ज़्यादा स्फूर्ति दिलानेवाला सुझाव यह है'),\n",
              " ('let me help you with some things', 'मैं आपको सोचने मई मदद करता हु'),\n",
              " ('the reverend thomas bayes', 'रेवेरेंड थोमस बेयस'),\n",
              " ('from use  starting to use contemporary materials',\n",
              "  'समकालीन सामग्री के उपयोग की शुरुआत'),\n",
              " ('to the next level of citizen response',\n",
              "  'नागरिक प्रतिक्रिया के दूसरे चरण पर ले जाना होगा'),\n",
              " ('that there are right and wrong answers',\n",
              "  'कि सही और गलत उत्तर हैं इस प्रश्न के'),\n",
              " ('but hes sent in a pod much like moses was on the nile',\n",
              "  'बल्कि उसे एक पत्ते में भेजा गया जैसे नील नदी पर मोजेस को।'),\n",
              " ('a restaurant  you might not want to just read about it',\n",
              "  'एक रेस्त्रां  हो सकता आप सिर्फ़ पढना ही नही चाहते'),\n",
              " ('so the goal here is to achieve sentience in machines',\n",
              "  'तो यहाँ मशीनों में संवेदनशीलता हासिल करना लक्ष्य है'),\n",
              " ('we brought together cartoonists', 'हमने कार्टूनिस्टों को'),\n",
              " ('because sometimes people from outside the uk imagine',\n",
              "  'क्योकि ब्रिटेन से बाहर के लोग कभी कभी'),\n",
              " ('so i run right upstairs', 'तो मैं फौरन सीडियों से ऊपर भागा'),\n",
              " ('one of these and its paradoxical because its linked to something thats rather nice',\n",
              "  'इनमे से एक देखा जाये तो भ्रमित करने वाला है क्यूंकि यह कुछ अच्छी चीज के साथ जुड़ा हुआ है'),\n",
              " ('to let folks take care of themselves', 'ताकि लोग चैन से'),\n",
              " ('youll be handed rice cakes', 'फ़िर आपको चावल का केक दिया जायेगा'),\n",
              " ('i had to do an analysis about the energy used in the world',\n",
              "  'मुझे पूरी दुनिया में उपयोग होने वाली ऊर्जा का विश्लेषण करना पड़ा'),\n",
              " ('with one last application', 'एक आखरी प्रयोग के साथ'),\n",
              " ('thank god for them', 'भगवान भला करे उनका'),\n",
              " ('theres nothing i can do as a cartoonist',\n",
              "  'एक कार्टूनिस्ट के तहत वो मेरे काम की नहीं'),\n",
              " ('now we didnt write this app', 'यह एप्प हमने नहीं लिखा'),\n",
              " ('lets get him working on building different things',\n",
              "  'चलो तो उसे अलग अलग चीजों के निर्माण पर काम करने के लिए प्रेरित करे'),\n",
              " ('and of course the main thing is that you shouldnt trust people',\n",
              "  'निसेदेह मुख्य बात यह है कि आपको उन लोगों पर विश्ववास नहीं करना चाहिए'),\n",
              " ('well i know the world is flat now',\n",
              "  'हाँ मैं जानता हूँ कि आज दुनिया सपाट हो गई है'),\n",
              " ('the last three decades', 'पिछले तीन दशकों में'),\n",
              " ('and i now had four rollers', 'तो अब मेरे पास चार रोलर थे।'),\n",
              " ('and about  in winter', 'और सर्दी मे तकरीबन'),\n",
              " ('and the americans “ah hes a knucklehead',\n",
              "  'और अमेरिकेन “ ओह  येतो एक सरफिरा आदमी है ”'),\n",
              " ('applause', 'अभिवादन'),\n",
              " ('and its extremely hard to answer', 'और इसका जवाब देना बहुत मुशकिल है'),\n",
              " ('to put a down payment on her house',\n",
              "  'कि ये अपनी घर के लिये अग्रणी जमाराशि का भुगतान कर सके।'),\n",
              " ('the lesson of the titanic for a lot of the contemporaries',\n",
              "  'titanic ने हमें सिखाया की उस समय के बहुत सम्दार्शियों के लिए'),\n",
              " ('what were here to do is to see if we can figure out a way',\n",
              "  'हम यहाँ इसलिये हैं कि हम एक हल ढूँढ सकें जिस से कि'),\n",
              " ('relativity says the internal motions go very slow',\n",
              "  'सापेक्षता का कहना है कि आंतरिक गति बहुत धीमी गति से चलते हैं'),\n",
              " ('which are never brought into the mainstream',\n",
              "  'मगर कभी भी हमारे सामने नहीं लाये जाते'),\n",
              " ('that iranian women have found a new voice',\n",
              "  'कि ईरानी औरतों ने एक नयी आवाज़ पायी है'),\n",
              " ('amend the constitution and remove term limits',\n",
              "  'संविधान संशोधन कर इनके कार्य काल की सीमा हटानी चाही'),\n",
              " ('were stretched to astronomical sizes and those fluctuations',\n",
              "  'महाकाशीय परिमाणों में फैलने लगी और हमें यही अनियमितताएँ'),\n",
              " ('is a truly globalized business', 'सच में वैश्वीकृत कारोबार है'),\n",
              " ('about their economic growth', 'उनके विकास के बारे में'),\n",
              " ('youll see all of those that prefer to stick with the crowd',\n",
              "  'आप उन लोगों को जुड़ते देख सकते हैं जो भीड़ के साथ ही चलना चाहेंगे'),\n",
              " ('because of its culture its political values',\n",
              "  'अपनी संस्कृति से अपने राजनीतिक मूल्यों से'),\n",
              " ('in some countries  percent of children survive to five years of age',\n",
              "  'कुछ देशों में  प्रतिशत बच्चे पाँच साल की उम्र से संघर्ष करना शुरू कर देते हैं'),\n",
              " ('and this understanding of our ancestors',\n",
              "  'और इस प्रतिक्रिया की समझ हमारी पूर्वजों के अनुसार'),\n",
              " ('worldwide  than everything else combined and yet',\n",
              "  'से भी अधिक संख्या में लोगों को अपना शिकार बना रही हैं'),\n",
              " ('of psychological balance', 'मनोवैज्ञानिक संतुलन की'),\n",
              " ('so this neglected space became a constructive one',\n",
              "  'इस तरह से यह उपेक्षित स्थान एक रचनात्मक स्थान बन गया'),\n",
              " ('that all good ideas will come only from our country',\n",
              "  'हम चाहें कि सारे अच्छी योजनायें हमारे ही देश से आयें ।'),\n",
              " ('where are they where are those ripples', 'वो कहाँ हैं वो लहरे कहा हैं'),\n",
              " ('ag okaytheres his fifth hypothesis', 'एजी पाँचवी हाइपोथेसिस।'),\n",
              " ('it speaks to my most authentic self”', 'यह मेरी सबसे प्रामाणिक स्वयं है'),\n",
              " ('to bring quality affordable maternal health care',\n",
              "  'गुणकारी और सस्ती जच्चाबच्चा स्वास्थ सेवा को'),\n",
              " ('we need to somehow get their message',\n",
              "  'हम किसी भी तरह उनका संदेश पहुचाना है'),\n",
              " ('where in the bible he sets off on his journey',\n",
              "  'जहाँ से बाइबिल के अनुसार उन्होंने अपनी यात्रा शुरु की थी।'),\n",
              " ('it was purchased the year i was born',\n",
              "  'उसे उसी साल ख़रीदा गया जिस साल मैं पैदा हुई'),\n",
              " ('what i call a g2g model', 'इसे हम g2g कहते हैं'),\n",
              " ('is he sat there he tapped his foot on the floor at three and a half',\n",
              "  'वहीं बैठ गया अपने पैर से फ़र्श पर ताल लगाई साढे तीन मात्रा में'),\n",
              " ('really stands at the crossroads of sculpture painting and installation',\n",
              "  'वास्तव में चित्रकला मूर्तिकला और स्थापना के चौराहे पर खड़े हैं'),\n",
              " ('and when my mama died two years ago at',\n",
              "  'और  वर्ष की उम्र में दो साल पहले जब माँ गुज़री'),\n",
              " ('impossible not to see the human vitality',\n",
              "  'असंभव था कि वहाँ मौजूद मानव उत्साह को अनदेखा करें'),\n",
              " ('which means sidewalk gallery', 'जिसका मतलब है फुटपाथ की प्रदर्शनी'),\n",
              " ('when the universe was at this point', 'जब ब्रह्माण्ड इस बिन्दु पर था'),\n",
              " ('did i mention theyre gorgeous',\n",
              "  'क्या मैंने उल्लेख किया था वे बहुत खूबसूरत हैं'),\n",
              " ('veiling my daughter from birth',\n",
              "  'जन्म से ही मेरी बेटी को परदे में रखने में'),\n",
              " ('for hundreds of years and i trust a city',\n",
              "  'और मैं ऐसे शहर पर विश्वास करते हैं'),\n",
              " ('described as the “celestial openness”',\n",
              "  '“दिव्य खुलापन” के रूप में वर्णित करते हैं'),\n",
              " ('and im one of them”', 'और मैं उनमें से एक हूँ ”'),\n",
              " ('theyve gone back and theyve gotten their masters of education',\n",
              "  'वे जा चुके हैं और उन्होंने अपनी शिक्षा की मास्टर उपाधि प्राप्त कर ली है।'),\n",
              " ('which is a way of bringing water directly to the plant stock',\n",
              "  'जो कि पानी को सीधे पौधे की जड में पहुँचाने का एक तरीका है।'),\n",
              " ('two firewire cameras rate gyros accelerometers',\n",
              "  'दो firewire कैमरा आठ gyros accelerometer'),\n",
              " ('and its technically completely different',\n",
              "  'और यह तकनीकी रूप से उस कल्पना से पूरी तरह से अलग है'),\n",
              " ('have microbial communities that are more similar',\n",
              "  'उनमे सूक्ष्म समुदायों में अधिक समानता है'),\n",
              " ('which is done for global audiences',\n",
              "  'जो कि विश्व भर के दर्शकों के लिये है'),\n",
              " ('can be a burden', 'एक बोझ बन सकती हैं'),\n",
              " ('but i realized that there was this one hill on our golf course',\n",
              "  'मगर मुझे पता लगा कि गोल्फ़कोर्स पर एक टीला है'),\n",
              " ('because its bad enough not getting what you want',\n",
              "  'क्योंकि ये काफी बुरा हैवह ना पाना जो कि आप चाहते हो'),\n",
              " ('and so i said “you know what', 'तो मैंने कहा “क्या ख्याल है'),\n",
              " ('could look a lot more stylish', 'ये दिखने में भी ज्यादा सजीला हो सकता है'),\n",
              " ('maybe shorter life spans', 'लघु आयु'),\n",
              " ('can you do you jam do you have anything else',\n",
              "  'क्या सुना सकते हैं आप जाम कर सकते हैं क्या आप कुछ और कर सकते है'),\n",
              " ('or any of the intuitiveness of real life',\n",
              "  'या वास्तविक दुनिया की कोई भी सहजता'),\n",
              " ('you will be welcomed to elysium',\n",
              "  'तो आपको अलीसियम स्वर्ग में आमंत्रित किया जायेगा'),\n",
              " ('and so my request is', 'तो मेरा अनुरोध है'),\n",
              " ('you bring your water you bring your soap',\n",
              "  'आप अपना पानी लाइये साबुन दीजिये ।'),\n",
              " ('done in collaboration with danish artist soren pors',\n",
              "  'जो डेनिश सहयोगी कलाकार सोरेन पोर्स के साथ की है'),\n",
              " ('an experience common to all and sundry', 'एक सर्वसामान्य अनुभव'),\n",
              " ('abhishek joined the team', 'अभिषेक समूह में शामिल हुआ'),\n",
              " ('disciplines in biology the notions of symbiosis',\n",
              "  'क्षेत्रों से। जीवविज्ञान में बहुत सारे उदाहरण हैं परस्पर निर्भरता symbiosis के'),\n",
              " ('so this is how it works', 'तो यह इस तरह काम करता है'),\n",
              " ('just for the carnival and the knife', 'बस कार्निवल और नैफ के लिए'),\n",
              " ('i could find noor the hidden light of afghanistan',\n",
              "  'मैंने एक नूर पाया अफगानिस्तान कि वो छुपी किरण ।'),\n",
              " ('this old bicycle tube and this old plastic unclear',\n",
              "  'ये पुराना साइकिल का ट्यूब और ये पुरान प्लास्टिक का पाइप'),\n",
              " ('and weve already started construction on section two',\n",
              "  'और हमने तो दूसरे भाग का निर्माण कार्य भी शुरू दिया है'),\n",
              " ('to experience what it means to be a child laborer',\n",
              "  'ताकि वे अनुभव कर सकें कि बाल श्रमिक होना क्या होता है'),\n",
              " ('i was watching tv in paris', 'मैं पैरिस में बैठा टीवी देख रहा था'),\n",
              " ('we have nothing to lose and everything to gain',\n",
              "  'वह है कि हमारे पास खोने को कुछ भी नहीं है और पाने को सब कुछ है।'),\n",
              " ('but even more interestingly', 'लेकिन इससे भी अधिक दिलचस्प है'),\n",
              " ('and become homo sapiens', 'और होमोसेपिएन्स बनाने में।'),\n",
              " ('from a university in ghana has a stronger sense',\n",
              "  'घाना के विश्वविद्यालय के पास अधिक भावना'),\n",
              " ('that stories go beyond our capacity for keeping us entertained',\n",
              "  'कहानियां हमारी क्षमता के परे जाकर हमारा मनोरंजन करती हैं'),\n",
              " ('and i want to close with two quick stories to illustrate this',\n",
              "  'और मैं दो छोटी कहानियों के साथ इसे समाप्त करना चाहूँगा'),\n",
              " ('of africas economic dilemma is framed wrongly',\n",
              "  'का पश्चिमी मानस पटल में ग़लत चित्रण होता है'),\n",
              " ('when the little goats we played with in the summer',\n",
              "  'जब वो छोटी बकरियाँ जिनके साथ हम खेले थे'),\n",
              " ('well i do', 'खैर मैं करता हूँ'),\n",
              " ('and he had posted lots of nature videos in fact',\n",
              "  'असल में उसने कई प्रकृति पर बने विडियो पोस्ट किये हैं।'),\n",
              " ('there was a big smile on his face which was unusual then',\n",
              "  'उनके चेहरे पर एक बड़ी मुस्कान जो असामान्य तब था'),\n",
              " ('is universal', 'विश्वस्तर की है।'),\n",
              " ('but were not very good at it', 'लेकिन हम इसमें उतने अच्छे नहीं हैं'),\n",
              " ('so we decide at stanford to build a different selfdriving car',\n",
              "  'तो हमने स्टानफोर्डstanford में एक अलग स्वचालित कार बनाने का निर्णय लिया'),\n",
              " ('i mean these kids without control',\n",
              "  'मेरा मतलब है ये जवान बच्चे काबू से बाहर'),\n",
              " ('and thats given us the picture of where we are',\n",
              "  'ताकि हम सही तस्वीर देख पाएँ कि हम कहाँ हैं।'),\n",
              " ('this is marketing this is politics', 'ये दुकानदारी ये राजनीति'),\n",
              " ('to open my heart to others', 'मैं अपने हृदय में दूसरों को स्थान दूं'),\n",
              " ('dravidian languages were spoken all over india',\n",
              "  'पूरे भारत में द्रविड़ परिवार की भाषाएें प्रचलित थी'),\n",
              " ('and now they can just do it', 'और अब वो उसे चुपचाप सीख सकते थे'),\n",
              " ('that cells like these will help us find a cure',\n",
              "  'करते है कि इन जैसे कोशिकाओं से हमें एक इलाज खोजने में मदद मिलेगी'),\n",
              " ('there was a time when stone age men and women',\n",
              "  'एक समय था जब पत्थर युग पुरुष और महिलाए'),\n",
              " ('weve had the internet in its public form',\n",
              "  'हमारे पास इन्टरनेट उसके सार्वजनिक रूप में'),\n",
              " ('in a few days tens of thousands of people there',\n",
              "  'कुछ ही दिनों में हजारो लाखो लोग वंहा थे'),\n",
              " ('but when it encounters a very extreme terrain',\n",
              "  'लेकिन जब इसका सामना एक कठिन क्षेत्र से होता है'),\n",
              " ('never seen sweden', 'कभी स्वीडन देखा नहीं।'),\n",
              " ('but the plant meanwhile has benefited', 'लेकिन पौधे को फायदा हो गया है'),\n",
              " ('but the students are not there the problem for me was not ignorance',\n",
              "  'लेकिन ये छात्र ऐसा नहीं कर सकते। यह समस्या अज्ञानता की नहीं थी'),\n",
              " ('whether youre going to install a burglar alarm in your home',\n",
              "  'चाहे आप अपने घर में चोरी से बचने वाला अलार्म लगवाने वाले हो'),\n",
              " ('through your eyes through your senses',\n",
              "  'जो आप अपनी आंखों से देखते हैं महसूस करते है'),\n",
              " ('to shine a light on these issues',\n",
              "  'काम करके इन मुद्दों पर प्रकाश डालने का प्रयास कर रही है।'),\n",
              " ('or if you are a teacher youll love unesco and so on',\n",
              "  'और अगर आप शिक्षक है तो आप को यूनेक्सो पसंद होगा वगैरह।'),\n",
              " ('telephones infrastructures', 'टेलीफ़ोन और सडकों जैसी संरचनायें'),\n",
              " ('that india is still a growth disaster', 'कि भारत में विकास नहीं हो रहा है'),\n",
              " ('wiped off the face of the planet',\n",
              "  'जिसे इस ग्रह से पूर्णतयः नष्ट कर दिया गया'),\n",
              " ('from the question of politics', 'राजनैतिक सवालात से'),\n",
              " ('when i saw my mother load a washing machine',\n",
              "  'जब मैंने अपनी माँ को वाशिंग मशीन में कपड़े डालते देखा'),\n",
              " ('the airbus a380 and its quite huge', 'एयरबस a380 और यह काफी बड़ा है'),\n",
              " ('is this is a factual claim', 'यह एक दावा है एक हकीकत का'),\n",
              " ('if you spin something it tends to fly out',\n",
              "  'अगर आप कुछ घुमायेंगे तो वो बाहर की तरफ़ भागेगा।'),\n",
              " ('gives it to me like a banned item something like that',\n",
              "  'ऎसे देने लगा जैसे कोई बहुत ग़लत चीज़ दे रहा हो'),\n",
              " ('you put water into a bottle it becomes the bottle',\n",
              "  'तुम पानी को बॉटल में डालो वह बॉटल बन जाता है।'),\n",
              " ('so let me just mount some drives go over there', 'तो मुझे बस यह लगाना है'),\n",
              " ('we havent understood anything else”', 'हमें कुछ समझ में नहीं आया है ”'),\n",
              " ('now he tries e again and that doesnt work',\n",
              "  'अब वो फिर ई लगाते हैं और वह काम नहीं करता'),\n",
              " ('talk to them about the kind of policies and institutions',\n",
              "  'उनसे पूछेगी कि उन्हे किस तरह की नीतियों और संस्थाओं की आवश्यकता है'),\n",
              " ('years later when i finally grew up', 'सालों बाद जब मैं अंततः बड़ी हुई'),\n",
              " ('within a wider fabric of places', 'उन व्यापक क्षेत्रों के बीच में'),\n",
              " ('was something called post partum hemorrhage',\n",
              "  'पोस्ट पार्टम हेमोर्हेज नामक कोई चीज़ थी'),\n",
              " ('would the pakistanis please just stand up please',\n",
              "  'क्या यहाँ मौजद पाकिस्तानी लोग कृप्या खडे हो सकते है'),\n",
              " ('if they do so at the appropriate time', 'अगर वे ऐसा उचित समय पर करते हैं'),\n",
              " ('it was a political ferment so to say', 'राजनैतिक अस्थिरता का समय'),\n",
              " ('of algorithms in conflict', 'एल्गोरिदम के संघर्ष का'),\n",
              " ('and so thats why the death rate did come down',\n",
              "  'और इस प्रकार मृत्यु दर नीचे आई।'),\n",
              " ('applause', 'तालियां'),\n",
              " ('thanks', 'धन्यवाद'),\n",
              " ('one of the more important things in the work',\n",
              "  'इस काम की सबसे महत्वपूर्ण वस्तुओं में से एक है'),\n",
              " ('unless theres solar flares coming then you want to get out the way',\n",
              "  'यदि कोई सौर तूफ़ान हमारी ओर नहीं आ रहा हो और हमें उससे बचना ज़रूरी हो'),\n",
              " ('my mom left nairobi kenya', 'मेरी माँ ने केन्या में नैरोबी छोड़ा'),\n",
              " ('and as were coming down', 'और जैसे जैसे हम नीचे आ रहे थे'),\n",
              " ('this flag waving right in front of the veterinary facility',\n",
              "  'जैसे वह हिलता हुआ झडा पशु चिकित्सा सुविधा के सामने'),\n",
              " ('whats out there', 'क्या चल रहा है ।'),\n",
              " ('were a group of friends who arrive there',\n",
              "  'हम कुछ दोस्त हैं जो वहाँ पहुँचते हैं'),\n",
              " ('because i couldnt get through school i struggled with school',\n",
              "  'क्योंकि मैं स्कूल में पास ही नहीं होता था ।'),\n",
              " ('maybe  rupees', 'करीब  रुपये'),\n",
              " ('but i think as a community', 'पर मैं सोचती हूँ एक समुदाय के तौर पर'),\n",
              " ('why cant we get fivedollar nets to  million people',\n",
              "  'तो हम  करोड लोगों तक पाँच डॉलर में बनी मच्छरदानी क्यों नहीं दे सकते'),\n",
              " ('they have to be nutritious', 'यह पौष्टिक होना चाहिए'),\n",
              " ('but actually this detector', 'मगर असल मे ये डिटेक्टर'),\n",
              " ('to disseminate the pollen', 'पुष्परेणु का प्रसार करने के लिए'),\n",
              " ('and they had their first kids', 'और उनके बच्चे भी यहीं हुए'),\n",
              " ('this is what i saw', 'ये देख रहा था मई'),\n",
              " ('and slowly over time', 'समय बीततेबीतते'),\n",
              " ('collectors here with us at ted local collectors',\n",
              "  'ted संग्रहकर्ता स्थानीय संग्रहकर्ताओं के लिए'),\n",
              " ('you know the story', 'बाकी किस्सा तो आप जानते ही हैं'),\n",
              " ('if you close your eyes right now in this room',\n",
              "  'अगर इस कमरे में आप अपनी आँखें बंद करे'),\n",
              " ('but after all scientists also do experiments',\n",
              "  'मगर क्योंकि साइंसटिस्ट प्रयोग करते हैं'),\n",
              " ('then we were victims of don porfirio', 'हम डान पोर्फिरियो से पीड़ित थे'),\n",
              " ('and three nights of the week have them tell stories',\n",
              "  'और बाकी तीन रात उनसे कहानियाँ सुनिये ।'),\n",
              " ('they were exploring the structure of the proton',\n",
              "  'वो लोग प्रोटॉन की संरचना की खोज कर रहे थे'),\n",
              " ('of the cultural revolution', 'जैसे कि सांस्कृतिक क्रांति।'),\n",
              " ('maybe you think youre jesus', 'आप खुद को जीजस समझते हैं'),\n",
              " ('and god“ he said to the poor man ”is answering your plea',\n",
              "  '“और भगवान्” उन्होंने गरीब व्यक्ति से कहा “तुम्हारी प्रार्थना सुन रहे हैं'),\n",
              " ('and encouraging others to give',\n",
              "  'और दूसरों को देने के लिए प्रोत्साहित करना।'),\n",
              " ('now of course some of us if we truly are cosmopolitan', 'हम में से कुछ'),\n",
              " ('another crazy colorful', 'एक अलग रंगीन'),\n",
              " ('they have over a billion people in this country',\n",
              "  'इस देश में  अरब से अधिक लोग हैं'),\n",
              " ('a series of images captured by some of pakistans',\n",
              "  'ऐसी तस्वीरें जो कि पाकिस्तान के कुछ'),\n",
              " ('of the dravidian language family', 'द्रविड़ भाषा परिवार की'),\n",
              " ('now i was a little scared', 'अब मुझे थोड़ा डर लग रहा था'),\n",
              " ('and the great firewall of china', 'और चीन की महान फ़ायरवौल'),\n",
              " ('and its not because people were happy', 'यह इस लिए नहीं कि लोग खुश थे'),\n",
              " ('for anyone here from brazil youll know about this plant',\n",
              "  'अगर आप ब्राजील से हैं आप इसे जानते होंगे'),\n",
              " ('that we think are related to coherence',\n",
              "  'जो हम सोचते हैं अनुकूलता से संबन्धित है'),\n",
              " ('the kuchipudi dancer the bharatanatyam dancer',\n",
              "  'कुचिपुडि भरतनाट्यम नर्तकों को देखिये'),\n",
              " ('i was there to view something called a longduration balloon flight',\n",
              "  'मैं वहा लम्बीअवधि वाले गुब्बारे की उड़ान के अवलोकन के लिए था'),\n",
              " ('our feeling that we are the most important people in the whole entire world',\n",
              "  'हमारी सोच से कि हम इस सम्पूर्ण संसार में सबसे महत्वपूर्ण लोग हैं'),\n",
              " ('and they look at this dashboard', 'और वो इस डैशबोर्ड को देखें।'),\n",
              " ('when you talk about objects', 'जब हम वस्तुओं की बात करते हैं'),\n",
              " ('heres a replica of one such seal', 'यहाँ एक ऐसी मुहर की एक प्रतिकृति है।'),\n",
              " ('i saved his life”', 'मेने उसकी जान बचाई ”'),\n",
              " ('rna interference only a few years ago',\n",
              "  'आर एन ए हस्तक्षेप जैसी चीज़ों के बारे में कुछ साल पहले ही जाना है'),\n",
              " ('why the need for accumulating money then doing philanthropy',\n",
              "  'पहले पैसों का ढेर बनाकर फिर समाजसेवा करने आने का क्या मतलब है'),\n",
              " ('its only god who can really put everybody in their place',\n",
              "  'यह केवल परमेश्वर है जो वास्तव में सभी लोगो को उनकी जगह पर रख सकते है'),\n",
              " ('have no capacity for human empathy or connection',\n",
              "  'जिनमे इंसानी हमदर्दी या संपर्क के लिए कोई क्षमता नहीं होती।'),\n",
              " ('in the secular world you can come through the university system and be a lousy speaker',\n",
              "  'इस भौतिकतावादी दुनिया मे आप विश्वविद्यालय पद्धति मे पढ के अच्छे वक्ता न होने के बावजूद'),\n",
              " ('and we request them', 'हम उनसे निवेदन कर सकते हैं।'),\n",
              " ('you cannot command compassion', 'तुम संवेदना को आदेश नहीं दे सकते'),\n",
              " ('i didnt know what to expect from this experiment',\n",
              "  'मैं नहीं जानती थी कि इस प्रयोग से क्या आशा कर सकती हूँ'),\n",
              " ('to be able to do things better', 'बेहतर रूप से कार्य करने के लिए'),\n",
              " ('cricket wasnt always this', 'क्रिकेट हमेशा ऐसा नहीं था'),\n",
              " ('and theres a lot of exchange of fire', 'और हमेशा गोलाबारी होती है'),\n",
              " ('taking it a step further', 'इसे एक कदम आगे ले कर'),\n",
              " ('how they did it', 'उन्होंने ये कैसे किया'),\n",
              " ('and thats what authenticity is all about',\n",
              "  'और वास्तविक प्रामाणिकता ऐसी ही होती है'),\n",
              " ('so a few years later and its now',\n",
              "  'तो कुछ साल बाद और अब मैं  कि बात कर रहा हूँ'),\n",
              " ('cats were watching other cats watch this video',\n",
              "  'बिल्लियाँ देख रही थीं कि कैसे दूसरी बिल्लियाँ इसको देख रही हैं।'),\n",
              " ('we see it in supermarkets on book covers',\n",
              "  'हमने यह पुस्तक कवर पर सुपरमार्केट में देख़ा हैं।'),\n",
              " ('the first time you had sex', 'कि हमारा सबसे पहला यौन अनुभव कहाँ हुआ था'),\n",
              " ('they will not only get it', 'तो वो ना सिर्फ इसे समझेंगे'),\n",
              " ('the fastestgrowing developmental disorders in the world',\n",
              "  'एक तेजी से बढ़ता हुए मानसिक विकास से संबंधित विकार है'),\n",
              " ('but it was actually much larger than either of these two civilizations',\n",
              "  'लेकिन यह इन दो सभ्यताओं से कहीं बड़ी थी।'),\n",
              " ('and im here to tell you', 'जिसके बाद मैं आपको बता सकती हूँ कि'),\n",
              " ('by the partition with pakistan in', 'के पाकिस्तान के बंटवारे की वजह से'),\n",
              " ('what about art', 'तो कला का क्या'),\n",
              " ('chris anderson now this is actually a courageous talk',\n",
              "  'क्रिस एन्डरसन ये वाकई बडी साहसिक बात है'),\n",
              " ('its not that simple', 'यह सरल भी नहीं है'),\n",
              " ('“youre talking to me already whats the matter”',\n",
              "  '“वो तो तुम कर ही रही हो क्या हुआ”'),\n",
              " ('to get these kids turned on', 'इन बच्चों का उत्साह जगाने के लिए'),\n",
              " ('to whatever it is youre doing now',\n",
              "  'हमें अपने समस्त कार्यों को भली प्रकार करना चाहिए'),\n",
              " ('exactly what a bee sees', 'मधुमक्खी को क्या दीखता है'),\n",
              " ('was where do i begin', 'कि मैं कहाँ से शुरू करूँ'),\n",
              " ('so how did the city respond', 'तो शहर ने अपनी प्रतिक्रिया कैसे दिखाई'),\n",
              " ('ask a room full of teenagers the same thing',\n",
              "  'एक किशोरों के पूरे कमरे से ये ही बात पूछो'),\n",
              " ('i must know how many of the guys here have touched a sanitary pad',\n",
              "  'अब आप बताईए यहाँ कितने आदमी हैं जिन्होंने सैनेटरी पैड हाथ में लिया है'),\n",
              " ('understand that to preserve this language',\n",
              "  'समझते हैं कि इस भाषा को बचाने के लिए'),\n",
              " ('here with  functioning sewing machines', 'यहाँ  सिलाई मशीनों के साथ'),\n",
              " ('if we are here because our ancestors were such fierce competitors',\n",
              "  'यदि हम भीषण प्रतिस्पर्धियों की संतानें हैं'),\n",
              " ('laughter', 'ठहाका'),\n",
              " ('so for example in iraq you know the war zone',\n",
              "  'तो उदाहरण के लिए इराक में आप जानते है युद्ध क्षेत्र'),\n",
              " ('heres the balloon being filled up with helium',\n",
              "  'यहां गुब्बारे मे हीलियम भरा जा रहा है'),\n",
              " ('it had our university logo on it',\n",
              "  'उस पर मैनें अपनी यूनिवर्सिटी का चिन्ह बना दिया था ।'),\n",
              " ('in saving her home', 'मालकिन का ख़त आया'),\n",
              " ('with new possibilities of life', 'बदलाव में व्यस्त रही है।'),\n",
              " ('we can invite partners who can support us but we have to start',\n",
              "  'हम साझीदारों को आमंत्रित कर सकते हैं जो हमारा समर्थन कर सकते हैं लेकिन हम शुरुआत करनी ही है।'),\n",
              " ('thats basically the difference', 'इन दोनों के बीच में यही मूल भिन्नता हैं'),\n",
              " ('with wide eyes and a mitt on their hand', 'हैरत से मुंह बाए हुए'),\n",
              " ('and the fact that we have english is now becoming',\n",
              "  'और अब तथ्य यह है कि हमारा अंग्रेजी होना'),\n",
              " ('these extraordinarily gifted children', 'ये असाधारण प्रतिभाशाली बच्चे हैं'),\n",
              " ('whos longing to hear his wife say',\n",
              "  'जो तड़प रहे है अपनी पत्नी से सुनने के लिए'),\n",
              " ('pockets of liquid water', 'द्रव पानी के पॉकेट्स से ही नहीं निकलते'),\n",
              " ('or the cognitive dissonance', 'एक साथ रख रहे हैं'),\n",
              " ('like when you reverse a sticker', 'ठीक स्टिकर के पीछे वाले भाग जैसा'),\n",
              " ('“eating cheese and meat may boost selfcontrol” at this point you might be wondering did i miss something',\n",
              "  '“पनीर और मांस खाने से स्व नियंत्रण को बढ़ावा दिया सकता है” इस बिंदु पर आप सोच रहे हो सकते है क्या मुझसे कुछ छुट गया है'),\n",
              " ('autism is a very big continuum', 'औटिस्म एक लम्बी श्रृंखला है'),\n",
              " ('defeat was inevitable', 'तो हार भी निश्नित होती थी ।'),\n",
              " ('so if you have a choice', 'तो यदि आपको चुनना हो'),\n",
              " ('it would start to climb up the wall in jerky fashion',\n",
              "  'यह दीवार पर झटको के साथ चढ़ना शुरू कर देती है'),\n",
              " ('okay maybe its a bit of a cliché to talk about them',\n",
              "  'हो सकता है उनके बारे मे बात करना एक घिसी पिटी बात हो।'),\n",
              " ('ready to be mined',\n",
              "  'यह बताया गया है कि पर्वत तो पत्थरों का ढेर होता है और उसमें खान खोदी जाती है ।'),\n",
              " ('might help cool some of the superheated rhetoric',\n",
              "  'क्रोध को कम करने में मदद कर सकता है'),\n",
              " ('and one more child who has been misdiagnosed',\n",
              "  'और एक और बच्चा जिसका प्रणाली द्वारा गलत'),\n",
              " ('this proaging trance is what stops us from agitating about these things',\n",
              "  'बुढापे के हित में लोगों का भ्रम ही है जो हमें इन चीज़ों के बारे में आन्दोलन करने से रोकता है'),\n",
              " ('lets go to  years before the present',\n",
              "  'आइये अब हम वर्तमान से चालीस हजार वर्ष पहले चलें'),\n",
              " ('and if youre wondering about those other spikes those are also fridays',\n",
              "  'अगर आप इन चोटियों के बारे में सोच रहे हैं तो वे भी शुक्रवार ही हैं।'),\n",
              " ('and pass it on to the building or atmosphere',\n",
              "  'और उसे बिल्डिंग या वातावरण में नहीं भेजती हैं।'),\n",
              " ('and the other is some very beautiful computer vision research',\n",
              "  'और अन्य हैं कुछ बहुत सुन्दर कम्प्यूटर दृश्य अनुसंधान'),\n",
              " ('that is going to create the new shared experience',\n",
              "  'जो कि एक नया साझा अनुभव बनाएगी'),\n",
              " ('you would have made a poor prediction', 'तो आप गलत अनुमान लगायेंगे'),\n",
              " ('there were remixes', 'और कुछ रिमिक्स भी बनाये गये'),\n",
              " ('weve shown that you can actually reverse heart disease',\n",
              "  'हम ने यह प्रदर्शित किया है कि आप वास्तविकता में अपने दिल की बीमारी को ठीक कर सकते हैं ।'),\n",
              " ('the intraocular lens prices to be at affordable levels',\n",
              "  'कृत्रिम लेंस को कम कीमत पर उपलब्ध नहीं करवा पाये'),\n",
              " ('were all becoming fat', 'हम सब मोटे होते जा रहे हैं'),\n",
              " ('friends this has never happened', 'दोस्तों  ये कभी नहीं हुआ'),\n",
              " ('you can see the surface there', 'आप देख सकते हैं यह सतह'),\n",
              " ('as the koran promises patience is rewarded',\n",
              "  'जैसा कि क़ुरान वादा करता है सब्र का फल मिलता है'),\n",
              " ('part like the red sea when the bell rings', 'जब लाल सागर घंटी बजती है'),\n",
              " ('and it happened twice', 'और ऐसा दो बार हुआ'),\n",
              " ('were located near ventilation ducts', 'वेंटिलेशन नलिकाएं के निकट स्थित थे'),\n",
              " ('get those who killed this guy', 'जिसने उस व्यक्ति की हत्या की है'),\n",
              " ('between the individual and the natural world',\n",
              "  'बीच संबंध दर्शाने वाले लक्षण रुचिकारक हैं ।'),\n",
              " ('all of these characteristics in spades',\n",
              "  'इन सभी विशेशताओं के काफी समान है'),\n",
              " ('so im going to show you a very quick video',\n",
              "  'तो मैं आपको छोटा सा वीडियो दिखाउंगी'),\n",
              " ('was the depletion of matter', 'पदार्थ के अवक्षय के रूप में देखा'),\n",
              " ('in terms of the distances and directions', 'दुरी और दिशा के आधार पर'),\n",
              " ('but the extension of the logic is', 'लेकिन इस तर्क का विस्तार है'),\n",
              " ('have on this moon under the south pole',\n",
              "  'इस चांद पर दक्षिणी ध्रुव के नीचे'),\n",
              " ('and id go at the end of the day to a traditional hindu house',\n",
              "  'और दिन खत्म होने पर एक परंपरागत हिंदू परिवार में जाता था'),\n",
              " ('he said to me “i would be free”', 'उसने मुझसे कहा “मैं आज़ाद हो जाऊंगा ”'),\n",
              " ('before i tell you why it isnt im going to go a little bit',\n",
              "  'इससे पहले कि मैं आपको बताऊं कि यह क्यों नहीं है मै कुछ बात करूंगा'),\n",
              " ('is universally condemned but ethnocide',\n",
              "  'इसकी विश्व भर में निन्दा की जाती है।'),\n",
              " ('and what everything else looks like', 'और बाकी सब कुछ कैसा होता होगा'),\n",
              " ('we want to know not only how much total light it receives',\n",
              "  'हम सिर्फ यह नहीं जानना कहते कि यह कितना प्रकाश प्राप्त करता है'),\n",
              " ('can now become the architects of their own identities',\n",
              "  'अब अपनी पहचान खुद बना सकने की क्षमता रखते हैं'),\n",
              " ('there she is', 'वह वहाँ है'),\n",
              " ('coadvised by steve seitz at uw',\n",
              "  'यूडब्ल्यू के स्टीव सीटज और माइक्रोसॉफ़्ट रिसर्च के रिक स्जिलेस्की'),\n",
              " ('we have to engage at least two of those modalities',\n",
              "  'तो हमें कम से कम इन में दो ज़रियों का इस्तेमाल करना होगा'),\n",
              " ('infection in india', 'भारत में संक्रमण'),\n",
              " ('that had brought our economy to the brink of collapse',\n",
              "  'जिनके कारण हमारी अर्थव्यवस्था पतन के कगार पर पहुँच गई'),\n",
              " ('so what happened on this day', 'सो इस दिन क्या हुआ'),\n",
              " ('make up a web of spiritual life and cultural life',\n",
              "  'और आध्यामिक जीवन तथा सांस्कृतिक जीवन का जाल बुनें'),\n",
              " ('it went a whole life cycle without competition',\n",
              "  'उसने अपना पूरा जीवनचक्र बिना प्रतिस्पर्धा के पूरा किया'),\n",
              " ('as we just heard from michael specter it has changed over the years',\n",
              "  'जैसे हमने अभी माइकल स्पेक्टर से सुना यह सालों से बदलती आ रही है'),\n",
              " ('and theres a volcano behind', 'और पीछे एक ज्वालामुखी है'),\n",
              " ('because the news mostly depressed him', 'क्योंकि खबर ज्यादातर उसे उदास'),\n",
              " ('theres always two sides', 'तो उस में हमेशा दो पक्ष निहित होते हैं।'),\n",
              " ('but look at what happened to the babies',\n",
              "  'पर उन शिशुओं को देखिये क्या हुआ'),\n",
              " ('now i do most of my speaking in front of an education crowd',\n",
              "  'अब मैं अधिकतर शिक्षा से जुड़े लोगों के सामने बोलती हूँ'),\n",
              " ('like a little kid', 'एक छोटे से बच्चे की तरह रो रहा था।'),\n",
              " ('the canadian government has not always been kind',\n",
              "  'कनाडा की सरकार कभी भी इन्यूट लोगों के लिए दयालु नहीं रही'),\n",
              " ('we could make a low pressure nontoxic refrigerator',\n",
              "  'हम एक कम दबाव  गैर विषैले रेफ्रिजरेटर बना सकते हैं'),\n",
              " ('which is is it really true that humans will always despoil commons',\n",
              "  'जो कि ये है क्या ये सच है कि मानव सामूहिक संसाधनों को नष्ट कर देगा'),\n",
              " ('and one day she gives up on you and me',\n",
              "  'और एक दिन वो आपको और मुझे छोड़ देती है'),\n",
              " ('were told that we went into afghanistan',\n",
              "  'हमें कहा गया की हम अफगानिस्तान गए'),\n",
              " ('in mice in principle  and what i mean by in principle is',\n",
              "  'चूहों में सिद्धांत के तौर पे  और सिद्धांत से मेरा मतलब है'),\n",
              " ('id like to begin with a thought experiment',\n",
              "  'आईये एक काळपनिक प्रयोग के वारे में सोचें।'),\n",
              " ('phrases and snippets taken out of context',\n",
              "  'मूल प्रसंग से उठाकर वाक्यांशों कों तोड़मरोड़ कर'),\n",
              " ('as long as the citys putting out notices like this',\n",
              "  'जब तक शहर की सरकार ऐसे नोटिस निकालती रहेगी'),\n",
              " ('सर घुमाने के लिए जब भी कोई स्वर बदलता है',\n",
              "  'और हम उन्हें प्रशिक्षित करते हैं अपने'),\n",
              " ('to increase the density of the communities around us',\n",
              "  'हमारे आस पास के समुदायों की सघनता बढ़ाना'),\n",
              " ('then learning emerges', 'फिर सीखना उभरता हैं।'),\n",
              " ('thats not necessarily a bad unintended consequence',\n",
              "  'यह निश्चित रूप से गंदे अनपेक्षित परिणाम नहीं हैं'),\n",
              " ('however as far as i know all the species have evolved to actually die',\n",
              "  'लेकिन जहां तक मैं जानता हूं सभी नस्लें अस्ली में मरने के लिए ही विकसित हुई हैं'),\n",
              " ('we know that online criminals', 'हम जानते हैं कि ऑनलाइन अपराधि'),\n",
              " ('this is one of the largest underground labs in the world',\n",
              "  'यह विश्व की अधिकत्तम गहराइ की भूमिगत प्रयोगशालाओं में से एक है ।'),\n",
              " ('what socrates called “the examined life”',\n",
              "  'जो सोक्रेट्स ने कहा है “परीक्षित जीवन”'),\n",
              " ('everyones watching preity zinta', 'सभी प्रीति जिंटा कि ओर देख रहे हैं'),\n",
              " ...]"
            ]
          },
          "metadata": {
            "tags": []
          },
          "execution_count": 51
        }
      ]
    },
    {
      "cell_type": "markdown",
      "metadata": {
        "id": "ZiQHmuNigoPD"
      },
      "source": [
        "###Converting the list into DataFrame"
      ]
    },
    {
      "cell_type": "code",
      "metadata": {
        "id": "0jOSMFzVcq0x"
      },
      "source": [
        "data = pd.DataFrame(clean1)\n",
        "data.columns = ['English', 'Hindi']"
      ],
      "execution_count": null,
      "outputs": []
    },
    {
      "cell_type": "code",
      "metadata": {
        "id": "TJAOJzkdgP3C"
      },
      "source": [
        "data['Hindi'] = data['Hindi'].apply(lambda x : 'Start_ '+ x + ' _End')   # Adding start and end to sentence"
      ],
      "execution_count": null,
      "outputs": []
    },
    {
      "cell_type": "code",
      "metadata": {
        "colab": {
          "base_uri": "https://localhost:8080/",
          "height": 202
        },
        "id": "b-hcP5WBc-Em",
        "outputId": "bec6ec98-a5e1-41bc-de0d-35523e9cdde5"
      },
      "source": [
        "data.head()"
      ],
      "execution_count": null,
      "outputs": [
        {
          "output_type": "execute_result",
          "data": {
            "text/html": [
              "<div>\n",
              "<style scoped>\n",
              "    .dataframe tbody tr th:only-of-type {\n",
              "        vertical-align: middle;\n",
              "    }\n",
              "\n",
              "    .dataframe tbody tr th {\n",
              "        vertical-align: top;\n",
              "    }\n",
              "\n",
              "    .dataframe thead th {\n",
              "        text-align: right;\n",
              "    }\n",
              "</style>\n",
              "<table border=\"1\" class=\"dataframe\">\n",
              "  <thead>\n",
              "    <tr style=\"text-align: right;\">\n",
              "      <th></th>\n",
              "      <th>English</th>\n",
              "      <th>Hindi</th>\n",
              "    </tr>\n",
              "  </thead>\n",
              "  <tbody>\n",
              "    <tr>\n",
              "      <th>0</th>\n",
              "      <td>politicians do not have permission to do what ...</td>\n",
              "      <td>Start_ राजनीतिज्ञों के पास जो कार्य करना चाहिए...</td>\n",
              "    </tr>\n",
              "    <tr>\n",
              "      <th>1</th>\n",
              "      <td>id like to tell you about one such child</td>\n",
              "      <td>Start_ मई आपको ऐसे ही एक बच्चे के बारे में बता...</td>\n",
              "    </tr>\n",
              "    <tr>\n",
              "      <th>2</th>\n",
              "      <td>what we really mean is that theyre bad at not ...</td>\n",
              "      <td>Start_ हम ये नहीं कहना चाहते कि वो ध्यान नहीं ...</td>\n",
              "    </tr>\n",
              "    <tr>\n",
              "      <th>3</th>\n",
              "      <td>and who are we to say even that they are wrong</td>\n",
              "      <td>Start_ और हम होते कौन हैं यह कहने भी वाले कि व...</td>\n",
              "    </tr>\n",
              "    <tr>\n",
              "      <th>4</th>\n",
              "      <td>so there is some sort of justice</td>\n",
              "      <td>Start_ तो वहाँ न्याय है _End</td>\n",
              "    </tr>\n",
              "  </tbody>\n",
              "</table>\n",
              "</div>"
            ],
            "text/plain": [
              "                                             English                                              Hindi\n",
              "0  politicians do not have permission to do what ...  Start_ राजनीतिज्ञों के पास जो कार्य करना चाहिए...\n",
              "1           id like to tell you about one such child  Start_ मई आपको ऐसे ही एक बच्चे के बारे में बता...\n",
              "2  what we really mean is that theyre bad at not ...  Start_ हम ये नहीं कहना चाहते कि वो ध्यान नहीं ...\n",
              "3     and who are we to say even that they are wrong  Start_ और हम होते कौन हैं यह कहने भी वाले कि व...\n",
              "4                   so there is some sort of justice                       Start_ तो वहाँ न्याय है _End"
            ]
          },
          "metadata": {
            "tags": []
          },
          "execution_count": 54
        }
      ]
    },
    {
      "cell_type": "code",
      "metadata": {
        "colab": {
          "base_uri": "https://localhost:8080/",
          "height": 202
        },
        "id": "UHU834Pyc_-P",
        "outputId": "3c791818-081b-487a-e536-d956fe056a41"
      },
      "source": [
        "data.tail()"
      ],
      "execution_count": null,
      "outputs": [
        {
          "output_type": "execute_result",
          "data": {
            "text/html": [
              "<div>\n",
              "<style scoped>\n",
              "    .dataframe tbody tr th:only-of-type {\n",
              "        vertical-align: middle;\n",
              "    }\n",
              "\n",
              "    .dataframe tbody tr th {\n",
              "        vertical-align: top;\n",
              "    }\n",
              "\n",
              "    .dataframe thead th {\n",
              "        text-align: right;\n",
              "    }\n",
              "</style>\n",
              "<table border=\"1\" class=\"dataframe\">\n",
              "  <thead>\n",
              "    <tr style=\"text-align: right;\">\n",
              "      <th></th>\n",
              "      <th>English</th>\n",
              "      <th>Hindi</th>\n",
              "    </tr>\n",
              "  </thead>\n",
              "  <tbody>\n",
              "    <tr>\n",
              "      <th>38798</th>\n",
              "      <td>because when you are a developing country</td>\n",
              "      <td>Start_ क्योंकि जब आप एक विकासशील देश हैं _End</td>\n",
              "    </tr>\n",
              "    <tr>\n",
              "      <th>38799</th>\n",
              "      <td>is if we want that to become our reality</td>\n",
              "      <td>Start_ अगर हम चाहते हैं कि यह वास्तविकता बने _End</td>\n",
              "    </tr>\n",
              "    <tr>\n",
              "      <th>38800</th>\n",
              "      <td>africa has not done bad</td>\n",
              "      <td>Start_ अफ़्रीका ने कुछ गलती नहीं की है। _End</td>\n",
              "    </tr>\n",
              "    <tr>\n",
              "      <th>38801</th>\n",
              "      <td>and put it in our cheeks</td>\n",
              "      <td>Start_ और अपने गालों में डाल लेते हैं। _End</td>\n",
              "    </tr>\n",
              "    <tr>\n",
              "      <th>38802</th>\n",
              "      <td>theyve just won four government contracts to b...</td>\n",
              "      <td>Start_ हाल ही में उन्हें सरकारी ठेका मिला है क...</td>\n",
              "    </tr>\n",
              "  </tbody>\n",
              "</table>\n",
              "</div>"
            ],
            "text/plain": [
              "                                                 English                                              Hindi\n",
              "38798          because when you are a developing country      Start_ क्योंकि जब आप एक विकासशील देश हैं _End\n",
              "38799           is if we want that to become our reality  Start_ अगर हम चाहते हैं कि यह वास्तविकता बने _End\n",
              "38800                            africa has not done bad       Start_ अफ़्रीका ने कुछ गलती नहीं की है। _End\n",
              "38801                           and put it in our cheeks        Start_ और अपने गालों में डाल लेते हैं। _End\n",
              "38802  theyve just won four government contracts to b...  Start_ हाल ही में उन्हें सरकारी ठेका मिला है क..."
            ]
          },
          "metadata": {
            "tags": []
          },
          "execution_count": 55
        }
      ]
    },
    {
      "cell_type": "markdown",
      "metadata": {
        "id": "xnP8oHFDmMbg"
      },
      "source": [
        "###Calculating unique words"
      ]
    },
    {
      "cell_type": "code",
      "metadata": {
        "id": "iBSGGq2sk-cb"
      },
      "source": [
        "def words(value):\n",
        "  set1 = set()\n",
        "  for j in value:\n",
        "    for i in j.split():\n",
        "      if i not in set1:\n",
        "        set1.add(i)\n",
        "  return set1"
      ],
      "execution_count": null,
      "outputs": []
    },
    {
      "cell_type": "code",
      "metadata": {
        "id": "NG4Jt56atASX"
      },
      "source": [
        "eng = words(data['English'])\n",
        "hindi = words(data['Hindi'])"
      ],
      "execution_count": null,
      "outputs": []
    },
    {
      "cell_type": "code",
      "metadata": {
        "colab": {
          "base_uri": "https://localhost:8080/"
        },
        "id": "s5I_ZSSPlSCx",
        "outputId": "8bf85c59-68cb-4fcf-842e-c1f98409ad3d"
      },
      "source": [
        "eng_vocab = len(words(data['English']))\n",
        "eng_vocab"
      ],
      "execution_count": null,
      "outputs": [
        {
          "output_type": "execute_result",
          "data": {
            "text/plain": [
              "17459"
            ]
          },
          "metadata": {
            "tags": []
          },
          "execution_count": 58
        }
      ]
    },
    {
      "cell_type": "code",
      "metadata": {
        "colab": {
          "base_uri": "https://localhost:8080/"
        },
        "id": "0fhQvCJwmFTQ",
        "outputId": "c96d7982-5054-4417-b642-8d64c77a8148"
      },
      "source": [
        "hindi_vocab = len(words(data['Hindi']))\n",
        "hindi_vocab"
      ],
      "execution_count": null,
      "outputs": [
        {
          "output_type": "execute_result",
          "data": {
            "text/plain": [
              "22306"
            ]
          },
          "metadata": {
            "tags": []
          },
          "execution_count": 59
        }
      ]
    },
    {
      "cell_type": "markdown",
      "metadata": {
        "id": "0sJFjdNepOXN"
      },
      "source": [
        "###Finding maximum length of string (on total number of words)"
      ]
    },
    {
      "cell_type": "markdown",
      "metadata": {
        "id": "ssu9OHvGiGAw"
      },
      "source": [
        "English"
      ]
    },
    {
      "cell_type": "code",
      "metadata": {
        "colab": {
          "base_uri": "https://localhost:8080/"
        },
        "id": "vVcE8yzfmdSl",
        "outputId": "0adffac0-df9f-453f-8db7-dfb4d41cf340"
      },
      "source": [
        "count1 = []\n",
        "for i in range(len(data['Hindi'])):\n",
        "  count1.append(len((data['English'][i]).split()))\n",
        "max_input_length = max(count1)\n",
        "max_input_length"
      ],
      "execution_count": null,
      "outputs": [
        {
          "output_type": "execute_result",
          "data": {
            "text/plain": [
              "21"
            ]
          },
          "metadata": {
            "tags": []
          },
          "execution_count": 60
        }
      ]
    },
    {
      "cell_type": "markdown",
      "metadata": {
        "id": "lg5OJ6dfqt1S"
      },
      "source": [
        "Hindi"
      ]
    },
    {
      "cell_type": "code",
      "metadata": {
        "colab": {
          "base_uri": "https://localhost:8080/"
        },
        "id": "oywWG4BqqjgN",
        "outputId": "c7f38c94-4353-48d1-fb35-931cd8d53991"
      },
      "source": [
        "count2 = []\n",
        "for i in range(len(data['English'])):\n",
        "  count2.append(len((data['Hindi'][i]).split()))\n",
        "max_output_length = max(count2)\n",
        "max_output_length"
      ],
      "execution_count": null,
      "outputs": [
        {
          "output_type": "execute_result",
          "data": {
            "text/plain": [
              "32"
            ]
          },
          "metadata": {
            "tags": []
          },
          "execution_count": 61
        }
      ]
    },
    {
      "cell_type": "code",
      "metadata": {
        "colab": {
          "base_uri": "https://localhost:8080/",
          "height": 281
        },
        "id": "pU1XCIERosYS",
        "outputId": "1f057d3b-ec51-4902-d879-5318dfcf9e56"
      },
      "source": [
        "graph = pd.DataFrame({'English':count1, 'Hindi':count2})\n",
        "graph.hist(bins = 20)\n",
        "plt.show()"
      ],
      "execution_count": null,
      "outputs": [
        {
          "output_type": "display_data",
          "data": {
            "image/png": "[encoded data removed]",
            "text/plain": [
              "<Figure size 432x288 with 2 Axes>"
            ]
          },
          "metadata": {
            "tags": [],
            "needs_background": "light"
          }
        }
      ]
    },
    {
      "cell_type": "markdown",
      "metadata": {
        "id": "GZ7Y3-B3p1_y"
      },
      "source": [
        "The maximum length in English Dataset is 21"
      ]
    },
    {
      "cell_type": "markdown",
      "metadata": {
        "id": "FwdgoBnOp7P9"
      },
      "source": [
        "The maximum length in Hindi Dataset is 31.\n"
      ]
    },
    {
      "cell_type": "code",
      "metadata": {
        "colab": {
          "base_uri": "https://localhost:8080/"
        },
        "id": "aQMN6SfqjMTh",
        "outputId": "20a9d6d8-20c9-454e-8e01-4c4aa8e8675d"
      },
      "source": [
        "X, y = data['English'], data['Hindi']\n",
        "X_train, X_test, y_train, y_test = train_test_split(X, y, test_size = 0.15)\n",
        "X_train.shape, X_test.shape"
      ],
      "execution_count": null,
      "outputs": [
        {
          "output_type": "execute_result",
          "data": {
            "text/plain": [
              "((32982,), (5821,))"
            ]
          },
          "metadata": {
            "tags": []
          },
          "execution_count": 63
        }
      ]
    },
    {
      "cell_type": "markdown",
      "metadata": {
        "id": "WUP-XbBDLf-z"
      },
      "source": [
        "Making a dictionary of words to index"
      ]
    },
    {
      "cell_type": "code",
      "metadata": {
        "id": "hGvQdE4ErcpJ",
        "colab": {
          "base_uri": "https://localhost:8080/"
        },
        "outputId": "3a928fd8-0163-4e54-d263-2f7cb549f729"
      },
      "source": [
        "input_token_index = dict([(word, i+1) for i, word in enumerate(sorted(list(eng)))])                # starting from i+1 i.e. 1 because 0 for padding\n",
        "target_token_index = dict([(word, i+1) for i, word in enumerate(sorted(list(hindi)))])\n",
        "list(input_token_index.keys())[155],list(input_token_index.values())[155], list(target_token_index.keys())[1200], list(target_token_index.values())[1200]"
      ],
      "execution_count": null,
      "outputs": [
        {
          "output_type": "execute_result",
          "data": {
            "text/plain": [
              "('abstract', 156, 'अफ़्रीकावासी', 1201)"
            ]
          },
          "metadata": {
            "tags": []
          },
          "execution_count": 86
        }
      ]
    },
    {
      "cell_type": "markdown",
      "metadata": {
        "id": "1OiVsCE2Ll1K"
      },
      "source": [
        "Making a dictionary of index to words"
      ]
    },
    {
      "cell_type": "code",
      "metadata": {
        "colab": {
          "base_uri": "https://localhost:8080/"
        },
        "id": "tcuznTBA-4Kv",
        "outputId": "07dad281-7fdb-4875-b461-2b2ce1e715b4"
      },
      "source": [
        "rev_input_token_index = dict([(i+1, word) for i, word in enumerate(sorted(list(eng)))])               \n",
        "rev_target_token_index = dict([(i+1, word) for i, word in enumerate(sorted(list(hindi)))])\n",
        "list(rev_input_token_index.keys())[155],list(rev_input_token_index.values())[155], list(rev_target_token_index.keys())[1200], list(rev_target_token_index.values())[1200]"
      ],
      "execution_count": null,
      "outputs": [
        {
          "output_type": "execute_result",
          "data": {
            "text/plain": [
              "(156, 'abstract', 1201, 'अफ़्रीकावासी')"
            ]
          },
          "metadata": {
            "tags": []
          },
          "execution_count": 87
        }
      ]
    },
    {
      "cell_type": "markdown",
      "metadata": {
        "id": "y_83wKvsNeMG"
      },
      "source": [
        "Generating encoder input, decoder input, decoder target. This invaolves padding since we are using numpy arrays."
      ]
    },
    {
      "cell_type": "code",
      "metadata": {
        "id": "yEUtwsPgpsqX"
      },
      "source": [
        "def generate_batch(X = X_train, y = y_train, batch_size = batch_size):\n",
        "    \n",
        "    while True:       # to loop with increment in batches\n",
        "\n",
        "        for j in range(0, len(X), batch_size):          # here value of j will be len(X)/batch_size\n",
        "\n",
        "            # Generating numpy arrays\n",
        "            encoder_input_data = np.zeros((batch_size, max_input_length),dtype='float32')   # 2d array with rows= batchsize, col = max_input_length\n",
        "            decoder_input_data = np.zeros((batch_size, max_output_length),dtype='float32')  \n",
        "             \n",
        "            # 3d array because we have to one-hot encode them. \n",
        "            decoder_target_data = np.zeros((batch_size, max_output_length, num_decoder_tokens),dtype='float32')\n",
        "\n",
        "            # this is loop for seperate inputs and output. Using zip to calculate simultaneously for input and output.\n",
        "            for i, (input_text, target_text) in enumerate(zip(X[j:j+batch_size], y[j:j+batch_size])):\n",
        "\n",
        "                for t, word in enumerate(input_text.split()):\n",
        "                    encoder_input_data[i, t] = input_token_index[word] # putting the index of the word at the given position in array.\n",
        "\n",
        "                for t, word in enumerate(target_text.split()):\n",
        "                    if t<len(target_text.split())-1:              # we donot have to include END token, so len-1\n",
        "                        decoder_input_data[i, t] = target_token_index[word] # decoder input seq\n",
        "\n",
        "                    if t>0:        # we donot have to include START token, so t>0\n",
        "                        decoder_target_data[i, t - 1, target_token_index[word]] = 1.\n",
        "            yield([encoder_input_data, decoder_input_data], decoder_target_data)"
      ],
      "execution_count": null,
      "outputs": []
    },
    {
      "cell_type": "markdown",
      "metadata": {
        "id": "N8xuF0VLVDNI"
      },
      "source": [
        "##Building the model"
      ]
    },
    {
      "cell_type": "markdown",
      "metadata": {
        "id": "_jhBMdp2YvJo"
      },
      "source": [
        "To make predictions, the final layer of the model will be a dense layer, therefore we need the outputs in the form of one-hot encoded vectors, since we will be using softmax activation function at the dense layer."
      ]
    },
    {
      "cell_type": "code",
      "metadata": {
        "id": "1u42COpIRWhD"
      },
      "source": [
        "latent_dim = 256\n",
        "num_encoder_tokens = eng_vocab +1\n",
        "num_decoder_tokens = hindi_vocab +1"
      ],
      "execution_count": null,
      "outputs": []
    },
    {
      "cell_type": "code",
      "metadata": {
        "id": "vpmjcdllZxzb"
      },
      "source": [
        "encoder_inputs = Input(shape=(None,))\n",
        "embedding_layer = Embedding(num_encoder_tokens, latent_dim)(encoder_inputs)\n",
        "encoder_lstm = LSTM(latent_dim, return_state=True)\n",
        "encoder_outputs, h, c = encoder_lstm(embedding_layer)\n",
        "encoder_states = [h, c]"
      ],
      "execution_count": null,
      "outputs": []
    },
    {
      "cell_type": "code",
      "metadata": {
        "id": "XZUyu50FZ0Ce"
      },
      "source": [
        "decoder_inputs = Input(shape=(None,))\n",
        "decoder_embedding = Embedding(num_decoder_tokens,latent_dim)(decoder_inputs)\n",
        "decoder_lstm = LSTM(latent_dim, return_sequences=True, return_state=True)\n",
        "decoder_outputs, _, _ = decoder_lstm(decoder_embedding, initial_state=encoder_states)"
      ],
      "execution_count": null,
      "outputs": []
    },
    {
      "cell_type": "code",
      "metadata": {
        "id": "xtqm3SY8Z4aX"
      },
      "source": [
        "decoder_dense = Dense(num_decoder_tokens, activation='softmax', )\n",
        "decoder_outputs = decoder_dense(decoder_outputs)"
      ],
      "execution_count": null,
      "outputs": []
    },
    {
      "cell_type": "code",
      "metadata": {
        "id": "ezoj6NtJZ9dF"
      },
      "source": [
        "model = Model([encoder_inputs,decoder_inputs], decoder_outputs)\n",
        "model.compile(\n",
        "    optimizer='rmsprop',\n",
        "    loss='categorical_crossentropy',\n",
        "    metrics=['accuracy']\n",
        ")"
      ],
      "execution_count": null,
      "outputs": []
    },
    {
      "cell_type": "code",
      "metadata": {
        "colab": {
          "base_uri": "https://localhost:8080/"
        },
        "id": "kUwojDNXhH__",
        "outputId": "411b066d-dccb-47ec-f624-183f1962e8cd"
      },
      "source": [
        "model.summary()"
      ],
      "execution_count": null,
      "outputs": [
        {
          "output_type": "stream",
          "text": [
            "Model: \"model_1\"\n",
            "__________________________________________________________________________________________________\n",
            "Layer (type)                    Output Shape         Param #     Connected to                     \n",
            "==================================================================================================\n",
            "input_5 (InputLayer)            [(None, None)]       0                                            \n",
            "__________________________________________________________________________________________________\n",
            "input_6 (InputLayer)            [(None, None)]       0                                            \n",
            "__________________________________________________________________________________________________\n",
            "embedding_3 (Embedding)         (None, None, 256)    4469760     input_5[0][0]                    \n",
            "__________________________________________________________________________________________________\n",
            "embedding_4 (Embedding)         (None, None, 256)    5710592     input_6[0][0]                    \n",
            "__________________________________________________________________________________________________\n",
            "lstm_3 (LSTM)                   [(None, 256), (None, 525312      embedding_3[0][0]                \n",
            "__________________________________________________________________________________________________\n",
            "lstm_4 (LSTM)                   [(None, None, 256),  525312      embedding_4[0][0]                \n",
            "                                                                 lstm_3[0][1]                     \n",
            "                                                                 lstm_3[0][2]                     \n",
            "__________________________________________________________________________________________________\n",
            "dense_1 (Dense)                 (None, None, 22307)  5732899     lstm_4[0][0]                     \n",
            "==================================================================================================\n",
            "Total params: 16,963,875\n",
            "Trainable params: 16,963,875\n",
            "Non-trainable params: 0\n",
            "__________________________________________________________________________________________________\n"
          ],
          "name": "stdout"
        }
      ]
    },
    {
      "cell_type": "code",
      "metadata": {
        "id": "G9hlvL4Tqwxr"
      },
      "source": [
        "train_samples = len(X_train)\n",
        "val_samples = len(X_test)\n",
        "batch_size = 128\n",
        "epochs = 50"
      ],
      "execution_count": null,
      "outputs": []
    },
    {
      "cell_type": "code",
      "metadata": {
        "id": "Vx7j4OfteU95",
        "colab": {
          "base_uri": "https://localhost:8080/"
        },
        "outputId": "75357a4b-c74e-4903-ae57-52d06d9ebae3"
      },
      "source": [
        "model.fit_generator(generator = generate_batch(X_train, y_train, batch_size = batch_size),\n",
        "                    steps_per_epoch = train_samples//batch_size,\n",
        "                    epochs=epochs,\n",
        "                    validation_data = generate_batch(X_test, y_test, batch_size = batch_size),\n",
        "                    validation_steps = val_samples//batch_size)"
      ],
      "execution_count": null,
      "outputs": [
        {
          "output_type": "stream",
          "text": [
            "/usr/local/lib/python3.7/dist-packages/tensorflow/python/keras/engine/training.py:1844: UserWarning: `Model.fit_generator` is deprecated and will be removed in a future version. Please use `Model.fit`, which supports generators.\n",
            "  warnings.warn('`Model.fit_generator` is deprecated and '\n"
          ],
          "name": "stderr"
        },
        {
          "output_type": "stream",
          "text": [
            "Epoch 1/50\n",
            "257/257 [==============================] - 131s 384ms/step - loss: 2.0997 - accuracy: 0.0339 - val_loss: 1.9867 - val_accuracy: 0.0375\n",
            "Epoch 2/50\n",
            "257/257 [==============================] - 97s 379ms/step - loss: 1.9533 - accuracy: 0.0377 - val_loss: 1.9758 - val_accuracy: 0.0390\n",
            "Epoch 3/50\n",
            "257/257 [==============================] - 96s 373ms/step - loss: 1.9316 - accuracy: 0.0393 - val_loss: 1.9493 - val_accuracy: 0.0406\n",
            "Epoch 4/50\n",
            "257/257 [==============================] - 98s 380ms/step - loss: 1.9068 - accuracy: 0.0408 - val_loss: 1.9423 - val_accuracy: 0.0411\n",
            "Epoch 5/50\n",
            "257/257 [==============================] - 95s 370ms/step - loss: 1.8876 - accuracy: 0.0423 - val_loss: 1.9251 - val_accuracy: 0.0436\n",
            "Epoch 6/50\n",
            "257/257 [==============================] - 96s 374ms/step - loss: 1.8661 - accuracy: 0.0441 - val_loss: 1.9150 - val_accuracy: 0.0445\n",
            "Epoch 7/50\n",
            "257/257 [==============================] - 96s 375ms/step - loss: 1.8454 - accuracy: 0.0455 - val_loss: 1.9030 - val_accuracy: 0.0454\n",
            "Epoch 8/50\n",
            "257/257 [==============================] - 97s 377ms/step - loss: 1.8277 - accuracy: 0.0469 - val_loss: 1.8872 - val_accuracy: 0.0463\n",
            "Epoch 9/50\n",
            "257/257 [==============================] - 97s 376ms/step - loss: 1.8050 - accuracy: 0.0485 - val_loss: 1.8731 - val_accuracy: 0.0484\n",
            "Epoch 10/50\n",
            "257/257 [==============================] - 98s 380ms/step - loss: 1.7812 - accuracy: 0.0506 - val_loss: 1.8559 - val_accuracy: 0.0503\n",
            "Epoch 11/50\n",
            "257/257 [==============================] - 97s 378ms/step - loss: 1.7555 - accuracy: 0.0526 - val_loss: 1.8482 - val_accuracy: 0.0511\n",
            "Epoch 12/50\n",
            "257/257 [==============================] - 99s 384ms/step - loss: 1.7297 - accuracy: 0.0547 - val_loss: 1.8266 - val_accuracy: 0.0530\n",
            "Epoch 13/50\n",
            "257/257 [==============================] - 98s 383ms/step - loss: 1.7046 - accuracy: 0.0565 - val_loss: 1.8157 - val_accuracy: 0.0549\n",
            "Epoch 14/50\n",
            "257/257 [==============================] - 99s 384ms/step - loss: 1.6783 - accuracy: 0.0585 - val_loss: 1.8079 - val_accuracy: 0.0552\n",
            "Epoch 15/50\n",
            "257/257 [==============================] - 99s 387ms/step - loss: 1.6524 - accuracy: 0.0601 - val_loss: 1.7924 - val_accuracy: 0.0570\n",
            "Epoch 16/50\n",
            "257/257 [==============================] - 99s 386ms/step - loss: 1.6262 - accuracy: 0.0618 - val_loss: 1.7828 - val_accuracy: 0.0570\n",
            "Epoch 17/50\n",
            "257/257 [==============================] - 99s 384ms/step - loss: 1.6003 - accuracy: 0.0634 - val_loss: 1.7691 - val_accuracy: 0.0582\n",
            "Epoch 18/50\n",
            "257/257 [==============================] - 99s 386ms/step - loss: 1.5740 - accuracy: 0.0648 - val_loss: 1.7625 - val_accuracy: 0.0595\n",
            "Epoch 19/50\n",
            "257/257 [==============================] - 99s 386ms/step - loss: 1.5455 - accuracy: 0.0662 - val_loss: 1.7467 - val_accuracy: 0.0602\n",
            "Epoch 20/50\n",
            "257/257 [==============================] - 99s 384ms/step - loss: 1.5177 - accuracy: 0.0677 - val_loss: 1.7379 - val_accuracy: 0.0610\n",
            "Epoch 21/50\n",
            "257/257 [==============================] - 99s 386ms/step - loss: 1.4935 - accuracy: 0.0688 - val_loss: 1.7285 - val_accuracy: 0.0619\n",
            "Epoch 22/50\n",
            "257/257 [==============================] - 100s 388ms/step - loss: 1.4669 - accuracy: 0.0704 - val_loss: 1.7204 - val_accuracy: 0.0619\n",
            "Epoch 23/50\n",
            "257/257 [==============================] - 100s 389ms/step - loss: 1.4400 - accuracy: 0.0717 - val_loss: 1.7150 - val_accuracy: 0.0636\n",
            "Epoch 24/50\n",
            "257/257 [==============================] - 99s 387ms/step - loss: 1.4153 - accuracy: 0.0733 - val_loss: 1.7085 - val_accuracy: 0.0634\n",
            "Epoch 25/50\n",
            "257/257 [==============================] - 100s 391ms/step - loss: 1.3898 - accuracy: 0.0748 - val_loss: 1.7027 - val_accuracy: 0.0638\n",
            "Epoch 26/50\n",
            "257/257 [==============================] - 102s 397ms/step - loss: 1.3646 - accuracy: 0.0766 - val_loss: 1.7026 - val_accuracy: 0.0649\n",
            "Epoch 27/50\n",
            "257/257 [==============================] - 100s 390ms/step - loss: 1.3389 - accuracy: 0.0788 - val_loss: 1.6995 - val_accuracy: 0.0650\n",
            "Epoch 28/50\n",
            "257/257 [==============================] - 101s 392ms/step - loss: 1.3177 - accuracy: 0.0807 - val_loss: 1.7024 - val_accuracy: 0.0649\n",
            "Epoch 29/50\n",
            "257/257 [==============================] - 99s 386ms/step - loss: 1.2964 - accuracy: 0.0829 - val_loss: 1.6993 - val_accuracy: 0.0662\n",
            "Epoch 30/50\n",
            "257/257 [==============================] - 100s 390ms/step - loss: 1.2723 - accuracy: 0.0851 - val_loss: 1.7026 - val_accuracy: 0.0659\n",
            "Epoch 31/50\n",
            "257/257 [==============================] - 99s 384ms/step - loss: 1.2507 - accuracy: 0.0869 - val_loss: 1.7008 - val_accuracy: 0.0662\n",
            "Epoch 32/50\n",
            "257/257 [==============================] - 99s 384ms/step - loss: 1.2308 - accuracy: 0.0894 - val_loss: 1.6992 - val_accuracy: 0.0690\n",
            "Epoch 33/50\n",
            "257/257 [==============================] - 100s 388ms/step - loss: 1.2066 - accuracy: 0.0920 - val_loss: 1.7062 - val_accuracy: 0.0689\n",
            "Epoch 34/50\n",
            "257/257 [==============================] - 100s 390ms/step - loss: 1.1866 - accuracy: 0.0941 - val_loss: 1.7102 - val_accuracy: 0.0689\n",
            "Epoch 35/50\n",
            "257/257 [==============================] - 101s 393ms/step - loss: 1.1661 - accuracy: 0.0966 - val_loss: 1.7151 - val_accuracy: 0.0684\n",
            "Epoch 36/50\n",
            "257/257 [==============================] - 101s 395ms/step - loss: 1.1482 - accuracy: 0.0988 - val_loss: 1.7164 - val_accuracy: 0.0692\n",
            "Epoch 37/50\n",
            "257/257 [==============================] - 101s 395ms/step - loss: 1.1274 - accuracy: 0.1009 - val_loss: 1.7257 - val_accuracy: 0.0696\n",
            "Epoch 38/50\n",
            "257/257 [==============================] - 102s 396ms/step - loss: 1.1116 - accuracy: 0.1030 - val_loss: 1.7315 - val_accuracy: 0.0695\n",
            "Epoch 39/50\n",
            "257/257 [==============================] - 103s 401ms/step - loss: 1.0932 - accuracy: 0.1054 - val_loss: 1.7372 - val_accuracy: 0.0700\n",
            "Epoch 40/50\n",
            "257/257 [==============================] - 102s 399ms/step - loss: 1.0757 - accuracy: 0.1073 - val_loss: 1.7420 - val_accuracy: 0.0698\n",
            "Epoch 41/50\n",
            "257/257 [==============================] - 102s 397ms/step - loss: 1.0565 - accuracy: 0.1093 - val_loss: 1.7512 - val_accuracy: 0.0695\n",
            "Epoch 42/50\n",
            "257/257 [==============================] - 101s 393ms/step - loss: 1.0419 - accuracy: 0.1114 - val_loss: 1.7599 - val_accuracy: 0.0695\n",
            "Epoch 43/50\n",
            "257/257 [==============================] - 103s 399ms/step - loss: 1.0263 - accuracy: 0.1137 - val_loss: 1.7715 - val_accuracy: 0.0696\n",
            "Epoch 44/50\n",
            "257/257 [==============================] - 103s 400ms/step - loss: 1.0095 - accuracy: 0.1153 - val_loss: 1.7766 - val_accuracy: 0.0697\n",
            "Epoch 45/50\n",
            "257/257 [==============================] - 102s 398ms/step - loss: 0.9940 - accuracy: 0.1174 - val_loss: 1.7778 - val_accuracy: 0.0691\n",
            "Epoch 46/50\n",
            "257/257 [==============================] - 103s 401ms/step - loss: 0.9809 - accuracy: 0.1195 - val_loss: 1.7912 - val_accuracy: 0.0694\n",
            "Epoch 47/50\n",
            "257/257 [==============================] - 103s 402ms/step - loss: 0.9666 - accuracy: 0.1219 - val_loss: 1.8067 - val_accuracy: 0.0692\n",
            "Epoch 48/50\n",
            "257/257 [==============================] - 101s 392ms/step - loss: 0.9534 - accuracy: 0.1235 - val_loss: 1.8129 - val_accuracy: 0.0691\n",
            "Epoch 49/50\n",
            "257/257 [==============================] - 101s 393ms/step - loss: 0.9372 - accuracy: 0.1257 - val_loss: 1.8180 - val_accuracy: 0.0691\n",
            "Epoch 50/50\n",
            "257/257 [==============================] - 102s 398ms/step - loss: 0.9233 - accuracy: 0.1275 - val_loss: 1.8312 - val_accuracy: 0.0687\n"
          ],
          "name": "stdout"
        },
        {
          "output_type": "execute_result",
          "data": {
            "text/plain": [
              "<tensorflow.python.keras.callbacks.History at 0x7fc650040490>"
            ]
          },
          "metadata": {
            "tags": []
          },
          "execution_count": 0
        }
      ]
    },
    {
      "cell_type": "markdown",
      "metadata": {
        "id": "c-DsbT16SxTj"
      },
      "source": [
        "Fro the Inference Model"
      ]
    },
    {
      "cell_type": "code",
      "metadata": {
        "id": "FUOQ1zSCrrS6"
      },
      "source": [
        "# We call input for both hidden state and cell state \n",
        "decoder_state_input_h = Input(shape=(latent_dim,))\n",
        "decoder_state_input_c = Input(shape=(latent_dim,))\n",
        "decoder_states_inputs = [decoder_state_input_h, decoder_state_input_c]\n",
        "\n",
        "decoder_embedding = Embedding(num_decoder_tokens,latent_dim)\n",
        "dec_emb2 = decoder_embedding(decoder_inputs) # Get the embeddings of the decoder sequence\n",
        "\n",
        "# To predict the next word in the sequence, set the initial states to the states from the previous time step\n",
        "decoder_outputs2, state_h2, state_c2 = decoder_lstm(dec_emb2, initial_state=decoder_states_inputs)\n",
        "decoder_states2 = [state_h2, state_c2]\n",
        "decoder_outputs2 = decoder_dense(decoder_outputs2) # A dense softmax layer to generate prob dist. over the target vocabulary\n",
        "\n",
        "# Final decoder model\n",
        "decoder_model = Model(\n",
        "    inputs  = [decoder_inputs] + decoder_states_inputs,\n",
        "    outputs = [decoder_outputs2] + decoder_states2)\n"
      ],
      "execution_count": null,
      "outputs": []
    },
    {
      "cell_type": "code",
      "metadata": {
        "id": "jF4-X3NDWg5i"
      },
      "source": [
        "encoder_model = Model(encoder_inputs, encoder_states)"
      ],
      "execution_count": null,
      "outputs": []
    },
    {
      "cell_type": "code",
      "metadata": {
        "id": "EdzecOCgB6x2"
      },
      "source": [
        "def decode_sequence(input_seq):\n",
        "    # Encode the input as state vectors.\n",
        "    states_value = encoder_model.predict(input_seq)\n",
        "\n",
        "    # Generate empty target sequence of length 1.\n",
        "    target_seq = np.zeros((1,1))\n",
        "\n",
        "    # Populate the first character of target sequence with the start character.\n",
        "    target_seq[0, 0] = target_token_index['Start_']\n",
        "\n",
        "    # Sampling loop for a batch of sequences\n",
        "    # (to simplify, here we assume a batch of size 1).\n",
        "    stop_condition = False\n",
        "    decoded_sentence = ''\n",
        "    while not stop_condition:                  \n",
        "        output_tokens, h, c = decoder_model.predict([target_seq] + states_value)  # we start the llop, the first value being START, its h state will be predicted\n",
        "                                                                                  # output and input as described above in decoder_model\n",
        "\n",
        "        # Sample a token\n",
        "        sampled_token_index = np.argmax(output_tokens[0, -1, :])                  # this is to return the max index in the z axis, which represents \n",
        "                                                                                  # vocab index axis, to check which index has 1.\n",
        "\n",
        "        sampled_char = rev_target_token_index[sampled_token_index]             # substituting the digit with corresponding character\n",
        "        decoded_sentence += ' '+sampled_char\n",
        "\n",
        "        # Exit condition: either hit max length\n",
        "        # or find stop character.\n",
        "        if (sampled_char == '_End' or\n",
        "           len(decoded_sentence) > 50):\n",
        "            stop_condition = True\n",
        "\n",
        "        # Update the target sequence (of length 1).\n",
        "        target_seq = np.zeros((1,1))\n",
        "        target_seq[0, 0] = sampled_token_index\n",
        "\n",
        "        # Update states\n",
        "        states_value = [h, c]\n",
        "\n",
        "    return decoded_sentence"
      ],
      "execution_count": null,
      "outputs": []
    },
    {
      "cell_type": "code",
      "metadata": {
        "id": "jgfWk3PwCIMf"
      },
      "source": [
        "train_gen = generate_batch(X_train, y_train, batch_size = 1)\n",
        "k=-1"
      ],
      "execution_count": null,
      "outputs": []
    },
    {
      "cell_type": "code",
      "metadata": {
        "id": "W8qYgVvYCKAV",
        "colab": {
          "base_uri": "https://localhost:8080/"
        },
        "outputId": "c6110e17-cd3a-4958-d970-cb124dd83d0c"
      },
      "source": [
        "k+=1\n",
        "(input_seq, actual_output), _ = next(train_gen)\n",
        "decoded_sentence = decode_sequence(input_seq)\n",
        "print('Input English sentence:', X_train[k:k+1].values[0])\n",
        "print('Actual Hindi Translation:', y_train[k:k+1].values[0][6:-4])\n",
        "print('Predicted Hindi Translation:', decoded_sentence[:-4])"
      ],
      "execution_count": null,
      "outputs": [
        {
          "output_type": "stream",
          "text": [
            "Input English sentence: so instead of having starch\n",
            "Actual Hindi Translation:  स्टार्च मादी की जगह \n",
            "Predicted Hindi Translation:  स्टार्च मादी है \n"
          ],
          "name": "stdout"
        }
      ]
    },
    {
      "cell_type": "code",
      "metadata": {
        "id": "LR3XcJSstW2h"
      },
      "source": [
        ""
      ],
      "execution_count": null,
      "outputs": []
    }
  ]
}